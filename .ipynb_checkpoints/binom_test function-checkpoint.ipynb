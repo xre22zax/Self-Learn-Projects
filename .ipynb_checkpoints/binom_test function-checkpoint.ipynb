{
 "cells": [
  {
   "cell_type": "markdown",
   "id": "4e74f867",
   "metadata": {},
   "source": [
    "The observed sample statistic (eg., 41 purchases)\n",
    "The sample size (eg., 500 visitors)\n",
    "The null probability of success (eg., 0.10 probability of a purchase)\n",
    "The function should return a p-value for a one-sided test where the alternative hypothesis is that the true probability of success is LESS THAN the null."
   ]
  },
  {
   "cell_type": "code",
   "execution_count": 2,
   "id": "44fc8181",
   "metadata": {},
   "outputs": [
    {
     "name": "stdout",
     "output_type": "stream",
     "text": [
      "simulation p-value:  0.2514\n",
      "binom_test p-value:  0.254689260562342\n"
     ]
    },
    {
     "name": "stderr",
     "output_type": "stream",
     "text": [
      "C:\\Users\\xre22\\AppData\\Local\\Temp\\ipykernel_16788\\3120028842.py:27: DeprecationWarning: 'binom_test' is deprecated in favour of 'binomtest' from version 1.7.0 and will be removed in Scipy 1.12.0.\n",
      "  p_value2 = binom_test(45, 500, .1, alternative = 'less')\n"
     ]
    }
   ],
   "source": [
    "import numpy as np\n",
    "import pandas as pd\n",
    "from scipy.stats import binom_test\n",
    "\n",
    "def simulation_binomial_test(observed_successes, n, p):\n",
    "  #initialize null_outcomes\n",
    "  null_outcomes = []\n",
    "  \n",
    "  #generate the simulated null distribution\n",
    "  for i in range(10000):\n",
    "    simulated_monthly_visitors = np.random.choice(['y', 'n'], size=n, p=[p, 1-p])\n",
    "    num_purchased = np.sum(simulated_monthly_visitors == 'y')\n",
    "    null_outcomes.append(num_purchased)\n",
    "\n",
    "  #calculate a 1-sided p-value\n",
    "  null_outcomes = np.array(null_outcomes)\n",
    "  p_value = np.sum(null_outcomes <= observed_successes)/len(null_outcomes) \n",
    "  \n",
    "  #return the p-value\n",
    "  return p_value\n",
    "\n",
    "# Test your function below by uncommenting the code below. You should see that your simulation function gives you a very similar answer to the binom_test function from scipy:\n",
    "\n",
    "p_value1 = simulation_binomial_test(45, 500, .1)\n",
    "print(\"simulation p-value: \", p_value1)\n",
    "\n",
    "p_value2 = binom_test(45, 500, .1, alternative = 'less')\n",
    "print(\"binom_test p-value: \", p_value2)"
   ]
  },
  {
   "cell_type": "code",
   "execution_count": null,
   "id": "6511e45b",
   "metadata": {},
   "outputs": [],
   "source": []
  }
 ],
 "metadata": {
  "kernelspec": {
   "display_name": "Python 3 (ipykernel)",
   "language": "python",
   "name": "python3"
  },
  "language_info": {
   "codemirror_mode": {
    "name": "ipython",
    "version": 3
   },
   "file_extension": ".py",
   "mimetype": "text/x-python",
   "name": "python",
   "nbconvert_exporter": "python",
   "pygments_lexer": "ipython3",
   "version": "3.11.3"
  }
 },
 "nbformat": 4,
 "nbformat_minor": 5
}
