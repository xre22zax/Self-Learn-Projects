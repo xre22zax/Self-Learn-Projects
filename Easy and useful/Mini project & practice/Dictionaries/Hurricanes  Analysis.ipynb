{
 "cells": [
  {
   "cell_type": "markdown",
   "id": "58875e7a",
   "metadata": {},
   "source": [
    "# Hurricane Analysis"
   ]
  },
  {
   "cell_type": "markdown",
   "id": "52f01f07",
   "metadata": {},
   "source": [
    "#### Project Goals"
   ]
  },
  {
   "cell_type": "markdown",
   "id": "d9d06c43",
   "metadata": {},
   "source": [
    "You will work to write several functions that organize and manipulate data about Category 5 Hurricanes, the strongest hurricanes as rated by their wind speed. Each one of these functions will use a number of parameters, conditionals, lists, dictionaries, string manipulation, and return statements."
   ]
  },
  {
   "cell_type": "markdown",
   "id": "1e924903",
   "metadata": {},
   "source": [
    "## Project Requirements"
   ]
  },
  {
   "cell_type": "markdown",
   "id": "35d6f74d",
   "metadata": {},
   "source": [
    "1. Hurricanes, also known as cyclones or typhoons, are one of the most powerful forces of nature on Earth. Due to climate change caused by human activity, the number and intensity of hurricanes has risen, calling for better preparation by the many communities that are devastated by them. As a concerned environmentalist, you want to look at data about the most powerful hurricanes that have occured. \n",
    "\n",
    "   Begin by looking at the `damages` list. The list contains strings representing the total cost in USD(`$`) caused by `34` category 5 hurricanes (wind speeds $\\ge$ 157 mph (252 km/h)) in the Atlantic region. For some of the hurricanes, damage data was not recorded (`\"Damages not recorded\"`), while the rest are written in the format `\"Prefix-B/M\"`, where `B` stands for billions (`1000000000`) and `M` stands for millions (`1000000`)."
   ]
  },
  {
   "cell_type": "code",
   "execution_count": 22,
   "id": "d8d3c50b",
   "metadata": {},
   "outputs": [
    {
     "name": "stdout",
     "output_type": "stream",
     "text": [
      "['Damages not recorded', 100000000.0, 'Damages not recorded', 40000000.0, 27900000.0, 5000000.0, 'Damages not recorded', 306000000.0, 2000000.0, 65800000.0, 326000000.0, 60300000.0, 208000000.0, 1420000000.0, 25400000.0, 'Damages not recorded', 1540000000.0, 1240000000.0, 7100000000.0, 10000000000.0, 26500000000.0, 6200000000.0, 5370000000.0, 23300000000.0, 1010000000.0, 125000000000.0, 12000000000.0, 29400000000.0, 1760000000.0, 720000000.0, 15100000000.0, 64800000000.0, 91600000000.0, 25100000000.0]\n"
     ]
    }
   ],
   "source": [
    "damages = ['Damages not recorded', '100M', 'Damages not recorded', '40M',\n",
    "          '27.9M', '5M', 'Damages not recorded', '306M', '2M', '65.8M',\n",
    "          '326M', '60.3M', '208M', '1.42B', '25.4M', 'Damages not recorded',\n",
    "          '1.54B', '1.24B', '7.1B', '10B', '26.5B', '6.2B', '5.37B', '23.3B',\n",
    "          '1.01B', '125B', '12B', '29.4B', '1.76B', '720M', '15.1B', '64.8B',\n",
    "          '91.6B', '25.1B']\n",
    "\n",
    "\n",
    "def convert_damages_data(damages):\n",
    "    conversion = {\"M\": 1000000,\n",
    "                \"B\": 1000000000}\n",
    "\n",
    "    updated_damages = []\n",
    "    for item in damages:\n",
    "        if item == 'Damages not recorded':\n",
    "             updated_damages.append(item)\n",
    "        if item.find(\"M\") > 0 :\n",
    "            m1 = float(item[:-1])\n",
    "            m = m1*conversion.get(\"M\")\n",
    "            updated_damages.append(m)\n",
    "        if item.find(\"B\") > 0:\n",
    "            b1 = float(item[:-1])\n",
    "            b = b1*conversion.get(\"B\")\n",
    "            updated_damages.append(b)\n",
    "    return updated_damages\n",
    "\n",
    "updated_damages = convert_damages_data(damages)\n",
    "print(updated_damages)"
   ]
  },
  {
   "cell_type": "markdown",
   "id": "36ac47b6",
   "metadata": {},
   "source": [
    "2. Additional data collected on the `34` strongest Atlantic hurricanes are provided in a series of lists. The data includes:\n",
    "   - `names`: names of the hurricanes\n",
    "   - `months`: months in which the hurricanes occurred\n",
    "   - `years`: years in which the hurricanes occurred\n",
    "   - `max_sustained_winds`: maximum sustained winds (miles per hour) of the hurricanes\n",
    "   - `areas_affected`: list of different areas affected by each of the hurricanes\n",
    "   - `deaths`: total number of deaths caused by each of the hurricanes\n",
    "   \n",
    "   The data is organized such that the data at each index, from `0` to `33`, corresponds to the same hurricane.\n",
    "   \n",
    "   For example, `names[0]` yields the \"Cuba I\" hurricane, which occurred in `months[0]` (October) `years[0]` (1924).\n",
    "   \n",
    "   Write a function that constructs a dictionary made out of the lists, where the keys of the dictionary are the names of the hurricanes, and the values are dictionaries themselves containing a key for each piece of data (`Name`, `Month`, `Year`, `Max Sustained Wind`, `Areas Affected`, `Damage`, `Death`) about the hurricane."
   ]
  },
  {
   "cell_type": "code",
   "execution_count": 3,
   "id": "641aa113",
   "metadata": {},
   "outputs": [],
   "source": [
    "# names of hurricanes\n",
    "names = ['Cuba I', 'San Felipe II Okeechobee', 'Bahamas', 'Cuba II', 'CubaBrownsville', 'Tampico', 'Labor Day', 'New England', 'Carol', 'Janet', 'Carla', 'Hattie', 'Beulah', 'Camille', 'Edith', 'Anita', 'David', 'Allen', 'Gilbert', 'Hugo', 'Andrew', 'Mitch', 'Isabel', 'Ivan', 'Emily', 'Katrina', 'Rita', 'Wilma', 'Dean', 'Felix', 'Matthew', 'Irma', 'Maria', 'Michael']\n",
    "\n",
    "# months of hurricanes\n",
    "months = ['October', 'September', 'September', 'November', 'August', 'September', 'September', 'September', 'September', 'September', 'September', 'October', 'September', 'August', 'September', 'September', 'August', 'August', 'September', 'September', 'August', 'October', 'September', 'September', 'July', 'August', 'September', 'October', 'August', 'September', 'October', 'September', 'September', 'October']\n",
    "\n",
    "# years of hurricanes\n",
    "years = [1924, 1928, 1932, 1932, 1933, 1933, 1935, 1938, 1953, 1955, 1961, 1961, 1967, 1969, 1971, 1977, 1979, 1980, 1988, 1989, 1992, 1998, 2003, 2004, 2005, 2005, 2005, 2005, 2007, 2007, 2016, 2017, 2017, 2018]\n",
    "\n",
    "# maximum sustained winds (mph) of hurricanes\n",
    "max_sustained_winds = [165, 160, 160, 175, 160, 160, 185, 160, 160, 175, 175, 160, 160, 175, 160, 175, 175, 190, 185, 160, 175, 180, 165, 165, 160, 175, 180, 185, 175, 175, 165, 180, 175, 160]\n",
    "\n",
    "# areas affected by each hurricane\n",
    "areas_affected = [['Central America', 'Mexico', 'Cuba', 'Florida', 'The Bahamas'], ['Lesser Antilles', 'The Bahamas', 'United States East Coast', 'Atlantic Canada'], ['The Bahamas', 'Northeastern United States'], ['Lesser Antilles', 'Jamaica', 'Cayman Islands', 'Cuba', 'The Bahamas', 'Bermuda'], ['The Bahamas', 'Cuba', 'Florida', 'Texas', 'Tamaulipas'], ['Jamaica', 'Yucatn Peninsula'], ['The Bahamas', 'Florida', 'Georgia', 'The Carolinas', 'Virginia'], ['Southeastern United States', 'Northeastern United States', 'Southwestern Quebec'], ['Bermuda', 'New England', 'Atlantic Canada'], ['Lesser Antilles', 'Central America'], ['Texas', 'Louisiana', 'Midwestern United States'], ['Central America'], ['The Caribbean', 'Mexico', 'Texas'], ['Cuba', 'United States Gulf Coast'], ['The Caribbean', 'Central America', 'Mexico', 'United States Gulf Coast'], ['Mexico'], ['The Caribbean', 'United States East coast'], ['The Caribbean', 'Yucatn Peninsula', 'Mexico', 'South Texas'], ['Jamaica', 'Venezuela', 'Central America', 'Hispaniola', 'Mexico'], ['The Caribbean', 'United States East Coast'], ['The Bahamas', 'Florida', 'United States Gulf Coast'], ['Central America', 'Yucatn Peninsula', 'South Florida'], ['Greater Antilles', 'Bahamas', 'Eastern United States', 'Ontario'], ['The Caribbean', 'Venezuela', 'United States Gulf Coast'], ['Windward Islands', 'Jamaica', 'Mexico', 'Texas'], ['Bahamas', 'United States Gulf Coast'], ['Cuba', 'United States Gulf Coast'], ['Greater Antilles', 'Central America', 'Florida'], ['The Caribbean', 'Central America'], ['Nicaragua', 'Honduras'], ['Antilles', 'Venezuela', 'Colombia', 'United States East Coast', 'Atlantic Canada'], ['Cape Verde', 'The Caribbean', 'British Virgin Islands', 'U.S. Virgin Islands', 'Cuba', 'Florida'], ['Lesser Antilles', 'Virgin Islands', 'Puerto Rico', 'Dominican Republic', 'Turks and Caicos Islands'], ['Central America', 'United States Gulf Coast (especially Florida Panhandle)']]\n",
    "\n",
    "# damages (USD($)) of hurricanes\n",
    "damages = ['Damages not recorded', '100M', 'Damages not recorded', '40M', '27.9M', '5M', 'Damages not recorded', '306M', '2M', '65.8M', '326M', '60.3M', '208M', '1.42B', '25.4M', 'Damages not recorded', '1.54B', '1.24B', '7.1B', '10B', '26.5B', '6.2B', '5.37B', '23.3B', '1.01B', '125B', '12B', '29.4B', '1.76B', '720M', '15.1B', '64.8B', '91.6B', '25.1B']\n",
    "\n",
    "# deaths for each hurricane\n",
    "deaths = [90,4000,16,3103,179,184,408,682,5,1023,43,319,688,259,37,11,2068,269,318,107,65,19325,51,124,17,1836,125,87,45,133,603,138,3057,74]"
   ]
  },
  {
   "cell_type": "code",
   "execution_count": 21,
   "id": "4714e722",
   "metadata": {},
   "outputs": [
    {
     "name": "stdout",
     "output_type": "stream",
     "text": [
      "{'Cuba I': {'Name': 'Cuba I', 'Month': 'October', 'Year': 1924, 'Max sustained winds': 165, 'Areas affected': ['Central America', 'Mexico', 'Cuba', 'Florida', 'The Bahamas'], 'Damages': 'Damages not recorded', 'Deaths': 90}, 'San Felipe II Okeechobee': {'Name': 'San Felipe II Okeechobee', 'Month': 'September', 'Year': 1928, 'Max sustained winds': 160, 'Areas affected': ['Lesser Antilles', 'The Bahamas', 'United States East Coast', 'Atlantic Canada'], 'Damages': 100000000.0, 'Deaths': 4000}, 'Bahamas': {'Name': 'Bahamas', 'Month': 'September', 'Year': 1932, 'Max sustained winds': 160, 'Areas affected': ['The Bahamas', 'Northeastern United States'], 'Damages': 'Damages not recorded', 'Deaths': 16}, 'Cuba II': {'Name': 'Cuba II', 'Month': 'November', 'Year': 1932, 'Max sustained winds': 175, 'Areas affected': ['Lesser Antilles', 'Jamaica', 'Cayman Islands', 'Cuba', 'The Bahamas', 'Bermuda'], 'Damages': 40000000.0, 'Deaths': 3103}, 'CubaBrownsville': {'Name': 'CubaBrownsville', 'Month': 'August', 'Year': 1933, 'Max sustained winds': 160, 'Areas affected': ['The Bahamas', 'Cuba', 'Florida', 'Texas', 'Tamaulipas'], 'Damages': 27900000.0, 'Deaths': 179}, 'Tampico': {'Name': 'Tampico', 'Month': 'September', 'Year': 1933, 'Max sustained winds': 160, 'Areas affected': ['Jamaica', 'Yucatn Peninsula'], 'Damages': 5000000.0, 'Deaths': 184}, 'Labor Day': {'Name': 'Labor Day', 'Month': 'September', 'Year': 1935, 'Max sustained winds': 185, 'Areas affected': ['The Bahamas', 'Florida', 'Georgia', 'The Carolinas', 'Virginia'], 'Damages': 'Damages not recorded', 'Deaths': 408}, 'New England': {'Name': 'New England', 'Month': 'September', 'Year': 1938, 'Max sustained winds': 160, 'Areas affected': ['Southeastern United States', 'Northeastern United States', 'Southwestern Quebec'], 'Damages': 306000000.0, 'Deaths': 682}, 'Carol': {'Name': 'Carol', 'Month': 'September', 'Year': 1953, 'Max sustained winds': 160, 'Areas affected': ['Bermuda', 'New England', 'Atlantic Canada'], 'Damages': 2000000.0, 'Deaths': 5}, 'Janet': {'Name': 'Janet', 'Month': 'September', 'Year': 1955, 'Max sustained winds': 175, 'Areas affected': ['Lesser Antilles', 'Central America'], 'Damages': 65800000.0, 'Deaths': 1023}, 'Carla': {'Name': 'Carla', 'Month': 'September', 'Year': 1961, 'Max sustained winds': 175, 'Areas affected': ['Texas', 'Louisiana', 'Midwestern United States'], 'Damages': 326000000.0, 'Deaths': 43}, 'Hattie': {'Name': 'Hattie', 'Month': 'October', 'Year': 1961, 'Max sustained winds': 160, 'Areas affected': ['Central America'], 'Damages': 60300000.0, 'Deaths': 319}, 'Beulah': {'Name': 'Beulah', 'Month': 'September', 'Year': 1967, 'Max sustained winds': 160, 'Areas affected': ['The Caribbean', 'Mexico', 'Texas'], 'Damages': 208000000.0, 'Deaths': 688}, 'Camille': {'Name': 'Camille', 'Month': 'August', 'Year': 1969, 'Max sustained winds': 175, 'Areas affected': ['Cuba', 'United States Gulf Coast'], 'Damages': 1420000000.0, 'Deaths': 259}, 'Edith': {'Name': 'Edith', 'Month': 'September', 'Year': 1971, 'Max sustained winds': 160, 'Areas affected': ['The Caribbean', 'Central America', 'Mexico', 'United States Gulf Coast'], 'Damages': 25400000.0, 'Deaths': 37}, 'Anita': {'Name': 'Anita', 'Month': 'September', 'Year': 1977, 'Max sustained winds': 175, 'Areas affected': ['Mexico'], 'Damages': 'Damages not recorded', 'Deaths': 11}, 'David': {'Name': 'David', 'Month': 'August', 'Year': 1979, 'Max sustained winds': 175, 'Areas affected': ['The Caribbean', 'United States East coast'], 'Damages': 1540000000.0, 'Deaths': 2068}, 'Allen': {'Name': 'Allen', 'Month': 'August', 'Year': 1980, 'Max sustained winds': 190, 'Areas affected': ['The Caribbean', 'Yucatn Peninsula', 'Mexico', 'South Texas'], 'Damages': 1240000000.0, 'Deaths': 269}, 'Gilbert': {'Name': 'Gilbert', 'Month': 'September', 'Year': 1988, 'Max sustained winds': 185, 'Areas affected': ['Jamaica', 'Venezuela', 'Central America', 'Hispaniola', 'Mexico'], 'Damages': 7100000000.0, 'Deaths': 318}, 'Hugo': {'Name': 'Hugo', 'Month': 'September', 'Year': 1989, 'Max sustained winds': 160, 'Areas affected': ['The Caribbean', 'United States East Coast'], 'Damages': 10000000000.0, 'Deaths': 107}, 'Andrew': {'Name': 'Andrew', 'Month': 'August', 'Year': 1992, 'Max sustained winds': 175, 'Areas affected': ['The Bahamas', 'Florida', 'United States Gulf Coast'], 'Damages': 26500000000.0, 'Deaths': 65}, 'Mitch': {'Name': 'Mitch', 'Month': 'October', 'Year': 1998, 'Max sustained winds': 180, 'Areas affected': ['Central America', 'Yucatn Peninsula', 'South Florida'], 'Damages': 6200000000.0, 'Deaths': 19325}, 'Isabel': {'Name': 'Isabel', 'Month': 'September', 'Year': 2003, 'Max sustained winds': 165, 'Areas affected': ['Greater Antilles', 'Bahamas', 'Eastern United States', 'Ontario'], 'Damages': 5370000000.0, 'Deaths': 51}, 'Ivan': {'Name': 'Ivan', 'Month': 'September', 'Year': 2004, 'Max sustained winds': 165, 'Areas affected': ['The Caribbean', 'Venezuela', 'United States Gulf Coast'], 'Damages': 23300000000.0, 'Deaths': 124}, 'Emily': {'Name': 'Emily', 'Month': 'July', 'Year': 2005, 'Max sustained winds': 160, 'Areas affected': ['Windward Islands', 'Jamaica', 'Mexico', 'Texas'], 'Damages': 1010000000.0, 'Deaths': 17}, 'Katrina': {'Name': 'Katrina', 'Month': 'August', 'Year': 2005, 'Max sustained winds': 175, 'Areas affected': ['Bahamas', 'United States Gulf Coast'], 'Damages': 125000000000.0, 'Deaths': 1836}, 'Rita': {'Name': 'Rita', 'Month': 'September', 'Year': 2005, 'Max sustained winds': 180, 'Areas affected': ['Cuba', 'United States Gulf Coast'], 'Damages': 12000000000.0, 'Deaths': 125}, 'Wilma': {'Name': 'Wilma', 'Month': 'October', 'Year': 2005, 'Max sustained winds': 185, 'Areas affected': ['Greater Antilles', 'Central America', 'Florida'], 'Damages': 29400000000.0, 'Deaths': 87}, 'Dean': {'Name': 'Dean', 'Month': 'August', 'Year': 2007, 'Max sustained winds': 175, 'Areas affected': ['The Caribbean', 'Central America'], 'Damages': 1760000000.0, 'Deaths': 45}, 'Felix': {'Name': 'Felix', 'Month': 'September', 'Year': 2007, 'Max sustained winds': 175, 'Areas affected': ['Nicaragua', 'Honduras'], 'Damages': 720000000.0, 'Deaths': 133}, 'Matthew': {'Name': 'Matthew', 'Month': 'October', 'Year': 2016, 'Max sustained winds': 165, 'Areas affected': ['Antilles', 'Venezuela', 'Colombia', 'United States East Coast', 'Atlantic Canada'], 'Damages': 15100000000.0, 'Deaths': 603}, 'Irma': {'Name': 'Irma', 'Month': 'September', 'Year': 2017, 'Max sustained winds': 180, 'Areas affected': ['Cape Verde', 'The Caribbean', 'British Virgin Islands', 'U.S. Virgin Islands', 'Cuba', 'Florida'], 'Damages': 64800000000.0, 'Deaths': 138}, 'Maria': {'Name': 'Maria', 'Month': 'September', 'Year': 2017, 'Max sustained winds': 175, 'Areas affected': ['Lesser Antilles', 'Virgin Islands', 'Puerto Rico', 'Dominican Republic', 'Turks and Caicos Islands'], 'Damages': 91600000000.0, 'Deaths': 3057}, 'Michael': {'Name': 'Michael', 'Month': 'October', 'Year': 2018, 'Max sustained winds': 160, 'Areas affected': ['Central America', 'United States Gulf Coast (especially Florida Panhandle)'], 'Damages': 25100000000.0, 'Deaths': 74}}\n"
     ]
    }
   ],
   "source": [
    "def create_dictionary(names, months, years, max_sustained_winds, areas_affected, updated_damages, deaths):\n",
    "    hurricanes = dict()\n",
    "    for i in range(len(names)):\n",
    "        hurricanes[names[i]] = {\n",
    "            \"Name\" : names[i],\n",
    "            \"Month\" : months[i],\n",
    "            \"Year\" : years[i],\n",
    "            \"Max sustained winds\" : max_sustained_winds[i],\n",
    "            \"Areas affected\" : areas_affected[i],\n",
    "            \"Damages\" : updated_damages[i],\n",
    "            \"Deaths\" : deaths[i]\n",
    "        }\n",
    "    return hurricanes\n",
    "\n",
    "hurricanes = create_dictionary(names, months, years, max_sustained_winds, areas_affected, updated_damages, deaths)\n",
    "print(hurricanes)"
   ]
  },
  {
   "cell_type": "markdown",
   "id": "6d0a1933",
   "metadata": {},
   "source": [
    "3. In addition to organizing the hurricanes in a dictionary with names as the key, you want to be able to organize the hurricanes by year.\n",
    "\n",
    "   Write a function that converts the current dictionary of hurricanes to a new dictionary, where the keys are years and the values are lists containing a dictionary for each hurricane that occurred in that year.\n",
    "   \n",
    "   For example, the key `1932` would yield the value: `[{'Name': 'Bahamas', 'Month': 'September', 'Year': 1932, 'Max Sustained Wind': 160, 'Areas Affected': ['The Bahamas', 'Northeastern United States'], 'Damage': 'Damage not recorded', 'Deaths': 16}, {'Name': 'Cuba II', 'Month': 'November', 'Year': 1932, 'Max Sustained Wind': 175, 'Areas Affected': ['Lesser Antilles', 'Jamaica', 'Cayman Islands', 'Cuba', 'The Bahamas', 'Bermuda'], 'Damage': 40000000.0, 'Deaths': 3103}]`.\n",
    "   \n",
    "   Test your function on your hurricane dictionary."
   ]
  },
  {
   "cell_type": "code",
   "execution_count": 20,
   "id": "1ef2edea",
   "metadata": {},
   "outputs": [
    {
     "name": "stdout",
     "output_type": "stream",
     "text": [
      "{1924: [{'Name': 'Cuba I', 'Month': 'October', 'Year': 1924, 'Max sustained winds': 165, 'Areas affected': ['Central America', 'Mexico', 'Cuba', 'Florida', 'The Bahamas'], 'Damages': 'Damages not recorded', 'Deaths': 90}], 1928: [{'Name': 'San Felipe II Okeechobee', 'Month': 'September', 'Year': 1928, 'Max sustained winds': 160, 'Areas affected': ['Lesser Antilles', 'The Bahamas', 'United States East Coast', 'Atlantic Canada'], 'Damages': 100000000.0, 'Deaths': 4000}], 1932: [{'Name': 'Bahamas', 'Month': 'September', 'Year': 1932, 'Max sustained winds': 160, 'Areas affected': ['The Bahamas', 'Northeastern United States'], 'Damages': 'Damages not recorded', 'Deaths': 16}, {'Name': 'Cuba II', 'Month': 'November', 'Year': 1932, 'Max sustained winds': 175, 'Areas affected': ['Lesser Antilles', 'Jamaica', 'Cayman Islands', 'Cuba', 'The Bahamas', 'Bermuda'], 'Damages': 40000000.0, 'Deaths': 3103}], 1933: [{'Name': 'CubaBrownsville', 'Month': 'August', 'Year': 1933, 'Max sustained winds': 160, 'Areas affected': ['The Bahamas', 'Cuba', 'Florida', 'Texas', 'Tamaulipas'], 'Damages': 27900000.0, 'Deaths': 179}, {'Name': 'Tampico', 'Month': 'September', 'Year': 1933, 'Max sustained winds': 160, 'Areas affected': ['Jamaica', 'Yucatn Peninsula'], 'Damages': 5000000.0, 'Deaths': 184}], 1935: [{'Name': 'Labor Day', 'Month': 'September', 'Year': 1935, 'Max sustained winds': 185, 'Areas affected': ['The Bahamas', 'Florida', 'Georgia', 'The Carolinas', 'Virginia'], 'Damages': 'Damages not recorded', 'Deaths': 408}], 1938: [{'Name': 'New England', 'Month': 'September', 'Year': 1938, 'Max sustained winds': 160, 'Areas affected': ['Southeastern United States', 'Northeastern United States', 'Southwestern Quebec'], 'Damages': 306000000.0, 'Deaths': 682}], 1953: [{'Name': 'Carol', 'Month': 'September', 'Year': 1953, 'Max sustained winds': 160, 'Areas affected': ['Bermuda', 'New England', 'Atlantic Canada'], 'Damages': 2000000.0, 'Deaths': 5}], 1955: [{'Name': 'Janet', 'Month': 'September', 'Year': 1955, 'Max sustained winds': 175, 'Areas affected': ['Lesser Antilles', 'Central America'], 'Damages': 65800000.0, 'Deaths': 1023}], 1961: [{'Name': 'Carla', 'Month': 'September', 'Year': 1961, 'Max sustained winds': 175, 'Areas affected': ['Texas', 'Louisiana', 'Midwestern United States'], 'Damages': 326000000.0, 'Deaths': 43}, {'Name': 'Hattie', 'Month': 'October', 'Year': 1961, 'Max sustained winds': 160, 'Areas affected': ['Central America'], 'Damages': 60300000.0, 'Deaths': 319}], 1967: [{'Name': 'Beulah', 'Month': 'September', 'Year': 1967, 'Max sustained winds': 160, 'Areas affected': ['The Caribbean', 'Mexico', 'Texas'], 'Damages': 208000000.0, 'Deaths': 688}], 1969: [{'Name': 'Camille', 'Month': 'August', 'Year': 1969, 'Max sustained winds': 175, 'Areas affected': ['Cuba', 'United States Gulf Coast'], 'Damages': 1420000000.0, 'Deaths': 259}], 1971: [{'Name': 'Edith', 'Month': 'September', 'Year': 1971, 'Max sustained winds': 160, 'Areas affected': ['The Caribbean', 'Central America', 'Mexico', 'United States Gulf Coast'], 'Damages': 25400000.0, 'Deaths': 37}], 1977: [{'Name': 'Anita', 'Month': 'September', 'Year': 1977, 'Max sustained winds': 175, 'Areas affected': ['Mexico'], 'Damages': 'Damages not recorded', 'Deaths': 11}], 1979: [{'Name': 'David', 'Month': 'August', 'Year': 1979, 'Max sustained winds': 175, 'Areas affected': ['The Caribbean', 'United States East coast'], 'Damages': 1540000000.0, 'Deaths': 2068}], 1980: [{'Name': 'Allen', 'Month': 'August', 'Year': 1980, 'Max sustained winds': 190, 'Areas affected': ['The Caribbean', 'Yucatn Peninsula', 'Mexico', 'South Texas'], 'Damages': 1240000000.0, 'Deaths': 269}], 1988: [{'Name': 'Gilbert', 'Month': 'September', 'Year': 1988, 'Max sustained winds': 185, 'Areas affected': ['Jamaica', 'Venezuela', 'Central America', 'Hispaniola', 'Mexico'], 'Damages': 7100000000.0, 'Deaths': 318}], 1989: [{'Name': 'Hugo', 'Month': 'September', 'Year': 1989, 'Max sustained winds': 160, 'Areas affected': ['The Caribbean', 'United States East Coast'], 'Damages': 10000000000.0, 'Deaths': 107}], 1992: [{'Name': 'Andrew', 'Month': 'August', 'Year': 1992, 'Max sustained winds': 175, 'Areas affected': ['The Bahamas', 'Florida', 'United States Gulf Coast'], 'Damages': 26500000000.0, 'Deaths': 65}], 1998: [{'Name': 'Mitch', 'Month': 'October', 'Year': 1998, 'Max sustained winds': 180, 'Areas affected': ['Central America', 'Yucatn Peninsula', 'South Florida'], 'Damages': 6200000000.0, 'Deaths': 19325}], 2003: [{'Name': 'Isabel', 'Month': 'September', 'Year': 2003, 'Max sustained winds': 165, 'Areas affected': ['Greater Antilles', 'Bahamas', 'Eastern United States', 'Ontario'], 'Damages': 5370000000.0, 'Deaths': 51}], 2004: [{'Name': 'Ivan', 'Month': 'September', 'Year': 2004, 'Max sustained winds': 165, 'Areas affected': ['The Caribbean', 'Venezuela', 'United States Gulf Coast'], 'Damages': 23300000000.0, 'Deaths': 124}], 2005: [{'Name': 'Emily', 'Month': 'July', 'Year': 2005, 'Max sustained winds': 160, 'Areas affected': ['Windward Islands', 'Jamaica', 'Mexico', 'Texas'], 'Damages': 1010000000.0, 'Deaths': 17}, {'Name': 'Katrina', 'Month': 'August', 'Year': 2005, 'Max sustained winds': 175, 'Areas affected': ['Bahamas', 'United States Gulf Coast'], 'Damages': 125000000000.0, 'Deaths': 1836}, {'Name': 'Rita', 'Month': 'September', 'Year': 2005, 'Max sustained winds': 180, 'Areas affected': ['Cuba', 'United States Gulf Coast'], 'Damages': 12000000000.0, 'Deaths': 125}, {'Name': 'Wilma', 'Month': 'October', 'Year': 2005, 'Max sustained winds': 185, 'Areas affected': ['Greater Antilles', 'Central America', 'Florida'], 'Damages': 29400000000.0, 'Deaths': 87}], 2007: [{'Name': 'Dean', 'Month': 'August', 'Year': 2007, 'Max sustained winds': 175, 'Areas affected': ['The Caribbean', 'Central America'], 'Damages': 1760000000.0, 'Deaths': 45}, {'Name': 'Felix', 'Month': 'September', 'Year': 2007, 'Max sustained winds': 175, 'Areas affected': ['Nicaragua', 'Honduras'], 'Damages': 720000000.0, 'Deaths': 133}], 2016: [{'Name': 'Matthew', 'Month': 'October', 'Year': 2016, 'Max sustained winds': 165, 'Areas affected': ['Antilles', 'Venezuela', 'Colombia', 'United States East Coast', 'Atlantic Canada'], 'Damages': 15100000000.0, 'Deaths': 603}], 2017: [{'Name': 'Irma', 'Month': 'September', 'Year': 2017, 'Max sustained winds': 180, 'Areas affected': ['Cape Verde', 'The Caribbean', 'British Virgin Islands', 'U.S. Virgin Islands', 'Cuba', 'Florida'], 'Damages': 64800000000.0, 'Deaths': 138}, {'Name': 'Maria', 'Month': 'September', 'Year': 2017, 'Max sustained winds': 175, 'Areas affected': ['Lesser Antilles', 'Virgin Islands', 'Puerto Rico', 'Dominican Republic', 'Turks and Caicos Islands'], 'Damages': 91600000000.0, 'Deaths': 3057}], 2018: [{'Name': 'Michael', 'Month': 'October', 'Year': 2018, 'Max sustained winds': 160, 'Areas affected': ['Central America', 'United States Gulf Coast (especially Florida Panhandle)'], 'Damages': 25100000000.0, 'Deaths': 74}]}\n"
     ]
    }
   ],
   "source": [
    "def create_year_dictionary(hurricanes):\n",
    "    hurricanes_by_year = dict()\n",
    "    years.sort()\n",
    "    sort_years = years.copy()\n",
    "    for cane in hurricanes:\n",
    "        current_year = hurricanes[cane][\"Year\"]\n",
    "        current_cane = hurricanes[cane]\n",
    "        if current_year not in hurricanes_by_year:\n",
    "            hurricanes_by_year[current_year] = [current_cane]\n",
    "        else:\n",
    "             hurricanes_by_year[current_year].append(current_cane)\n",
    "    return  hurricanes_by_year\n",
    "\n",
    "hurricanes_by_year = create_year_dictionary(hurricanes)\n",
    "print(hurricanes_by_year)"
   ]
  },
  {
   "cell_type": "markdown",
   "id": "66973f77",
   "metadata": {},
   "source": [
    "4. You believe that knowing how often each of the areas of the Atlantic are affected by these strong hurricanes is important for making preparations for future hurricanes.\n",
    "\n",
    "   Write a function that counts how often each area is listed as an affected area of a hurricane. Store and return the results in a dictionary where the keys are the affected areas and the values are counts of how many times the areas were affected.\n",
    "   \n",
    "   Test your function on your hurricane dictionary."
   ]
  },
  {
   "cell_type": "code",
   "execution_count": 6,
   "id": "bff86f77",
   "metadata": {},
   "outputs": [
    {
     "name": "stdout",
     "output_type": "stream",
     "text": [
      "{'Central America': 9, 'Mexico': 7, 'Cuba': 6, 'Florida': 6, 'The Bahamas': 7, 'Lesser Antilles': 4, 'United States East Coast': 3, 'Atlantic Canada': 3, 'Northeastern United States': 2, 'Jamaica': 4, 'Cayman Islands': 1, 'Bermuda': 2, 'Texas': 4, 'Tamaulipas': 1, 'Yucatn Peninsula': 3, 'Georgia': 1, 'The Carolinas': 1, 'Virginia': 1, 'Southeastern United States': 1, 'Southwestern Quebec': 1, 'New England': 1, 'Louisiana': 1, 'Midwestern United States': 1, 'The Caribbean': 8, 'United States Gulf Coast': 6, 'United States East coast': 1, 'South Texas': 1, 'Venezuela': 3, 'Hispaniola': 1, 'South Florida': 1, 'Greater Antilles': 2, 'Bahamas': 2, 'Eastern United States': 1, 'Ontario': 1, 'Windward Islands': 1, 'Nicaragua': 1, 'Honduras': 1, 'Antilles': 1, 'Colombia': 1, 'Cape Verde': 1, 'British Virgin Islands': 1, 'U.S. Virgin Islands': 1, 'Virgin Islands': 1, 'Puerto Rico': 1, 'Dominican Republic': 1, 'Turks and Caicos Islands': 1, 'United States Gulf Coast (especially Florida Panhandle)': 1}\n"
     ]
    }
   ],
   "source": [
    "def count_affected_areas(hurricanes):\n",
    "    most_affected_area = dict()\n",
    "    for cane in hurricanes:\n",
    "        for area in hurricanes[cane]['Areas affected']:\n",
    "            if area not in most_affected_area:\n",
    "                most_affected_area[area] = 1\n",
    "            else:\n",
    "                most_affected_area[area] += 1\n",
    "    return most_affected_area\n",
    "\n",
    "most_affected_area = count_affected_areas(hurricanes)\n",
    "print(most_affected_area)"
   ]
  },
  {
   "cell_type": "markdown",
   "id": "e015eeb3",
   "metadata": {},
   "source": [
    "5. Write a function that finds the area affected by the most hurricanes, and how often it was hit.\n",
    "\n",
    "   Test your function on your affected area dictionary."
   ]
  },
  {
   "cell_type": "code",
   "execution_count": 7,
   "id": "643c73f9",
   "metadata": {},
   "outputs": [
    {
     "name": "stdout",
     "output_type": "stream",
     "text": [
      "(['Central America'], 9)\n"
     ]
    }
   ],
   "source": [
    "def most_area(most_affected_area):\n",
    "    max_area = []\n",
    "    max_affected = 0\n",
    "    for most in most_affected_area:\n",
    "        if most_affected_area[most] > max_affected:\n",
    "            max_affected = most_affected_area[most]\n",
    "            max_area.append(most)\n",
    "    return max_area, max_affected\n",
    "\n",
    "max_area_affected = most_area(most_affected_area)\n",
    "print(max_area_affected)"
   ]
  },
  {
   "cell_type": "markdown",
   "id": "4c120f59",
   "metadata": {},
   "source": [
    "6. Write a function that finds the hurricane that caused the greatest number of deaths, and how many deaths it caused.\n",
    "\n",
    "   Test your function on your hurricane dictionary."
   ]
  },
  {
   "cell_type": "code",
   "execution_count": 8,
   "id": "ced02448",
   "metadata": {},
   "outputs": [
    {
     "name": "stdout",
     "output_type": "stream",
     "text": [
      "('Mitch', 19325)\n"
     ]
    }
   ],
   "source": [
    "def highest_mortality(hurricanes):\n",
    "    max_death = 0\n",
    "    current_hurricane = 'Cuba I'\n",
    "    for death in hurricanes:\n",
    "        current_death = hurricanes[death][\"Deaths\"] \n",
    "        if current_death > max_death:\n",
    "            max_death = current_death\n",
    "            current_hurricane = death\n",
    "    return current_hurricane, max_death\n",
    "\n",
    "max_mortality_cane = highest_mortality(hurricanes)\n",
    "print(max_mortality_cane)"
   ]
  },
  {
   "cell_type": "markdown",
   "id": "9ddd39b0",
   "metadata": {},
   "source": [
    "7. Just as hurricanes are rated by their windspeed, you want to try rating hurricanes based on other metrics.\n",
    "\n",
    "   Write a function that rates hurricanes on a mortality scale according to the following ratings, where the key is the rating and the value is the upper bound of deaths for that rating.\n",
    "   \n",
    "   ```py\n",
    "   mortality_scale = {0: 0,\n",
    "   1: 100,\n",
    "   2: 500,\n",
    "   3: 1000,\n",
    "   4: 10000}\n",
    "   ```\n",
    "   \n",
    "   For example, a hurricane with a `1` mortality rating would have resulted in greater than `0` but less than or equal to `100` deaths. A hurricane with a `5` mortality would have resulted in greater than `10000` deaths.\n",
    "   \n",
    "   Store the hurricanes in a new dictionary where the keys are the mortaility ratings and the values are lists containing a dictionary for each hurricane that falls into that mortality rating.\n",
    "   \n",
    "   Test your function on your hurricane dictionary."
   ]
  },
  {
   "cell_type": "code",
   "execution_count": 9,
   "id": "79d42fa9",
   "metadata": {},
   "outputs": [
    {
     "name": "stdout",
     "output_type": "stream",
     "text": [
      "[{'Name': 'Mitch', 'Month': 'October', 'Year': 1998, 'Max sustained winds': 180, 'Areas affected': ['Central America', 'Yucatn Peninsula', 'South Florida'], 'Damages': 6200000000.0, 'Deaths': 19325}]\n"
     ]
    }
   ],
   "source": [
    "    mortality_scale = {0: 0,\n",
    "                      1: 100,\n",
    "                      2: 500,\n",
    "                      3: 1000,\n",
    "                      4: 10000}\n",
    "    by_mortality_scale = {0:[], 1:[], 2:[], 3:[], 4:[]}\n",
    "    for cane in hurricanes:\n",
    "        for scale in mortality_scale:\n",
    "            if hurricanes[cane][\"Deaths\"] >= mortality_scale[scale]:\n",
    "                by_mortality_scale[scale].append(hurricanes[cane])\n",
    "    print( by_mortality_scale[4])"
   ]
  },
  {
   "cell_type": "code",
   "execution_count": 10,
   "id": "9eea4dc7",
   "metadata": {},
   "outputs": [
    {
     "name": "stdout",
     "output_type": "stream",
     "text": [
      "[{'Name': 'San Felipe II Okeechobee', 'Month': 'September', 'Year': 1928, 'Max sustained winds': 160, 'Areas affected': ['Lesser Antilles', 'The Bahamas', 'United States East Coast', 'Atlantic Canada'], 'Damages': 100000000.0, 'Deaths': 4000}, {'Name': 'Cuba II', 'Month': 'November', 'Year': 1932, 'Max sustained winds': 175, 'Areas affected': ['Lesser Antilles', 'Jamaica', 'Cayman Islands', 'Cuba', 'The Bahamas', 'Bermuda'], 'Damages': 40000000.0, 'Deaths': 3103}, {'Name': 'Janet', 'Month': 'September', 'Year': 1955, 'Max sustained winds': 175, 'Areas affected': ['Lesser Antilles', 'Central America'], 'Damages': 65800000.0, 'Deaths': 1023}, {'Name': 'David', 'Month': 'August', 'Year': 1979, 'Max sustained winds': 175, 'Areas affected': ['The Caribbean', 'United States East coast'], 'Damages': 1540000000.0, 'Deaths': 2068}, {'Name': 'Katrina', 'Month': 'August', 'Year': 2005, 'Max sustained winds': 175, 'Areas affected': ['Bahamas', 'United States Gulf Coast'], 'Damages': 125000000000.0, 'Deaths': 1836}, {'Name': 'Maria', 'Month': 'September', 'Year': 2017, 'Max sustained winds': 175, 'Areas affected': ['Lesser Antilles', 'Virgin Islands', 'Puerto Rico', 'Dominican Republic', 'Turks and Caicos Islands'], 'Damages': 91600000000.0, 'Deaths': 3057}]\n"
     ]
    }
   ],
   "source": [
    "def categorize_by_mortality(hurricanes):\n",
    "    mortality_scale = {0: 0,\n",
    "                      1: 100,\n",
    "                      2: 500,\n",
    "                      3: 1000,\n",
    "                      4: 10000}\n",
    "    hurricanes_by_mortality = {0:[], 1:[], 2:[], 3:[], 4:[]}\n",
    "    for cane in hurricanes:\n",
    "        num_deaths = hurricanes[cane]['Deaths']\n",
    "        if num_deaths == mortality_scale[0]:\n",
    "            hurricanes_by_mortality[0].append(hurricanes[cane])\n",
    "        elif num_deaths <= mortality_scale[1]:\n",
    "            hurricanes_by_mortality[1].append(hurricanes[cane])\n",
    "        elif num_deaths <= mortality_scale[2]:\n",
    "            hurricanes_by_mortality[2].append(hurricanes[cane])\n",
    "        elif num_deaths <= mortality_scale[3]:\n",
    "            hurricanes_by_mortality[3].append(hurricanes[cane])\n",
    "        elif num_deaths <= mortality_scale[4]:\n",
    "            hurricanes_by_mortality[4].append(hurricanes[cane])\n",
    "    return hurricanes_by_mortality\n",
    "\n",
    "hurricanes_by_mortality = categorize_by_mortality(hurricanes)\n",
    "print(hurricanes_by_mortality[4])"
   ]
  },
  {
   "cell_type": "markdown",
   "id": "199b0e1c",
   "metadata": {},
   "source": [
    "8. Write a function that finds the hurricane that caused the greatest damage, and how costly it was.\n",
    "\n",
    "   Test your function on your hurricane dictionary."
   ]
  },
  {
   "cell_type": "code",
   "execution_count": 19,
   "id": "b3dc79b4",
   "metadata": {},
   "outputs": [
    {
     "name": "stdout",
     "output_type": "stream",
     "text": [
      "{'name': 'Katrina', 'damage': 125000000000.0}\n"
     ]
    }
   ],
   "source": [
    "def highest_damage(hurricanes):\n",
    "    max_damage = {\"name\": \"none\", \"damage\": \"none\"}\n",
    "    current_max = 0\n",
    "    for cane in hurricanes:\n",
    "        if hurricanes[cane]['Damages'] == 'Damages not recorded':\n",
    "            continue\n",
    "        elif current_max < hurricanes[cane]['Damages']:\n",
    "            current_max = hurricanes[cane]['Damages']\n",
    "            max_damage[\"name\"] = hurricanes[cane]['Name']\n",
    "            max_damage[\"damage\"] = hurricanes[cane]['Damages']\n",
    "    return max_damage\n",
    "\n",
    "max_cane_damage = highest_damage(hurricanes)\n",
    "print(max_cane_damage)"
   ]
  },
  {
   "cell_type": "markdown",
   "id": "58d22ddc",
   "metadata": {},
   "source": [
    "9. Lastly, you want to rate hurricanes according to how much damage they cause.\n",
    "\n",
    "   Write a function that rates hurricanes on a damage scale according to the following ratings, where the key is the rating and the value is the upper bound of damage for that rating.\n",
    "   ```py\n",
    "   damage_scale = {0: 0,\n",
    "   1: 100000000,\n",
    "   2: 1000000000,\n",
    "   3: 10000000000,\n",
    "   4: 50000000000}\n",
    "   ```\n",
    "   \n",
    "   For example, a hurricane with a `1` damage rating would have resulted in damages greater than `0` USD but less than or equal to `100000000` USD. A hurricane with a `5` damage rating would have resulted in damages greater than `50000000000` USD (talk about a lot of money).\n",
    "   \n",
    "   Store the hurricanes in a new dictionary where the keys are damage ratings and the values are lists containing a dictionary for each hurricane that falls into that damage rating.\n",
    "   \n",
    "   Test your function on your hurricane dictionary."
   ]
  },
  {
   "cell_type": "code",
   "execution_count": 28,
   "id": "e543f487",
   "metadata": {},
   "outputs": [
    {
     "name": "stdout",
     "output_type": "stream",
     "text": [
      "[{'Name': 'Katrina', 'Month': 'August', 'Year': 2005, 'Max sustained winds': 175, 'Areas affected': ['Bahamas', 'United States Gulf Coast'], 'Damages': 125000000000.0, 'Deaths': 1836}, {'Name': 'Irma', 'Month': 'September', 'Year': 2017, 'Max sustained winds': 180, 'Areas affected': ['Cape Verde', 'The Caribbean', 'British Virgin Islands', 'U.S. Virgin Islands', 'Cuba', 'Florida'], 'Damages': 64800000000.0, 'Deaths': 138}, {'Name': 'Maria', 'Month': 'September', 'Year': 2017, 'Max sustained winds': 175, 'Areas affected': ['Lesser Antilles', 'Virgin Islands', 'Puerto Rico', 'Dominican Republic', 'Turks and Caicos Islands'], 'Damages': 91600000000.0, 'Deaths': 3057}]\n"
     ]
    }
   ],
   "source": [
    "def categorize_by_damage(hurricanes):\n",
    "    damage_scale = {0: 0,\n",
    "                    1: 100000000,\n",
    "                    2: 1000000000,\n",
    "                    3: 10000000000,\n",
    "                    4: 50000000000}\n",
    "    hurricanes_by_damage = {0:[], 1:[], 2:[], 3:[], 4:[], 5:[]}\n",
    "    for cane in hurricanes:\n",
    "        if hurricanes[cane]['Damages'] == 'Damages not recorded':\n",
    "            hurricanes_by_damage[0].append(hurricanes[cane])\n",
    "        elif hurricanes[cane]['Damages'] <=  damage_scale[1]:\n",
    "            hurricanes_by_damage[1].append(hurricanes[cane])\n",
    "        elif hurricanes[cane]['Damages'] <=  damage_scale[2]:\n",
    "            hurricanes_by_damage[2].append(hurricanes[cane])\n",
    "        elif hurricanes[cane]['Damages'] <=  damage_scale[3]:\n",
    "            hurricanes_by_damage[3].append(hurricanes[cane])\n",
    "        elif hurricanes[cane]['Damages'] <=  damage_scale[4]:\n",
    "            hurricanes_by_damage[4].append(hurricanes[cane])\n",
    "        elif hurricanes[cane]['Damages'] >  damage_scale[4]:\n",
    "            hurricanes_by_damage[5].append(hurricanes[cane])\n",
    "    return hurricanes_by_damage\n",
    "\n",
    "hurricanes_by_damage = categorize_by_damage(hurricanes)\n",
    "print(hurricanes_by_damage[5])"
   ]
  },
  {
   "cell_type": "code",
   "execution_count": null,
   "id": "db16e21d",
   "metadata": {},
   "outputs": [],
   "source": []
  }
 ],
 "metadata": {
  "kernelspec": {
   "display_name": "Python 3 (ipykernel)",
   "language": "python",
   "name": "python3"
  },
  "language_info": {
   "codemirror_mode": {
    "name": "ipython",
    "version": 3
   },
   "file_extension": ".py",
   "mimetype": "text/x-python",
   "name": "python",
   "nbconvert_exporter": "python",
   "pygments_lexer": "ipython3",
   "version": "3.11.3"
  }
 },
 "nbformat": 4,
 "nbformat_minor": 5
}
