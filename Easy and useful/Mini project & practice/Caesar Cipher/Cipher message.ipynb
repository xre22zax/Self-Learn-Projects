{
 "cells": [
  {
   "cell_type": "markdown",
   "id": "6e7fdcf5",
   "metadata": {},
   "source": [
    "xuo jxuhu! jxyi yi qd unqcfbu ev q squiqh syfxuh. muhu oek qrbu je tusetu yj? y xefu ie! iudt cu q cuiiqwu rqsa myjx jxu iqcu evviuj!\n",
    "\n",
    "Get every letters then shift all of the letters by a certain offset.\n",
    "This message has an offset of 10."
   ]
  },
  {
   "cell_type": "code",
   "execution_count": 2,
   "id": "7d1ea497",
   "metadata": {},
   "outputs": [
    {
     "name": "stdout",
     "output_type": "stream",
     "text": [
      "hey there! this is an example of a caesar cipher. were you able to decode it? i hope so! send me a message back with the same offset!\n"
     ]
    }
   ],
   "source": [
    "alphabet = \"abcdefghijklmnopqrstuvwxyz\"\n",
    "\n",
    "message = \"xuo jxuhu! jxyi yi qd unqcfbu ev q squiqh syfxuh. muhu oek qrbu je tusetu yj? y xefu ie! iudt cu q cuiiqwu rqsa myjx jxu iqcu evviuj!\"\n",
    "\n",
    "translated_message = \"\"\n",
    "\n",
    "for character in message:\n",
    "  if character in alphabet:\n",
    "    character_value = alphabet.find(character)\n",
    "    translated_message += alphabet[(character_value + 10) % 26]\n",
    "  else:\n",
    "    translated_message += character\n",
    "\n",
    "print(translated_message)"
   ]
  },
  {
   "cell_type": "code",
   "execution_count": 4,
   "id": "68c85ea6",
   "metadata": {},
   "outputs": [
    {
     "name": "stdout",
     "output_type": "stream",
     "text": [
      "gyg! s'fo xofob coox cywodrsxq vsuno drsc.\n"
     ]
    }
   ],
   "source": [
    "alphabet = \"abcdefghijklmnopqrstuvwxyz\"\n",
    "\n",
    "my_message = \"wow! i've never seen something likde this.\"\n",
    "\n",
    "my_code_message = ''\n",
    "\n",
    "for letter in my_message:\n",
    "    if letter in alphabet:\n",
    "        character_value = alphabet.find(letter)\n",
    "        my_code_message += alphabet[(character_value+10) %26]\n",
    "    else:\n",
    "        my_code_message += letter\n",
    "        \n",
    "print(my_code_message)"
   ]
  },
  {
   "cell_type": "markdown",
   "id": "29db2048",
   "metadata": {},
   "source": [
    "new message 1:\n",
    "\n",
    "    jxu evviuj veh jxu iusedt cuiiqwu yi vekhjuud.\n",
    "    \n",
    "new message 2:\n",
    "\n",
    "    bqdradyuzs ygxfubxq omqemd oubtqde fa oapq kagd yqeemsqe ue qhqz yadq eqogdq!"
   ]
  },
  {
   "cell_type": "code",
   "execution_count": 37,
   "id": "cb45fa9b",
   "metadata": {},
   "outputs": [],
   "source": [
    "def caesar_decode(message, offset):\n",
    "  decoded_message = \"\"\n",
    "\n",
    "  for character in message:\n",
    "    if character in alphabet:\n",
    "      character_value = alphabet.find(character)\n",
    "      decoded_message += alphabet[(character_value + offset) % 26]\n",
    "    else:\n",
    "      decoded_message += character\n",
    "\n",
    "  return decoded_message"
   ]
  },
  {
   "cell_type": "code",
   "execution_count": 38,
   "id": "7e6724a8",
   "metadata": {},
   "outputs": [
    {
     "data": {
      "text/plain": [
       "'the offset for the second message is fourteen.'"
      ]
     },
     "execution_count": 38,
     "metadata": {},
     "output_type": "execute_result"
    }
   ],
   "source": [
    "caesar_decode(\"jxu evviuj veh jxu iusedt cuiiqwu yi vekhjuud.\", 10)"
   ]
  },
  {
   "cell_type": "code",
   "execution_count": 7,
   "id": "2983ff9c",
   "metadata": {},
   "outputs": [
    {
     "name": "stdout",
     "output_type": "stream",
     "text": [
      "performing multiple caesar ciphers to code your messages is even more secure!\n"
     ]
    }
   ],
   "source": [
    "caesar_decode(\"bqdradyuzs ygxfubxq omqemd oubtqde fa oapq kagd yqeemsqe ue qhqz yadq eqogdq!\", 14)"
   ]
  },
  {
   "cell_type": "code",
   "execution_count": 34,
   "id": "236695b5",
   "metadata": {},
   "outputs": [],
   "source": [
    "def caesar_code(message, offset):\n",
    "    alphabet = \"abcdefghijklmnopqrstuvwxyz\"\n",
    "    code_message = ''\n",
    "\n",
    "    for letter in message:\n",
    "        if letter in alphabet:\n",
    "            character_value = alphabet.find(letter)\n",
    "            code_message += alphabet[(character_value+10) %26]\n",
    "        else:\n",
    "            code_message += letter\n",
    "    print(code_message)"
   ]
  },
  {
   "cell_type": "code",
   "execution_count": 35,
   "id": "3b6ff73d",
   "metadata": {},
   "outputs": [
    {
     "name": "stdout",
     "output_type": "stream",
     "text": [
      "dro yppcod pyb dro comyxn wocckqo sc ovofox.\n"
     ]
    }
   ],
   "source": [
    "caesar_code(\"the offset for the second message is eleven.\", 10)"
   ]
  },
  {
   "cell_type": "code",
   "execution_count": 13,
   "id": "d6d3380a",
   "metadata": {},
   "outputs": [
    {
     "name": "stdout",
     "output_type": "stream",
     "text": [
      "sw kmdekvvi oxtyisxq sd\n"
     ]
    }
   ],
   "source": [
    "caesar_code(\"im actually enjoying it\", 11)"
   ]
  },
  {
   "cell_type": "markdown",
   "id": "150d0241",
   "metadata": {},
   "source": [
    "First message:\n",
    "\n",
    "    jxu evviuj veh jxu iusedt cuiiqwu yi vekhjuud.\n",
    "    \n",
    "Second message:\n",
    "\n",
    "    bqdradyuzs ygxfubxq omqemd oubtqde fa oapq kagd yqeemsqe ue qhqz yadq eqogdq!\n",
    "    \n",
    "There is no offset!"
   ]
  },
  {
   "cell_type": "code",
   "execution_count": 30,
   "id": "7a693428",
   "metadata": {},
   "outputs": [],
   "source": [
    "def caesar_decode_no_offset(message):\n",
    "    for offset in range(0,26):\n",
    "        alphabet = \"abcdefghijklmnopqrstuvwxyz\"\n",
    "        translated_message = \"\"\n",
    "        for character in message:\n",
    "          if character in alphabet:\n",
    "            character_value = alphabet.find(character)\n",
    "            translated_message += alphabet[(character_value + offset) % 26]\n",
    "          else:\n",
    "            translated_message += character\n",
    "        print(\"Offset: {}\".format(offset))\n",
    "        print(translated_message)"
   ]
  },
  {
   "cell_type": "code",
   "execution_count": 31,
   "id": "ed1157a6",
   "metadata": {},
   "outputs": [
    {
     "name": "stdout",
     "output_type": "stream",
     "text": [
      "Offset: 0\n",
      "jxu evviuj veh jxu iusedt cuiiqwu yi vekhjuud.\n",
      "Offset: 1\n",
      "kyv fwwjvk wfi kyv jvtfeu dvjjrxv zj wflikvve.\n",
      "Offset: 2\n",
      "lzw gxxkwl xgj lzw kwugfv ewkksyw ak xgmjlwwf.\n",
      "Offset: 3\n",
      "max hyylxm yhk max lxvhgw fxlltzx bl yhnkmxxg.\n",
      "Offset: 4\n",
      "nby izzmyn zil nby mywihx gymmuay cm ziolnyyh.\n",
      "Offset: 5\n",
      "ocz jaanzo ajm ocz nzxjiy hznnvbz dn ajpmozzi.\n",
      "Offset: 6\n",
      "pda kbboap bkn pda oaykjz iaoowca eo bkqnpaaj.\n",
      "Offset: 7\n",
      "qeb lccpbq clo qeb pbzlka jbppxdb fp clroqbbk.\n",
      "Offset: 8\n",
      "rfc mddqcr dmp rfc qcamlb kcqqyec gq dmsprccl.\n",
      "Offset: 9\n",
      "sgd neerds enq sgd rdbnmc ldrrzfd hr entqsddm.\n",
      "Offset: 10\n",
      "the offset for the second message is fourteen.\n",
      "Offset: 11\n",
      "uif pggtfu gps uif tfdpoe nfttbhf jt gpvsuffo.\n",
      "Offset: 12\n",
      "vjg qhhugv hqt vjg ugeqpf oguucig ku hqwtvggp.\n",
      "Offset: 13\n",
      "wkh riivhw iru wkh vhfrqg phvvdjh lv irxuwhhq.\n",
      "Offset: 14\n",
      "xli sjjwix jsv xli wigsrh qiwweki mw jsyvxiir.\n",
      "Offset: 15\n",
      "ymj tkkxjy ktw ymj xjhtsi rjxxflj nx ktzwyjjs.\n",
      "Offset: 16\n",
      "znk ullykz lux znk ykiutj skyygmk oy luaxzkkt.\n",
      "Offset: 17\n",
      "aol vmmzla mvy aol zljvuk tlzzhnl pz mvbyallu.\n",
      "Offset: 18\n",
      "bpm wnnamb nwz bpm amkwvl umaaiom qa nwczbmmv.\n",
      "Offset: 19\n",
      "cqn xoobnc oxa cqn bnlxwm vnbbjpn rb oxdacnnw.\n",
      "Offset: 20\n",
      "dro yppcod pyb dro comyxn wocckqo sc pyebdoox.\n",
      "Offset: 21\n",
      "esp zqqdpe qzc esp dpnzyo xpddlrp td qzfceppy.\n",
      "Offset: 22\n",
      "ftq arreqf rad ftq eqoazp yqeemsq ue ragdfqqz.\n",
      "Offset: 23\n",
      "gur bssfrg sbe gur frpbaq zrffntr vf sbhegrra.\n",
      "Offset: 24\n",
      "hvs cttgsh tcf hvs gsqcbr asggous wg tcifhssb.\n",
      "Offset: 25\n",
      "iwt duuhti udg iwt htrdcs bthhpvt xh udjgittc.\n"
     ]
    }
   ],
   "source": [
    "caesar_decode_no_offset('jxu evviuj veh jxu iusedt cuiiqwu yi vekhjuud.')"
   ]
  },
  {
   "cell_type": "code",
   "execution_count": 39,
   "id": "31ec9f89",
   "metadata": {},
   "outputs": [
    {
     "data": {
      "text/plain": [
       "'performing multiple caesar ciphers to code your messages is even more secure!'"
      ]
     },
     "execution_count": 39,
     "metadata": {},
     "output_type": "execute_result"
    }
   ],
   "source": [
    "caesar_decode('bqdradyuzs ygxfubxq omqemd oubtqde fa oapq kagd yqeemsqe ue qhqz yadq eqogdq!', 14)"
   ]
  },
  {
   "cell_type": "code",
   "execution_count": 8,
   "id": "a25e1aa0",
   "metadata": {},
   "outputs": [],
   "source": [
    "def vigenere_decode(message, keyword):\n",
    "    alphabet = \"abcdefghijklmnopqrstuvwxyz\"\n",
    "    keyword_phrase = \"\"\n",
    "    keyword_index = 0\n",
    "\n",
    "    for character in message:\n",
    "        if keyword_index >= len(keyword):\n",
    "            keyword_index = 0\n",
    "        if character in alphabet:\n",
    "            keyword_phrase += keyword[keyword_index]\n",
    "            keyword_index += 1\n",
    "        else:\n",
    "            keyword_phrase += character\n",
    "\n",
    "    decoded_message = \"\"\n",
    "\n",
    "    for i in range(len(message)):\n",
    "        if message[i] in alphabet:\n",
    "            old_character_index = alphabet.find(message[i])\n",
    "            offset_index = alphabet.find(keyword_phrase[i])\n",
    "            new_character = alphabet[(old_character_index + offset_index) % 26]\n",
    "            decoded_message += new_character\n",
    "        else:\n",
    "            decoded_message += message[i]\n",
    "    \n",
    "    return decoded_message"
   ]
  },
  {
   "cell_type": "code",
   "execution_count": 9,
   "id": "de72f79a",
   "metadata": {},
   "outputs": [
    {
     "name": "stdout",
     "output_type": "stream",
     "text": [
      "you were able to decode this? nice work! you are becoming quite the expert at crytography!\n"
     ]
    }
   ],
   "source": [
    "print(vigenere_decode(\"txm srom vkda gl lzlgzr qpdb? fepb ejac! ubr imn tapludwy mhfbz cza ruxzal wg zztcgcexxch!\", \"friends\"))"
   ]
  },
  {
   "cell_type": "code",
   "execution_count": 12,
   "id": "ae44a8a0",
   "metadata": {},
   "outputs": [],
   "source": [
    "def vigenere_encode(message, keyword):\n",
    "    keyword_phrase = \"\"\n",
    "    keyword_index = 0\n",
    "    alphabet = \"abcdefghijklmnopqrstuvwxyz\"\n",
    "\n",
    "    for character in message:\n",
    "        if keyword_index >= len(keyword):\n",
    "            keyword_index = 0\n",
    "        if character in alphabet:\n",
    "            keyword_phrase += keyword[keyword_index]\n",
    "            keyword_index += 1\n",
    "        else:\n",
    "            keyword_phrase += character\n",
    "\n",
    "        encoded_message = \"\"\n",
    "\n",
    "    for i in range(len(message)):\n",
    "        if message[i] in alphabet:\n",
    "            old_character_index = alphabet.find(message[i])\n",
    "            offset_index = alphabet.find(keyword_phrase[i])\n",
    "            new_character = alphabet[(old_character_index - offset_index) % 26]\n",
    "            encoded_message += new_character\n",
    "        else:\n",
    "            encoded_message += message[i]\n",
    "    \n",
    "    return encoded_message"
   ]
  },
  {
   "cell_type": "code",
   "execution_count": 13,
   "id": "ffd7f766",
   "metadata": {},
   "outputs": [
    {
     "name": "stdout",
     "output_type": "stream",
     "text": [
      "rnj af trhm ucmt bfe zfj mxdjqwa!\n"
     ]
    }
   ],
   "source": [
    "print(vigenere_decode(vigenere_encode(\"its so hard idek how its working!\", \"wow\"), \"fine\"))"
   ]
  },
  {
   "cell_type": "code",
   "execution_count": null,
   "id": "669c96a7",
   "metadata": {},
   "outputs": [],
   "source": []
  }
 ],
 "metadata": {
  "kernelspec": {
   "display_name": "Python 3 (ipykernel)",
   "language": "python",
   "name": "python3"
  },
  "language_info": {
   "codemirror_mode": {
    "name": "ipython",
    "version": 3
   },
   "file_extension": ".py",
   "mimetype": "text/x-python",
   "name": "python",
   "nbconvert_exporter": "python",
   "pygments_lexer": "ipython3",
   "version": "3.11.3"
  }
 },
 "nbformat": 4,
 "nbformat_minor": 5
}
