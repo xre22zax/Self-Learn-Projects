{
 "cells": [
  {
   "cell_type": "code",
   "execution_count": 1,
   "id": "37948b88",
   "metadata": {},
   "outputs": [],
   "source": [
    "medical_data = \\\n",
    "\"\"\"Marina Allison   ,27   ,   31.1 , \n",
    "#7010.0   ;Markus Valdez   ,   30, \n",
    "22.4,   #4050.0 ;Connie Ballard ,43 \n",
    ",   25.3 , #12060.0 ;Darnell Weber   \n",
    ",   35   , 20.6   , #7500.0;\n",
    "Sylvie Charles   ,22, 22.1 \n",
    ",#3022.0   ;   Vinay Padilla,24,   \n",
    "26.9 ,#4620.0 ;Meredith Santiago, 51   , \n",
    "29.3 ,#16330.0;   Andre Mccarty, \n",
    "19,22.7 , #2900.0 ; \n",
    "Lorena Hodson ,65, 33.1 , #19370.0; \n",
    "Isaac Vu ,34, 24.8,   #7045.0\"\"\""
   ]
  },
  {
   "cell_type": "code",
   "execution_count": 2,
   "id": "345200d0",
   "metadata": {},
   "outputs": [
    {
     "name": "stdout",
     "output_type": "stream",
     "text": [
      "Marina Allison   ,27   ,   31.1 , \n",
      "#7010.0   ;Markus Valdez   ,   30, \n",
      "22.4,   #4050.0 ;Connie Ballard ,43 \n",
      ",   25.3 , #12060.0 ;Darnell Weber   \n",
      ",   35   , 20.6   , #7500.0;\n",
      "Sylvie Charles   ,22, 22.1 \n",
      ",#3022.0   ;   Vinay Padilla,24,   \n",
      "26.9 ,#4620.0 ;Meredith Santiago, 51   , \n",
      "29.3 ,#16330.0;   Andre Mccarty, \n",
      "19,22.7 , #2900.0 ; \n",
      "Lorena Hodson ,65, 33.1 , #19370.0; \n",
      "Isaac Vu ,34, 24.8,   #7045.0\n"
     ]
    }
   ],
   "source": [
    "print(medical_data)"
   ]
  },
  {
   "cell_type": "code",
   "execution_count": 3,
   "id": "8b4d2772",
   "metadata": {},
   "outputs": [
    {
     "name": "stdout",
     "output_type": "stream",
     "text": [
      "Marina Allison   ,27   ,   31.1 , \n",
      "$7010.0   ;Markus Valdez   ,   30, \n",
      "22.4,   $4050.0 ;Connie Ballard ,43 \n",
      ",   25.3 , $12060.0 ;Darnell Weber   \n",
      ",   35   , 20.6   , $7500.0;\n",
      "Sylvie Charles   ,22, 22.1 \n",
      ",$3022.0   ;   Vinay Padilla,24,   \n",
      "26.9 ,$4620.0 ;Meredith Santiago, 51   , \n",
      "29.3 ,$16330.0;   Andre Mccarty, \n",
      "19,22.7 , $2900.0 ; \n",
      "Lorena Hodson ,65, 33.1 , $19370.0; \n",
      "Isaac Vu ,34, 24.8,   $7045.0\n"
     ]
    }
   ],
   "source": [
    "updated_medical_data = medical_data.replace('#','$')\n",
    "print(updated_medical_data)"
   ]
  },
  {
   "cell_type": "code",
   "execution_count": 4,
   "id": "bd721c57",
   "metadata": {},
   "outputs": [],
   "source": [
    "num_records = 0"
   ]
  },
  {
   "cell_type": "code",
   "execution_count": 5,
   "id": "0647aa72",
   "metadata": {},
   "outputs": [],
   "source": [
    "for records in updated_medical_data:\n",
    "   if records == '$':\n",
    "    num_records += 1"
   ]
  },
  {
   "cell_type": "code",
   "execution_count": 6,
   "id": "f8d87da7",
   "metadata": {},
   "outputs": [
    {
     "name": "stdout",
     "output_type": "stream",
     "text": [
      "['Marina Allison   ,27   ,   31.1 , \\n$7010.0   ', 'Markus Valdez   ,   30, \\n22.4,   $4050.0 ', 'Connie Ballard ,43 \\n,   25.3 , $12060.0 ', 'Darnell Weber   \\n,   35   , 20.6   , $7500.0', '\\nSylvie Charles   ,22, 22.1 \\n,$3022.0   ', '   Vinay Padilla,24,   \\n26.9 ,$4620.0 ', 'Meredith Santiago, 51   , \\n29.3 ,$16330.0', '   Andre Mccarty, \\n19,22.7 , $2900.0 ', ' \\nLorena Hodson ,65, 33.1 , $19370.0', ' \\nIsaac Vu ,34, 24.8,   $7045.0']\n"
     ]
    }
   ],
   "source": [
    "medical_data_split = updated_medical_data.split(';')\n",
    "print(medical_data_split)"
   ]
  },
  {
   "cell_type": "code",
   "execution_count": 8,
   "id": "f4b169ce",
   "metadata": {},
   "outputs": [],
   "source": [
    "medical_records = []"
   ]
  },
  {
   "cell_type": "code",
   "execution_count": 9,
   "id": "fcdedea2",
   "metadata": {},
   "outputs": [],
   "source": [
    "for i in medical_data_split:\n",
    "    medical_records.append(i.split(\",\"))"
   ]
  },
  {
   "cell_type": "code",
   "execution_count": 10,
   "id": "aea02bc2",
   "metadata": {},
   "outputs": [
    {
     "name": "stdout",
     "output_type": "stream",
     "text": [
      "[['Marina Allison   ', '27   ', '   31.1 ', ' \\n$7010.0   '], ['Markus Valdez   ', '   30', ' \\n22.4', '   $4050.0 '], ['Connie Ballard ', '43 \\n', '   25.3 ', ' $12060.0 '], ['Darnell Weber   \\n', '   35   ', ' 20.6   ', ' $7500.0'], ['\\nSylvie Charles   ', '22', ' 22.1 \\n', '$3022.0   '], ['   Vinay Padilla', '24', '   \\n26.9 ', '$4620.0 '], ['Meredith Santiago', ' 51   ', ' \\n29.3 ', '$16330.0'], ['   Andre Mccarty', ' \\n19', '22.7 ', ' $2900.0 '], [' \\nLorena Hodson ', '65', ' 33.1 ', ' $19370.0'], [' \\nIsaac Vu ', '34', ' 24.8', '   $7045.0']]\n"
     ]
    }
   ],
   "source": [
    "print(medical_records)"
   ]
  },
  {
   "cell_type": "code",
   "execution_count": 11,
   "id": "43dfaa2d",
   "metadata": {},
   "outputs": [],
   "source": [
    "medical_records_clean = []"
   ]
  },
  {
   "cell_type": "code",
   "execution_count": 20,
   "id": "a9ab64c4",
   "metadata": {},
   "outputs": [],
   "source": [
    "for record in medical_records:\n",
    "    record_clean = []\n",
    "    for item in record:\n",
    "        record_clean.append(item.strip())\n",
    "    medical_records_clean.append(record_clean)"
   ]
  },
  {
   "cell_type": "code",
   "execution_count": 21,
   "id": "3e5cb253",
   "metadata": {},
   "outputs": [
    {
     "name": "stdout",
     "output_type": "stream",
     "text": [
      "[['Marina Allison', '27', '31.1', '$7010.0'], ['Markus Valdez', '30', '22.4', '$4050.0'], ['Connie Ballard', '43', '25.3', '$12060.0'], ['Darnell Weber', '35', '20.6', '$7500.0'], ['Sylvie Charles', '22', '22.1', '$3022.0'], ['Vinay Padilla', '24', '26.9', '$4620.0'], ['Meredith Santiago', '51', '29.3', '$16330.0'], ['Andre Mccarty', '19', '22.7', '$2900.0'], ['Lorena Hodson', '65', '33.1', '$19370.0'], ['Isaac Vu', '34', '24.8', '$7045.0']]\n"
     ]
    }
   ],
   "source": [
    "print(medical_records_clean)"
   ]
  },
  {
   "cell_type": "code",
   "execution_count": 26,
   "id": "3b3e90a4",
   "metadata": {},
   "outputs": [
    {
     "name": "stdout",
     "output_type": "stream",
     "text": [
      "MARINA ALLISON\n",
      "MARKUS VALDEZ\n",
      "CONNIE BALLARD\n",
      "DARNELL WEBER\n",
      "SYLVIE CHARLES\n",
      "VINAY PADILLA\n",
      "MEREDITH SANTIAGO\n",
      "ANDRE MCCARTY\n",
      "LORENA HODSON\n",
      "ISAAC VU\n"
     ]
    }
   ],
   "source": [
    "for record in medical_records_clean:\n",
    "    uppercase_name = record[0].upper()\n",
    "    print(uppercase_name)"
   ]
  },
  {
   "cell_type": "code",
   "execution_count": 27,
   "id": "d451051d",
   "metadata": {},
   "outputs": [],
   "source": [
    "names = []\n",
    "ages = []\n",
    "bmis = []\n",
    "insurance_costs = []"
   ]
  },
  {
   "cell_type": "code",
   "execution_count": 30,
   "id": "0de12d1e",
   "metadata": {},
   "outputs": [],
   "source": [
    "for record in medical_records_clean:\n",
    "    for record in medical_records_clean:\n",
    "        names.append(record[0])\n",
    "        ages.append(record[1])\n",
    "        bmis.append(record[2])\n",
    "        insurance_costs.append(record[3])"
   ]
  },
  {
   "cell_type": "code",
   "execution_count": 31,
   "id": "95bbd8f9",
   "metadata": {},
   "outputs": [
    {
     "name": "stdout",
     "output_type": "stream",
     "text": [
      "Names: ['Marina Allison', 'Markus Valdez', 'Connie Ballard', 'Darnell Weber', 'Sylvie Charles', 'Vinay Padilla', 'Meredith Santiago', 'Andre Mccarty', 'Lorena Hodson', 'Isaac Vu', 'Marina Allison', 'Markus Valdez', 'Connie Ballard', 'Darnell Weber', 'Sylvie Charles', 'Vinay Padilla', 'Meredith Santiago', 'Andre Mccarty', 'Lorena Hodson', 'Isaac Vu', 'Marina Allison', 'Markus Valdez', 'Connie Ballard', 'Darnell Weber', 'Sylvie Charles', 'Vinay Padilla', 'Meredith Santiago', 'Andre Mccarty', 'Lorena Hodson', 'Isaac Vu', 'Marina Allison', 'Markus Valdez', 'Connie Ballard', 'Darnell Weber', 'Sylvie Charles', 'Vinay Padilla', 'Meredith Santiago', 'Andre Mccarty', 'Lorena Hodson', 'Isaac Vu', 'Marina Allison', 'Markus Valdez', 'Connie Ballard', 'Darnell Weber', 'Sylvie Charles', 'Vinay Padilla', 'Meredith Santiago', 'Andre Mccarty', 'Lorena Hodson', 'Isaac Vu', 'Marina Allison', 'Markus Valdez', 'Connie Ballard', 'Darnell Weber', 'Sylvie Charles', 'Vinay Padilla', 'Meredith Santiago', 'Andre Mccarty', 'Lorena Hodson', 'Isaac Vu', 'Marina Allison', 'Markus Valdez', 'Connie Ballard', 'Darnell Weber', 'Sylvie Charles', 'Vinay Padilla', 'Meredith Santiago', 'Andre Mccarty', 'Lorena Hodson', 'Isaac Vu', 'Marina Allison', 'Markus Valdez', 'Connie Ballard', 'Darnell Weber', 'Sylvie Charles', 'Vinay Padilla', 'Meredith Santiago', 'Andre Mccarty', 'Lorena Hodson', 'Isaac Vu', 'Marina Allison', 'Markus Valdez', 'Connie Ballard', 'Darnell Weber', 'Sylvie Charles', 'Vinay Padilla', 'Meredith Santiago', 'Andre Mccarty', 'Lorena Hodson', 'Isaac Vu', 'Marina Allison', 'Markus Valdez', 'Connie Ballard', 'Darnell Weber', 'Sylvie Charles', 'Vinay Padilla', 'Meredith Santiago', 'Andre Mccarty', 'Lorena Hodson', 'Isaac Vu']\n",
      "Ages: ['27', '30', '43', '35', '22', '24', '51', '19', '65', '34', '27', '30', '43', '35', '22', '24', '51', '19', '65', '34', '27', '30', '43', '35', '22', '24', '51', '19', '65', '34', '27', '30', '43', '35', '22', '24', '51', '19', '65', '34', '27', '30', '43', '35', '22', '24', '51', '19', '65', '34', '27', '30', '43', '35', '22', '24', '51', '19', '65', '34', '27', '30', '43', '35', '22', '24', '51', '19', '65', '34', '27', '30', '43', '35', '22', '24', '51', '19', '65', '34', '27', '30', '43', '35', '22', '24', '51', '19', '65', '34', '27', '30', '43', '35', '22', '24', '51', '19', '65', '34']\n",
      "BMI: ['31.1', '22.4', '25.3', '20.6', '22.1', '26.9', '29.3', '22.7', '33.1', '24.8', '31.1', '22.4', '25.3', '20.6', '22.1', '26.9', '29.3', '22.7', '33.1', '24.8', '31.1', '22.4', '25.3', '20.6', '22.1', '26.9', '29.3', '22.7', '33.1', '24.8', '31.1', '22.4', '25.3', '20.6', '22.1', '26.9', '29.3', '22.7', '33.1', '24.8', '31.1', '22.4', '25.3', '20.6', '22.1', '26.9', '29.3', '22.7', '33.1', '24.8', '31.1', '22.4', '25.3', '20.6', '22.1', '26.9', '29.3', '22.7', '33.1', '24.8', '31.1', '22.4', '25.3', '20.6', '22.1', '26.9', '29.3', '22.7', '33.1', '24.8', '31.1', '22.4', '25.3', '20.6', '22.1', '26.9', '29.3', '22.7', '33.1', '24.8', '31.1', '22.4', '25.3', '20.6', '22.1', '26.9', '29.3', '22.7', '33.1', '24.8', '31.1', '22.4', '25.3', '20.6', '22.1', '26.9', '29.3', '22.7', '33.1', '24.8']\n",
      "Insurance Costs: ['$7010.0', '$4050.0', '$12060.0', '$7500.0', '$3022.0', '$4620.0', '$16330.0', '$2900.0', '$19370.0', '$7045.0', '$7010.0', '$4050.0', '$12060.0', '$7500.0', '$3022.0', '$4620.0', '$16330.0', '$2900.0', '$19370.0', '$7045.0', '$7010.0', '$4050.0', '$12060.0', '$7500.0', '$3022.0', '$4620.0', '$16330.0', '$2900.0', '$19370.0', '$7045.0', '$7010.0', '$4050.0', '$12060.0', '$7500.0', '$3022.0', '$4620.0', '$16330.0', '$2900.0', '$19370.0', '$7045.0', '$7010.0', '$4050.0', '$12060.0', '$7500.0', '$3022.0', '$4620.0', '$16330.0', '$2900.0', '$19370.0', '$7045.0', '$7010.0', '$4050.0', '$12060.0', '$7500.0', '$3022.0', '$4620.0', '$16330.0', '$2900.0', '$19370.0', '$7045.0', '$7010.0', '$4050.0', '$12060.0', '$7500.0', '$3022.0', '$4620.0', '$16330.0', '$2900.0', '$19370.0', '$7045.0', '$7010.0', '$4050.0', '$12060.0', '$7500.0', '$3022.0', '$4620.0', '$16330.0', '$2900.0', '$19370.0', '$7045.0', '$7010.0', '$4050.0', '$12060.0', '$7500.0', '$3022.0', '$4620.0', '$16330.0', '$2900.0', '$19370.0', '$7045.0', '$7010.0', '$4050.0', '$12060.0', '$7500.0', '$3022.0', '$4620.0', '$16330.0', '$2900.0', '$19370.0', '$7045.0']\n"
     ]
    }
   ],
   "source": [
    "print(\"Names: \" + str(names))\n",
    "print(\"Ages: \" + str(ages))\n",
    "print(\"BMI: \" + str(bmis))\n",
    "print(\"Insurance Costs: \" + str(insurance_costs))"
   ]
  },
  {
   "cell_type": "code",
   "execution_count": 32,
   "id": "b05ee034",
   "metadata": {},
   "outputs": [],
   "source": [
    "total_bmi = 0"
   ]
  },
  {
   "cell_type": "code",
   "execution_count": 33,
   "id": "8199bf37",
   "metadata": {},
   "outputs": [
    {
     "name": "stdout",
     "output_type": "stream",
     "text": [
      "Average BMI: 0.248\n"
     ]
    }
   ],
   "source": [
    "for bmi in bmis:\n",
    "    total_bmi = float(bmi)\n",
    "    \n",
    "average_bmi = total_bmi/len(bmis)\n",
    "print(\"Average BMI: \" + str(average_bmi))"
   ]
  },
  {
   "cell_type": "code",
   "execution_count": 39,
   "id": "b9c137e7",
   "metadata": {},
   "outputs": [
    {
     "name": "stdout",
     "output_type": "stream",
     "text": [
      "Avrage Insurance Costs is 8390.7\n"
     ]
    }
   ],
   "source": [
    "insurance_cost = []\n",
    "\n",
    "for costs in insurance_costs:\n",
    "    insurance_cost.append(costs.strip('$'))\n",
    "\n",
    "total_insurance_costs = 0\n",
    "\n",
    "for cost in insurance_cost:\n",
    "    total_insurance_costs += float(cost)\n",
    "    \n",
    "avrage_insurance_costs = total_insurance_costs/len(insurance_cost)\n",
    "print(\"Avrage Insurance Costs is \" + str(avrage_insurance_costs))"
   ]
  },
  {
   "cell_type": "code",
   "execution_count": 43,
   "id": "25721216",
   "metadata": {},
   "outputs": [
    {
     "name": "stdout",
     "output_type": "stream",
     "text": [
      "Marina Allisonis27years old with a BMI of31.1and an insurance cost of$7010.0.\n",
      "Markus Valdezis30years old with a BMI of22.4and an insurance cost of$4050.0.\n",
      "Connie Ballardis43years old with a BMI of25.3and an insurance cost of$12060.0.\n",
      "Darnell Weberis35years old with a BMI of20.6and an insurance cost of$7500.0.\n",
      "Sylvie Charlesis22years old with a BMI of22.1and an insurance cost of$3022.0.\n",
      "Vinay Padillais24years old with a BMI of26.9and an insurance cost of$4620.0.\n",
      "Meredith Santiagois51years old with a BMI of29.3and an insurance cost of$16330.0.\n",
      "Andre Mccartyis19years old with a BMI of22.7and an insurance cost of$2900.0.\n",
      "Lorena Hodsonis65years old with a BMI of33.1and an insurance cost of$19370.0.\n",
      "Isaac Vuis34years old with a BMI of24.8and an insurance cost of$7045.0.\n",
      "Marina Allisonis27years old with a BMI of31.1and an insurance cost of$7010.0.\n",
      "Markus Valdezis30years old with a BMI of22.4and an insurance cost of$4050.0.\n",
      "Connie Ballardis43years old with a BMI of25.3and an insurance cost of$12060.0.\n",
      "Darnell Weberis35years old with a BMI of20.6and an insurance cost of$7500.0.\n",
      "Sylvie Charlesis22years old with a BMI of22.1and an insurance cost of$3022.0.\n",
      "Vinay Padillais24years old with a BMI of26.9and an insurance cost of$4620.0.\n",
      "Meredith Santiagois51years old with a BMI of29.3and an insurance cost of$16330.0.\n",
      "Andre Mccartyis19years old with a BMI of22.7and an insurance cost of$2900.0.\n",
      "Lorena Hodsonis65years old with a BMI of33.1and an insurance cost of$19370.0.\n",
      "Isaac Vuis34years old with a BMI of24.8and an insurance cost of$7045.0.\n",
      "Marina Allisonis27years old with a BMI of31.1and an insurance cost of$7010.0.\n",
      "Markus Valdezis30years old with a BMI of22.4and an insurance cost of$4050.0.\n",
      "Connie Ballardis43years old with a BMI of25.3and an insurance cost of$12060.0.\n",
      "Darnell Weberis35years old with a BMI of20.6and an insurance cost of$7500.0.\n",
      "Sylvie Charlesis22years old with a BMI of22.1and an insurance cost of$3022.0.\n",
      "Vinay Padillais24years old with a BMI of26.9and an insurance cost of$4620.0.\n",
      "Meredith Santiagois51years old with a BMI of29.3and an insurance cost of$16330.0.\n",
      "Andre Mccartyis19years old with a BMI of22.7and an insurance cost of$2900.0.\n",
      "Lorena Hodsonis65years old with a BMI of33.1and an insurance cost of$19370.0.\n",
      "Isaac Vuis34years old with a BMI of24.8and an insurance cost of$7045.0.\n",
      "Marina Allisonis27years old with a BMI of31.1and an insurance cost of$7010.0.\n",
      "Markus Valdezis30years old with a BMI of22.4and an insurance cost of$4050.0.\n",
      "Connie Ballardis43years old with a BMI of25.3and an insurance cost of$12060.0.\n",
      "Darnell Weberis35years old with a BMI of20.6and an insurance cost of$7500.0.\n",
      "Sylvie Charlesis22years old with a BMI of22.1and an insurance cost of$3022.0.\n",
      "Vinay Padillais24years old with a BMI of26.9and an insurance cost of$4620.0.\n",
      "Meredith Santiagois51years old with a BMI of29.3and an insurance cost of$16330.0.\n",
      "Andre Mccartyis19years old with a BMI of22.7and an insurance cost of$2900.0.\n",
      "Lorena Hodsonis65years old with a BMI of33.1and an insurance cost of$19370.0.\n",
      "Isaac Vuis34years old with a BMI of24.8and an insurance cost of$7045.0.\n",
      "Marina Allisonis27years old with a BMI of31.1and an insurance cost of$7010.0.\n",
      "Markus Valdezis30years old with a BMI of22.4and an insurance cost of$4050.0.\n",
      "Connie Ballardis43years old with a BMI of25.3and an insurance cost of$12060.0.\n",
      "Darnell Weberis35years old with a BMI of20.6and an insurance cost of$7500.0.\n",
      "Sylvie Charlesis22years old with a BMI of22.1and an insurance cost of$3022.0.\n",
      "Vinay Padillais24years old with a BMI of26.9and an insurance cost of$4620.0.\n",
      "Meredith Santiagois51years old with a BMI of29.3and an insurance cost of$16330.0.\n",
      "Andre Mccartyis19years old with a BMI of22.7and an insurance cost of$2900.0.\n",
      "Lorena Hodsonis65years old with a BMI of33.1and an insurance cost of$19370.0.\n",
      "Isaac Vuis34years old with a BMI of24.8and an insurance cost of$7045.0.\n",
      "Marina Allisonis27years old with a BMI of31.1and an insurance cost of$7010.0.\n",
      "Markus Valdezis30years old with a BMI of22.4and an insurance cost of$4050.0.\n",
      "Connie Ballardis43years old with a BMI of25.3and an insurance cost of$12060.0.\n",
      "Darnell Weberis35years old with a BMI of20.6and an insurance cost of$7500.0.\n",
      "Sylvie Charlesis22years old with a BMI of22.1and an insurance cost of$3022.0.\n",
      "Vinay Padillais24years old with a BMI of26.9and an insurance cost of$4620.0.\n",
      "Meredith Santiagois51years old with a BMI of29.3and an insurance cost of$16330.0.\n",
      "Andre Mccartyis19years old with a BMI of22.7and an insurance cost of$2900.0.\n",
      "Lorena Hodsonis65years old with a BMI of33.1and an insurance cost of$19370.0.\n",
      "Isaac Vuis34years old with a BMI of24.8and an insurance cost of$7045.0.\n",
      "Marina Allisonis27years old with a BMI of31.1and an insurance cost of$7010.0.\n",
      "Markus Valdezis30years old with a BMI of22.4and an insurance cost of$4050.0.\n",
      "Connie Ballardis43years old with a BMI of25.3and an insurance cost of$12060.0.\n",
      "Darnell Weberis35years old with a BMI of20.6and an insurance cost of$7500.0.\n",
      "Sylvie Charlesis22years old with a BMI of22.1and an insurance cost of$3022.0.\n",
      "Vinay Padillais24years old with a BMI of26.9and an insurance cost of$4620.0.\n",
      "Meredith Santiagois51years old with a BMI of29.3and an insurance cost of$16330.0.\n",
      "Andre Mccartyis19years old with a BMI of22.7and an insurance cost of$2900.0.\n",
      "Lorena Hodsonis65years old with a BMI of33.1and an insurance cost of$19370.0.\n",
      "Isaac Vuis34years old with a BMI of24.8and an insurance cost of$7045.0.\n",
      "Marina Allisonis27years old with a BMI of31.1and an insurance cost of$7010.0.\n",
      "Markus Valdezis30years old with a BMI of22.4and an insurance cost of$4050.0.\n",
      "Connie Ballardis43years old with a BMI of25.3and an insurance cost of$12060.0.\n",
      "Darnell Weberis35years old with a BMI of20.6and an insurance cost of$7500.0.\n",
      "Sylvie Charlesis22years old with a BMI of22.1and an insurance cost of$3022.0.\n",
      "Vinay Padillais24years old with a BMI of26.9and an insurance cost of$4620.0.\n",
      "Meredith Santiagois51years old with a BMI of29.3and an insurance cost of$16330.0.\n",
      "Andre Mccartyis19years old with a BMI of22.7and an insurance cost of$2900.0.\n",
      "Lorena Hodsonis65years old with a BMI of33.1and an insurance cost of$19370.0.\n",
      "Isaac Vuis34years old with a BMI of24.8and an insurance cost of$7045.0.\n",
      "Marina Allisonis27years old with a BMI of31.1and an insurance cost of$7010.0.\n",
      "Markus Valdezis30years old with a BMI of22.4and an insurance cost of$4050.0.\n",
      "Connie Ballardis43years old with a BMI of25.3and an insurance cost of$12060.0.\n",
      "Darnell Weberis35years old with a BMI of20.6and an insurance cost of$7500.0.\n",
      "Sylvie Charlesis22years old with a BMI of22.1and an insurance cost of$3022.0.\n",
      "Vinay Padillais24years old with a BMI of26.9and an insurance cost of$4620.0.\n",
      "Meredith Santiagois51years old with a BMI of29.3and an insurance cost of$16330.0.\n",
      "Andre Mccartyis19years old with a BMI of22.7and an insurance cost of$2900.0.\n",
      "Lorena Hodsonis65years old with a BMI of33.1and an insurance cost of$19370.0.\n",
      "Isaac Vuis34years old with a BMI of24.8and an insurance cost of$7045.0.\n",
      "Marina Allisonis27years old with a BMI of31.1and an insurance cost of$7010.0.\n",
      "Markus Valdezis30years old with a BMI of22.4and an insurance cost of$4050.0.\n",
      "Connie Ballardis43years old with a BMI of25.3and an insurance cost of$12060.0.\n",
      "Darnell Weberis35years old with a BMI of20.6and an insurance cost of$7500.0.\n",
      "Sylvie Charlesis22years old with a BMI of22.1and an insurance cost of$3022.0.\n",
      "Vinay Padillais24years old with a BMI of26.9and an insurance cost of$4620.0.\n",
      "Meredith Santiagois51years old with a BMI of29.3and an insurance cost of$16330.0.\n",
      "Andre Mccartyis19years old with a BMI of22.7and an insurance cost of$2900.0.\n",
      "Lorena Hodsonis65years old with a BMI of33.1and an insurance cost of$19370.0.\n",
      "Isaac Vuis34years old with a BMI of24.8and an insurance cost of$7045.0.\n"
     ]
    }
   ],
   "source": [
    "for detail in range(0,len(names)):\n",
    "    print(str(names[detail]) + \"is\" + str(ages[detail]) + \"years old with a BMI of\" + str(bmis[detail]) + \"and an insurance cost of\" + str(insurance_costs[detail]) + \".\")"
   ]
  },
  {
   "cell_type": "code",
   "execution_count": null,
   "id": "a6daac03",
   "metadata": {},
   "outputs": [],
   "source": []
  }
 ],
 "metadata": {
  "kernelspec": {
   "display_name": "Python 3 (ipykernel)",
   "language": "python",
   "name": "python3"
  },
  "language_info": {
   "codemirror_mode": {
    "name": "ipython",
    "version": 3
   },
   "file_extension": ".py",
   "mimetype": "text/x-python",
   "name": "python",
   "nbconvert_exporter": "python",
   "pygments_lexer": "ipython3",
   "version": "3.11.3"
  }
 },
 "nbformat": 4,
 "nbformat_minor": 5
}
