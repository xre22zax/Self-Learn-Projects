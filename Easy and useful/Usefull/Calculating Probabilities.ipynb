{
 "cells": [
  {
   "cell_type": "markdown",
   "id": "7d5497a2",
   "metadata": {},
   "source": [
    "We know that cod have an average weight of 36 lbs with a standard deviation of 20. We want to try to fit 25 cod fish into our same crate that can hold up to 750 lbs.\n",
    "\n",
    "Our first step is to calculate the standard error for a sample size of 25. Using the above information, calculate the standard error and assign it to a variable called standard_error."
   ]
  },
  {
   "cell_type": "code",
   "execution_count": 2,
   "id": "0eefb14f",
   "metadata": {},
   "outputs": [],
   "source": [
    "import numpy as np\n",
    "import matplotlib.pyplot as plt\n",
    "from scipy import stats\n",
    "\n",
    "## Setting up our parameters\n",
    "std_dev = 20\n",
    "samp_size = 25\n",
    "mean = 36\n",
    "x = 30\n",
    "standard_error = std_dev / (samp_size**.5)"
   ]
  },
  {
   "cell_type": "markdown",
   "id": "bf2e05db",
   "metadata": {},
   "source": [
    "Awesome! Now that we have our standard error, we can use the normal CDF to calculate the probability that a sample of 25 fish has a mean weight of 30 lbs. Using the function stats.norm.cdf(), calculate this probability and assign it to a variable cod_cdf."
   ]
  },
  {
   "cell_type": "code",
   "execution_count": 3,
   "id": "7e4bfa15",
   "metadata": {},
   "outputs": [
    {
     "name": "stdout",
     "output_type": "stream",
     "text": [
      "0.06680720126885807\n"
     ]
    }
   ],
   "source": [
    "cod_cdf = stats.norm.cdf(x,mean,standard_error)\n",
    "print(cod_cdf)"
   ]
  },
  {
   "cell_type": "markdown",
   "id": "d3bba48a",
   "metadata": {},
   "source": [
    "6% of sample fish have 30lbs"
   ]
  },
  {
   "cell_type": "code",
   "execution_count": null,
   "id": "ed2bc020",
   "metadata": {},
   "outputs": [],
   "source": []
  }
 ],
 "metadata": {
  "kernelspec": {
   "display_name": "Python 3 (ipykernel)",
   "language": "python",
   "name": "python3"
  },
  "language_info": {
   "codemirror_mode": {
    "name": "ipython",
    "version": 3
   },
   "file_extension": ".py",
   "mimetype": "text/x-python",
   "name": "python",
   "nbconvert_exporter": "python",
   "pygments_lexer": "ipython3",
   "version": "3.11.3"
  }
 },
 "nbformat": 4,
 "nbformat_minor": 5
}
