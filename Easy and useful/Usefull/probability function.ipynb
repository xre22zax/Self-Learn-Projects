{
 "cells": [
  {
   "cell_type": "code",
   "execution_count": 1,
   "id": "4d191d6c",
   "metadata": {},
   "outputs": [
    {
     "name": "stdout",
     "output_type": "stream",
     "text": [
      "1.0\n",
      "0.8333333333333333\n",
      "0.4230769230769231\n"
     ]
    }
   ],
   "source": [
    "def prob_a_or_b(a, b, all_possible_outcomes):\n",
    "  # probability of event a\n",
    "  prob_a = len(a)/len(all_possible_outcomes)\n",
    "\n",
    "# probability of event b\n",
    "  prob_b = len(b)/len(all_possible_outcomes)\n",
    "\n",
    "# intersection of events a and b\n",
    "  inter = a.intersection(b)\n",
    "\n",
    "# probability of intersection of events a and b\n",
    "  prob_inter = len(inter)/len(all_possible_outcomes)\n",
    "\n",
    "# add return statement here\n",
    "  prob_ab = prob_a + prob_b - prob_inter\n",
    "  return prob_ab"
   ]
  },
  {
   "cell_type": "code",
   "execution_count": 2,
   "id": "b7738f7f",
   "metadata": {},
   "outputs": [
    {
     "name": "stdout",
     "output_type": "stream",
     "text": [
      "1.0\n"
     ]
    }
   ],
   "source": [
    "# rolling a die once and getting an even number or an odd number\n",
    "evens = {2, 4, 6}\n",
    "odds = {1, 3, 5}\n",
    "all_possible_rolls = {1, 2, 3, 4, 5, 6}\n",
    "\n",
    "# call function here first\n",
    "print(prob_a_or_b(evens, odds, all_possible_rolls))"
   ]
  },
  {
   "cell_type": "code",
   "execution_count": 3,
   "id": "5dcccf5f",
   "metadata": {},
   "outputs": [
    {
     "name": "stdout",
     "output_type": "stream",
     "text": [
      "0.8333333333333333\n"
     ]
    }
   ],
   "source": [
    "# rolling a die once and getting an odd number or a number greater than 2\n",
    "odds = {1, 3, 5}\n",
    "greater_than_two = {3, 4, 5, 6}\n",
    "all_possible_rolls = {1, 2, 3, 4, 5, 6}\n",
    "\n",
    "# call function here second\n",
    "print(prob_a_or_b(greater_than_two, odds, all_possible_rolls))\n"
   ]
  },
  {
   "cell_type": "code",
   "execution_count": 4,
   "id": "b0c8e63a",
   "metadata": {},
   "outputs": [
    {
     "name": "stdout",
     "output_type": "stream",
     "text": [
      "0.4230769230769231\n"
     ]
    }
   ],
   "source": [
    "# selecting a diamond card or a face card from a standard deck of cards\n",
    "diamond_cards = {'ace_diamond', '2_diamond', '3_diamond', '4_diamond', '5_diamond', '6_diamond', '7_diamond', '8_diamond', '9_diamond', '10_diamond', 'jack_diamond', 'queen_diamond', 'king_diamond'}\n",
    "face_cards = {'jack_diamond', 'jack_spade', 'jack_heart', 'jack_club', 'queen_diamond', 'queen_spade', 'queen_heart', 'queen_club', 'king_diamond', 'king_spade', 'king_heart', 'king_club'}\n",
    "# all cards in a deck representing the entire sample space\n",
    "all_possible_cards = {'ace_diamond', '2_diamond', '3_diamond', '4_diamond', '5_diamond', '6_diamond', '7_diamond', '8_diamond', '9_diamond', '10_diamond', 'jack_diamond', 'queen_diamond', 'king_diamond', 'ace_heart', '2_heart', '3_heart', '4_heart', '5_heart', '6_heart', '7_heart', '8_heart', '9_heart', '10_heart', 'jack_heart', 'queen_heart', 'king_heart', 'ace_spade', '2_spade', '3_spade', '4_spade', '5_spade', '6_spade', '7_spade', '8_spade', '9_spade', '10_spade', 'jack_spade', 'queen_spade', 'king_spade', 'ace_club', '2_club', '3_club', '4_club', '5_club', '6_club', '7_club', '8_club', '9_club', '10_club', 'jack_club', 'queen_club', 'king_club'}\n",
    "\n",
    "# call function here third\n",
    "print(prob_a_or_b(diamond_cards, face_cards, all_possible_cards))\n"
   ]
  },
  {
   "cell_type": "code",
   "execution_count": null,
   "id": "deeea5de",
   "metadata": {},
   "outputs": [],
   "source": []
  }
 ],
 "metadata": {
  "kernelspec": {
   "display_name": "Python 3 (ipykernel)",
   "language": "python",
   "name": "python3"
  },
  "language_info": {
   "codemirror_mode": {
    "name": "ipython",
    "version": 3
   },
   "file_extension": ".py",
   "mimetype": "text/x-python",
   "name": "python",
   "nbconvert_exporter": "python",
   "pygments_lexer": "ipython3",
   "version": "3.11.3"
  }
 },
 "nbformat": 4,
 "nbformat_minor": 5
}
