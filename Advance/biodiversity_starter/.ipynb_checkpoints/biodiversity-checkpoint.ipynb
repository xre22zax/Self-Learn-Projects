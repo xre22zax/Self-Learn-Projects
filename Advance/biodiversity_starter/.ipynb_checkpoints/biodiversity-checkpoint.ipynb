{
 "cells": [
  {
   "cell_type": "markdown",
   "metadata": {},
   "source": [
    "Importing needed libraries and create two dataframe for given CSVs\n",
    "also Overview the observation data set "
   ]
  },
  {
   "cell_type": "code",
   "execution_count": 1,
   "metadata": {},
   "outputs": [
    {
     "name": "stdout",
     "output_type": "stream",
     "text": [
      "<class 'pandas.core.frame.DataFrame'>\n",
      "RangeIndex: 23296 entries, 0 to 23295\n",
      "Data columns (total 3 columns):\n",
      " #   Column           Non-Null Count  Dtype \n",
      "---  ------           --------------  ----- \n",
      " 0   scientific_name  23296 non-null  object\n",
      " 1   park_name        23296 non-null  object\n",
      " 2   observations     23296 non-null  int64 \n",
      "dtypes: int64(1), object(2)\n",
      "memory usage: 546.1+ KB\n"
     ]
    },
    {
     "data": {
      "text/html": [
       "<div>\n",
       "<style scoped>\n",
       "    .dataframe tbody tr th:only-of-type {\n",
       "        vertical-align: middle;\n",
       "    }\n",
       "\n",
       "    .dataframe tbody tr th {\n",
       "        vertical-align: top;\n",
       "    }\n",
       "\n",
       "    .dataframe thead th {\n",
       "        text-align: right;\n",
       "    }\n",
       "</style>\n",
       "<table border=\"1\" class=\"dataframe\">\n",
       "  <thead>\n",
       "    <tr style=\"text-align: right;\">\n",
       "      <th></th>\n",
       "      <th>observations</th>\n",
       "    </tr>\n",
       "  </thead>\n",
       "  <tbody>\n",
       "    <tr>\n",
       "      <th>count</th>\n",
       "      <td>23296.000000</td>\n",
       "    </tr>\n",
       "    <tr>\n",
       "      <th>mean</th>\n",
       "      <td>142.287904</td>\n",
       "    </tr>\n",
       "    <tr>\n",
       "      <th>std</th>\n",
       "      <td>69.890532</td>\n",
       "    </tr>\n",
       "    <tr>\n",
       "      <th>min</th>\n",
       "      <td>9.000000</td>\n",
       "    </tr>\n",
       "    <tr>\n",
       "      <th>25%</th>\n",
       "      <td>86.000000</td>\n",
       "    </tr>\n",
       "    <tr>\n",
       "      <th>50%</th>\n",
       "      <td>124.000000</td>\n",
       "    </tr>\n",
       "    <tr>\n",
       "      <th>75%</th>\n",
       "      <td>195.000000</td>\n",
       "    </tr>\n",
       "    <tr>\n",
       "      <th>max</th>\n",
       "      <td>321.000000</td>\n",
       "    </tr>\n",
       "  </tbody>\n",
       "</table>\n",
       "</div>"
      ],
      "text/plain": [
       "       observations\n",
       "count  23296.000000\n",
       "mean     142.287904\n",
       "std       69.890532\n",
       "min        9.000000\n",
       "25%       86.000000\n",
       "50%      124.000000\n",
       "75%      195.000000\n",
       "max      321.000000"
      ]
     },
     "execution_count": 1,
     "metadata": {},
     "output_type": "execute_result"
    }
   ],
   "source": [
    "import pandas as pd\n",
    "import numpy as np\n",
    "import seaborn as sns\n",
    "import matplotlib.pyplot as plt\n",
    "\n",
    "\n",
    "## Read in Data\n",
    "observ = pd.read_csv(\"observations.csv\")\n",
    "species = pd.read_csv(\"species_info.csv\")\n",
    "\n",
    "\n",
    "# Preview data sets\n",
    "observ.info()\n",
    "observ.describe()"
   ]
  },
  {
   "cell_type": "markdown",
   "metadata": {},
   "source": [
    "Check 5 row of observation data set"
   ]
  },
  {
   "cell_type": "code",
   "execution_count": 2,
   "metadata": {},
   "outputs": [
    {
     "data": {
      "text/html": [
       "<div>\n",
       "<style scoped>\n",
       "    .dataframe tbody tr th:only-of-type {\n",
       "        vertical-align: middle;\n",
       "    }\n",
       "\n",
       "    .dataframe tbody tr th {\n",
       "        vertical-align: top;\n",
       "    }\n",
       "\n",
       "    .dataframe thead th {\n",
       "        text-align: right;\n",
       "    }\n",
       "</style>\n",
       "<table border=\"1\" class=\"dataframe\">\n",
       "  <thead>\n",
       "    <tr style=\"text-align: right;\">\n",
       "      <th></th>\n",
       "      <th>scientific_name</th>\n",
       "      <th>park_name</th>\n",
       "      <th>observations</th>\n",
       "    </tr>\n",
       "  </thead>\n",
       "  <tbody>\n",
       "    <tr>\n",
       "      <th>0</th>\n",
       "      <td>Vicia benghalensis</td>\n",
       "      <td>Great Smoky Mountains National Park</td>\n",
       "      <td>68</td>\n",
       "    </tr>\n",
       "    <tr>\n",
       "      <th>1</th>\n",
       "      <td>Neovison vison</td>\n",
       "      <td>Great Smoky Mountains National Park</td>\n",
       "      <td>77</td>\n",
       "    </tr>\n",
       "    <tr>\n",
       "      <th>2</th>\n",
       "      <td>Prunus subcordata</td>\n",
       "      <td>Yosemite National Park</td>\n",
       "      <td>138</td>\n",
       "    </tr>\n",
       "    <tr>\n",
       "      <th>3</th>\n",
       "      <td>Abutilon theophrasti</td>\n",
       "      <td>Bryce National Park</td>\n",
       "      <td>84</td>\n",
       "    </tr>\n",
       "    <tr>\n",
       "      <th>4</th>\n",
       "      <td>Githopsis specularioides</td>\n",
       "      <td>Great Smoky Mountains National Park</td>\n",
       "      <td>85</td>\n",
       "    </tr>\n",
       "  </tbody>\n",
       "</table>\n",
       "</div>"
      ],
      "text/plain": [
       "            scientific_name                            park_name  observations\n",
       "0        Vicia benghalensis  Great Smoky Mountains National Park            68\n",
       "1            Neovison vison  Great Smoky Mountains National Park            77\n",
       "2         Prunus subcordata               Yosemite National Park           138\n",
       "3      Abutilon theophrasti                  Bryce National Park            84\n",
       "4  Githopsis specularioides  Great Smoky Mountains National Park            85"
      ]
     },
     "execution_count": 2,
     "metadata": {},
     "output_type": "execute_result"
    }
   ],
   "source": [
    "# Check value and nulls\n",
    "observ.head()"
   ]
  },
  {
   "cell_type": "markdown",
   "metadata": {},
   "source": [
    "Overview the Species data set and number of unique species"
   ]
  },
  {
   "cell_type": "code",
   "execution_count": 3,
   "metadata": {},
   "outputs": [
    {
     "name": "stdout",
     "output_type": "stream",
     "text": [
      "<class 'pandas.core.frame.DataFrame'>\n",
      "RangeIndex: 5824 entries, 0 to 5823\n",
      "Data columns (total 4 columns):\n",
      " #   Column               Non-Null Count  Dtype \n",
      "---  ------               --------------  ----- \n",
      " 0   category             5824 non-null   object\n",
      " 1   scientific_name      5824 non-null   object\n",
      " 2   common_names         5824 non-null   object\n",
      " 3   conservation_status  191 non-null    object\n",
      "dtypes: object(4)\n",
      "memory usage: 182.1+ KB\n",
      "number of species:5541\n"
     ]
    }
   ],
   "source": [
    "# Preview data sets\n",
    "species.info()\n",
    "species.describe()\n",
    "print(f\"number of species:{species.scientific_name.nunique()}\")"
   ]
  },
  {
   "cell_type": "markdown",
   "metadata": {},
   "source": [
    "Check the categories of species and first columns of data set\n"
   ]
  },
  {
   "cell_type": "code",
   "execution_count": 4,
   "metadata": {},
   "outputs": [
    {
     "name": "stdout",
     "output_type": "stream",
     "text": [
      "number of categories:7\n",
      "categories:['Mammal' 'Bird' 'Reptile' 'Amphibian' 'Fish' 'Vascular Plant'\n",
      " 'Nonvascular Plant']\n"
     ]
    },
    {
     "data": {
      "text/html": [
       "<div>\n",
       "<style scoped>\n",
       "    .dataframe tbody tr th:only-of-type {\n",
       "        vertical-align: middle;\n",
       "    }\n",
       "\n",
       "    .dataframe tbody tr th {\n",
       "        vertical-align: top;\n",
       "    }\n",
       "\n",
       "    .dataframe thead th {\n",
       "        text-align: right;\n",
       "    }\n",
       "</style>\n",
       "<table border=\"1\" class=\"dataframe\">\n",
       "  <thead>\n",
       "    <tr style=\"text-align: right;\">\n",
       "      <th></th>\n",
       "      <th>category</th>\n",
       "      <th>scientific_name</th>\n",
       "      <th>common_names</th>\n",
       "      <th>conservation_status</th>\n",
       "    </tr>\n",
       "  </thead>\n",
       "  <tbody>\n",
       "    <tr>\n",
       "      <th>0</th>\n",
       "      <td>Mammal</td>\n",
       "      <td>Clethrionomys gapperi gapperi</td>\n",
       "      <td>Gapper's Red-Backed Vole</td>\n",
       "      <td>NaN</td>\n",
       "    </tr>\n",
       "    <tr>\n",
       "      <th>1</th>\n",
       "      <td>Mammal</td>\n",
       "      <td>Bos bison</td>\n",
       "      <td>American Bison, Bison</td>\n",
       "      <td>NaN</td>\n",
       "    </tr>\n",
       "    <tr>\n",
       "      <th>2</th>\n",
       "      <td>Mammal</td>\n",
       "      <td>Bos taurus</td>\n",
       "      <td>Aurochs, Aurochs, Domestic Cattle (Feral), Dom...</td>\n",
       "      <td>NaN</td>\n",
       "    </tr>\n",
       "    <tr>\n",
       "      <th>3</th>\n",
       "      <td>Mammal</td>\n",
       "      <td>Ovis aries</td>\n",
       "      <td>Domestic Sheep, Mouflon, Red Sheep, Sheep (Feral)</td>\n",
       "      <td>NaN</td>\n",
       "    </tr>\n",
       "    <tr>\n",
       "      <th>4</th>\n",
       "      <td>Mammal</td>\n",
       "      <td>Cervus elaphus</td>\n",
       "      <td>Wapiti Or Elk</td>\n",
       "      <td>NaN</td>\n",
       "    </tr>\n",
       "  </tbody>\n",
       "</table>\n",
       "</div>"
      ],
      "text/plain": [
       "  category                scientific_name  \\\n",
       "0   Mammal  Clethrionomys gapperi gapperi   \n",
       "1   Mammal                      Bos bison   \n",
       "2   Mammal                     Bos taurus   \n",
       "3   Mammal                     Ovis aries   \n",
       "4   Mammal                 Cervus elaphus   \n",
       "\n",
       "                                        common_names conservation_status  \n",
       "0                           Gapper's Red-Backed Vole                 NaN  \n",
       "1                              American Bison, Bison                 NaN  \n",
       "2  Aurochs, Aurochs, Domestic Cattle (Feral), Dom...                 NaN  \n",
       "3  Domestic Sheep, Mouflon, Red Sheep, Sheep (Feral)                 NaN  \n",
       "4                                      Wapiti Or Elk                 NaN  "
      ]
     },
     "execution_count": 4,
     "metadata": {},
     "output_type": "execute_result"
    }
   ],
   "source": [
    "# Check value and nulls\n",
    "print(f\"number of categories:{species.category.nunique()}\")\n",
    "print(f\"categories:{species.category.unique()}\")\n",
    "species.head()"
   ]
  },
  {
   "cell_type": "markdown",
   "metadata": {},
   "source": [
    "How many species are in species dataset "
   ]
  },
  {
   "cell_type": "code",
   "execution_count": 5,
   "metadata": {
    "scrolled": true
   },
   "outputs": [
    {
     "data": {
      "text/plain": [
       "category\n",
       "Amphibian              80\n",
       "Bird                  521\n",
       "Fish                  127\n",
       "Mammal                214\n",
       "Nonvascular Plant     333\n",
       "Reptile                79\n",
       "Vascular Plant       4470\n",
       "dtype: int64"
      ]
     },
     "execution_count": 5,
     "metadata": {},
     "output_type": "execute_result"
    }
   ],
   "source": [
    "species.groupby(\"category\").size()"
   ]
  },
  {
   "cell_type": "markdown",
   "metadata": {},
   "source": [
    "Check out conservation status of species data set and number of species that are not conservationed"
   ]
  },
  {
   "cell_type": "code",
   "execution_count": 6,
   "metadata": {},
   "outputs": [
    {
     "name": "stdout",
     "output_type": "stream",
     "text": [
      "unique conservation statuses:[nan 'Species of Concern' 'Endangered' 'Threatened' 'In Recovery']\n",
      "na values:5633\n"
     ]
    }
   ],
   "source": [
    "print(f\"unique conservation statuses:{species.conservation_status.unique()}\")\n",
    "print(f\"na values:{species.conservation_status.isna().sum()}\")"
   ]
  },
  {
   "cell_type": "markdown",
   "metadata": {},
   "source": [
    "Number of nulls in convertion column"
   ]
  },
  {
   "cell_type": "code",
   "execution_count": 7,
   "metadata": {},
   "outputs": [
    {
     "data": {
      "text/plain": [
       "category                0.00\n",
       "scientific_name         0.00\n",
       "common_names            0.00\n",
       "conservation_status    96.72\n",
       "dtype: float64"
      ]
     },
     "execution_count": 7,
     "metadata": {},
     "output_type": "execute_result"
    }
   ],
   "source": [
    "round(species.isnull().mean()*100,2)"
   ]
  },
  {
   "cell_type": "markdown",
   "metadata": {},
   "source": [
    "How many unique each convertion category have"
   ]
  },
  {
   "cell_type": "code",
   "execution_count": 8,
   "metadata": {},
   "outputs": [
    {
     "name": "stdout",
     "output_type": "stream",
     "text": [
      "Species of Concern    161\n",
      "Endangered             16\n",
      "Threatened             10\n",
      "In Recovery             4\n",
      "Name: conservation_status, dtype: int64\n"
     ]
    }
   ],
   "source": [
    "# or you can use ==> print(species.groupby(\"conservation_status\").size())\n",
    "print(species['conservation_status'].value_counts())"
   ]
  },
  {
   "cell_type": "markdown",
   "metadata": {},
   "source": [
    "Find out number of parks with their names"
   ]
  },
  {
   "cell_type": "code",
   "execution_count": 9,
   "metadata": {},
   "outputs": [
    {
     "name": "stdout",
     "output_type": "stream",
     "text": [
      "number of parks:4\n",
      "unique parks:['Great Smoky Mountains National Park' 'Yosemite National Park'\n",
      " 'Bryce National Park' 'Yellowstone National Park']\n"
     ]
    }
   ],
   "source": [
    "print(f\"number of parks:{observ.park_name.nunique()}\")\n",
    "print(f\"unique parks:{observ.park_name.unique()}\")"
   ]
  },
  {
   "cell_type": "markdown",
   "metadata": {},
   "source": [
    "Merge two dataset into one with science name column and see first rows with information af new dataset"
   ]
  },
  {
   "cell_type": "code",
   "execution_count": 10,
   "metadata": {},
   "outputs": [
    {
     "name": "stdout",
     "output_type": "stream",
     "text": [
      "<class 'pandas.core.frame.DataFrame'>\n",
      "Int64Index: 25632 entries, 0 to 25631\n",
      "Data columns (total 6 columns):\n",
      " #   Column               Non-Null Count  Dtype \n",
      "---  ------               --------------  ----- \n",
      " 0   scientific_name      25632 non-null  object\n",
      " 1   park_name            25632 non-null  object\n",
      " 2   observations         25632 non-null  int64 \n",
      " 3   category             25632 non-null  object\n",
      " 4   common_names         25632 non-null  object\n",
      " 5   conservation_status  880 non-null    object\n",
      "dtypes: int64(1), object(5)\n",
      "memory usage: 1.4+ MB\n"
     ]
    },
    {
     "data": {
      "text/html": [
       "<div>\n",
       "<style scoped>\n",
       "    .dataframe tbody tr th:only-of-type {\n",
       "        vertical-align: middle;\n",
       "    }\n",
       "\n",
       "    .dataframe tbody tr th {\n",
       "        vertical-align: top;\n",
       "    }\n",
       "\n",
       "    .dataframe thead th {\n",
       "        text-align: right;\n",
       "    }\n",
       "</style>\n",
       "<table border=\"1\" class=\"dataframe\">\n",
       "  <thead>\n",
       "    <tr style=\"text-align: right;\">\n",
       "      <th></th>\n",
       "      <th>scientific_name</th>\n",
       "      <th>park_name</th>\n",
       "      <th>observations</th>\n",
       "      <th>category</th>\n",
       "      <th>common_names</th>\n",
       "      <th>conservation_status</th>\n",
       "    </tr>\n",
       "  </thead>\n",
       "  <tbody>\n",
       "    <tr>\n",
       "      <th>0</th>\n",
       "      <td>Vicia benghalensis</td>\n",
       "      <td>Great Smoky Mountains National Park</td>\n",
       "      <td>68</td>\n",
       "      <td>Vascular Plant</td>\n",
       "      <td>Purple Vetch, Reddish Tufted Vetch</td>\n",
       "      <td>NaN</td>\n",
       "    </tr>\n",
       "    <tr>\n",
       "      <th>1</th>\n",
       "      <td>Vicia benghalensis</td>\n",
       "      <td>Yosemite National Park</td>\n",
       "      <td>148</td>\n",
       "      <td>Vascular Plant</td>\n",
       "      <td>Purple Vetch, Reddish Tufted Vetch</td>\n",
       "      <td>NaN</td>\n",
       "    </tr>\n",
       "    <tr>\n",
       "      <th>2</th>\n",
       "      <td>Vicia benghalensis</td>\n",
       "      <td>Yellowstone National Park</td>\n",
       "      <td>247</td>\n",
       "      <td>Vascular Plant</td>\n",
       "      <td>Purple Vetch, Reddish Tufted Vetch</td>\n",
       "      <td>NaN</td>\n",
       "    </tr>\n",
       "    <tr>\n",
       "      <th>3</th>\n",
       "      <td>Vicia benghalensis</td>\n",
       "      <td>Bryce National Park</td>\n",
       "      <td>104</td>\n",
       "      <td>Vascular Plant</td>\n",
       "      <td>Purple Vetch, Reddish Tufted Vetch</td>\n",
       "      <td>NaN</td>\n",
       "    </tr>\n",
       "    <tr>\n",
       "      <th>4</th>\n",
       "      <td>Neovison vison</td>\n",
       "      <td>Great Smoky Mountains National Park</td>\n",
       "      <td>77</td>\n",
       "      <td>Mammal</td>\n",
       "      <td>American Mink</td>\n",
       "      <td>NaN</td>\n",
       "    </tr>\n",
       "  </tbody>\n",
       "</table>\n",
       "</div>"
      ],
      "text/plain": [
       "      scientific_name                            park_name  observations  \\\n",
       "0  Vicia benghalensis  Great Smoky Mountains National Park            68   \n",
       "1  Vicia benghalensis               Yosemite National Park           148   \n",
       "2  Vicia benghalensis            Yellowstone National Park           247   \n",
       "3  Vicia benghalensis                  Bryce National Park           104   \n",
       "4      Neovison vison  Great Smoky Mountains National Park            77   \n",
       "\n",
       "         category                        common_names conservation_status  \n",
       "0  Vascular Plant  Purple Vetch, Reddish Tufted Vetch                 NaN  \n",
       "1  Vascular Plant  Purple Vetch, Reddish Tufted Vetch                 NaN  \n",
       "2  Vascular Plant  Purple Vetch, Reddish Tufted Vetch                 NaN  \n",
       "3  Vascular Plant  Purple Vetch, Reddish Tufted Vetch                 NaN  \n",
       "4          Mammal                       American Mink                 NaN  "
      ]
     },
     "execution_count": 10,
     "metadata": {},
     "output_type": "execute_result"
    }
   ],
   "source": [
    "output = pd.merge(observ, species,  \n",
    "                   on='scientific_name',  \n",
    "                   how='inner') \n",
    "output.info()\n",
    "output.head()"
   ]
  },
  {
   "cell_type": "markdown",
   "metadata": {},
   "source": [
    "Check out the null values of dataset and drop nulls on convertion column"
   ]
  },
  {
   "cell_type": "code",
   "execution_count": 11,
   "metadata": {},
   "outputs": [
    {
     "name": "stdout",
     "output_type": "stream",
     "text": [
      "<class 'pandas.core.frame.DataFrame'>\n",
      "Int64Index: 880 entries, 120 to 25607\n",
      "Data columns (total 6 columns):\n",
      " #   Column               Non-Null Count  Dtype \n",
      "---  ------               --------------  ----- \n",
      " 0   scientific_name      880 non-null    object\n",
      " 1   park_name            880 non-null    object\n",
      " 2   observations         880 non-null    int64 \n",
      " 3   category             880 non-null    object\n",
      " 4   common_names         880 non-null    object\n",
      " 5   conservation_status  880 non-null    object\n",
      "dtypes: int64(1), object(5)\n",
      "memory usage: 48.1+ KB\n"
     ]
    }
   ],
   "source": [
    "output['conservation_status'].isna().value_counts()\n",
    "conservation = output.dropna(subset = ['conservation_status'])\n",
    "conservation.info()"
   ]
  },
  {
   "cell_type": "markdown",
   "metadata": {},
   "source": [
    "See if theres any duplicate rows"
   ]
  },
  {
   "cell_type": "code",
   "execution_count": 12,
   "metadata": {},
   "outputs": [
    {
     "name": "stdout",
     "output_type": "stream",
     "text": [
      "False    880\n",
      "dtype: int64\n"
     ]
    }
   ],
   "source": [
    "duplicates = conservation.duplicated()\n",
    "print(duplicates.value_counts())"
   ]
  },
  {
   "cell_type": "markdown",
   "metadata": {},
   "source": [
    "Plot the convertion status of our data set"
   ]
  },
  {
   "cell_type": "code",
   "execution_count": 13,
   "metadata": {},
   "outputs": [
    {
     "data": {
      "image/png": "[encoded data removed]",
      "text/plain": [
       "<Figure size 1000x600 with 1 Axes>"
      ]
     },
     "metadata": {},
     "output_type": "display_data"
    }
   ],
   "source": [
    "# Plotting Normalized GDP vs Life Expectancy Distribution\n",
    "plt.figure(figsize=(10, 6))\n",
    "sns.histplot(conservation.conservation_status, label='conservation status')\n",
    "\n",
    "plt.show()"
   ]
  },
  {
   "cell_type": "markdown",
   "metadata": {},
   "source": [
    "Create a dictionary for each convertion categories"
   ]
  },
  {
   "cell_type": "code",
   "execution_count": 14,
   "metadata": {},
   "outputs": [
    {
     "name": "stdout",
     "output_type": "stream",
     "text": [
      "{'Endangered':          scientific_name                            park_name  observations  \\\n",
      "1400   Picoides borealis               Yosemite National Park            43   \n",
      "1401   Picoides borealis  Great Smoky Mountains National Park            15   \n",
      "1402   Picoides borealis            Yellowstone National Park            64   \n",
      "1403   Picoides borealis                  Bryce National Park            24   \n",
      "2476        Rana sierrae               Yosemite National Park            42   \n",
      "...                  ...                                  ...           ...   \n",
      "21155     Myotis sodalis            Yellowstone National Park            68   \n",
      "23160     Grus americana  Great Smoky Mountains National Park            13   \n",
      "23161     Grus americana            Yellowstone National Park            57   \n",
      "23162     Grus americana                  Bryce National Park            24   \n",
      "23163     Grus americana               Yosemite National Park            37   \n",
      "\n",
      "        category                           common_names conservation_status  \n",
      "1400        Bird                Red-Cockaded Woodpecker          Endangered  \n",
      "1401        Bird                Red-Cockaded Woodpecker          Endangered  \n",
      "1402        Bird                Red-Cockaded Woodpecker          Endangered  \n",
      "1403        Bird                Red-Cockaded Woodpecker          Endangered  \n",
      "2476   Amphibian       Sierra Nevada Yellow-Legged Frog          Endangered  \n",
      "...          ...                                    ...                 ...  \n",
      "21155     Mammal  Indiana Bat, Indiana Or Social Myotis          Endangered  \n",
      "23160       Bird                         Whooping Crane          Endangered  \n",
      "23161       Bird                         Whooping Crane          Endangered  \n",
      "23162       Bird                         Whooping Crane          Endangered  \n",
      "23163       Bird                         Whooping Crane          Endangered  \n",
      "\n",
      "[80 rows x 6 columns], 'In Recovery':                 scientific_name                            park_name  \\\n",
      "6009                Canis lupus               Yosemite National Park   \n",
      "6012                Canis lupus                  Bryce National Park   \n",
      "6015                Canis lupus                  Bryce National Park   \n",
      "6018                Canis lupus                  Bryce National Park   \n",
      "6021                Canis lupus  Great Smoky Mountains National Park   \n",
      "6024                Canis lupus            Yellowstone National Park   \n",
      "6027                Canis lupus            Yellowstone National Park   \n",
      "6030                Canis lupus            Yellowstone National Park   \n",
      "6033                Canis lupus  Great Smoky Mountains National Park   \n",
      "6036                Canis lupus               Yosemite National Park   \n",
      "6039                Canis lupus               Yosemite National Park   \n",
      "6042                Canis lupus  Great Smoky Mountains National Park   \n",
      "8676    Falco peregrinus anatum                  Bryce National Park   \n",
      "8677    Falco peregrinus anatum            Yellowstone National Park   \n",
      "8678    Falco peregrinus anatum  Great Smoky Mountains National Park   \n",
      "8679    Falco peregrinus anatum               Yosemite National Park   \n",
      "14068  Haliaeetus leucocephalus                  Bryce National Park   \n",
      "14069  Haliaeetus leucocephalus            Yellowstone National Park   \n",
      "14070  Haliaeetus leucocephalus               Yosemite National Park   \n",
      "14071  Haliaeetus leucocephalus  Great Smoky Mountains National Park   \n",
      "23356    Pelecanus occidentalis                  Bryce National Park   \n",
      "23357    Pelecanus occidentalis  Great Smoky Mountains National Park   \n",
      "23358    Pelecanus occidentalis               Yosemite National Park   \n",
      "23359    Pelecanus occidentalis            Yellowstone National Park   \n",
      "\n",
      "       observations category               common_names conservation_status  \n",
      "6009             35   Mammal            Gray Wolf, Wolf         In Recovery  \n",
      "6012             27   Mammal            Gray Wolf, Wolf         In Recovery  \n",
      "6015             29   Mammal            Gray Wolf, Wolf         In Recovery  \n",
      "6018             74   Mammal            Gray Wolf, Wolf         In Recovery  \n",
      "6021             15   Mammal            Gray Wolf, Wolf         In Recovery  \n",
      "6024             60   Mammal            Gray Wolf, Wolf         In Recovery  \n",
      "6027             67   Mammal            Gray Wolf, Wolf         In Recovery  \n",
      "6030            203   Mammal            Gray Wolf, Wolf         In Recovery  \n",
      "6033             14   Mammal            Gray Wolf, Wolf         In Recovery  \n",
      "6036            117   Mammal            Gray Wolf, Wolf         In Recovery  \n",
      "6039             44   Mammal            Gray Wolf, Wolf         In Recovery  \n",
      "6042             30   Mammal            Gray Wolf, Wolf         In Recovery  \n",
      "8676             72     Bird  American Peregrine Falcon         In Recovery  \n",
      "8677            176     Bird  American Peregrine Falcon         In Recovery  \n",
      "8678             70     Bird  American Peregrine Falcon         In Recovery  \n",
      "8679            152     Bird  American Peregrine Falcon         In Recovery  \n",
      "14068            94     Bird                 Bald Eagle         In Recovery  \n",
      "14069           187     Bird                 Bald Eagle         In Recovery  \n",
      "14070           112     Bird                 Bald Eagle         In Recovery  \n",
      "14071            72     Bird                 Bald Eagle         In Recovery  \n",
      "23356            92     Bird              Brown Pelican         In Recovery  \n",
      "23357            47     Bird              Brown Pelican         In Recovery  \n",
      "23358           122     Bird              Brown Pelican         In Recovery  \n",
      "23359           196     Bird              Brown Pelican         In Recovery  , 'Species of Concern':                         scientific_name                            park_name  \\\n",
      "120                    Zizia trifoliata               Yosemite National Park   \n",
      "121                    Zizia trifoliata            Yellowstone National Park   \n",
      "122                    Zizia trifoliata                  Bryce National Park   \n",
      "123                    Zizia trifoliata  Great Smoky Mountains National Park   \n",
      "204    Camissonia sierrae ssp. alticola                  Bryce National Park   \n",
      "...                                 ...                                  ...   \n",
      "25271           Lophocolea appalachiana               Yosemite National Park   \n",
      "25604                        Sium suave  Great Smoky Mountains National Park   \n",
      "25605                        Sium suave                  Bryce National Park   \n",
      "25606                        Sium suave            Yellowstone National Park   \n",
      "25607                        Sium suave               Yosemite National Park   \n",
      "\n",
      "       observations           category  \\\n",
      "120             135     Vascular Plant   \n",
      "121             238     Vascular Plant   \n",
      "122              87     Vascular Plant   \n",
      "123              80     Vascular Plant   \n",
      "204              84     Vascular Plant   \n",
      "...             ...                ...   \n",
      "25271           129  Nonvascular Plant   \n",
      "25604            40     Vascular Plant   \n",
      "25605           117     Vascular Plant   \n",
      "25606           211     Vascular Plant   \n",
      "25607           154     Vascular Plant   \n",
      "\n",
      "                                            common_names conservation_status  \n",
      "120    Meadow Alexanders, Three-Leaved Golden Alexanders  Species of Concern  \n",
      "121    Meadow Alexanders, Three-Leaved Golden Alexanders  Species of Concern  \n",
      "122    Meadow Alexanders, Three-Leaved Golden Alexanders  Species of Concern  \n",
      "123    Meadow Alexanders, Three-Leaved Golden Alexanders  Species of Concern  \n",
      "204    Mono Hot Springs Evening Primrose, Mono Hot Sp...  Species of Concern  \n",
      "...                                                  ...                 ...  \n",
      "25271                             Appalachian Lophocolea  Species of Concern  \n",
      "25604  Common Waterparsnip, Hemlock Waterparsnip, Hem...  Species of Concern  \n",
      "25605  Common Waterparsnip, Hemlock Waterparsnip, Hem...  Species of Concern  \n",
      "25606  Common Waterparsnip, Hemlock Waterparsnip, Hem...  Species of Concern  \n",
      "25607  Common Waterparsnip, Hemlock Waterparsnip, Hem...  Species of Concern  \n",
      "\n",
      "[732 rows x 6 columns], 'Threatened':                      scientific_name                            park_name  \\\n",
      "857              Oncorhynchus mykiss               Yosemite National Park   \n",
      "859              Oncorhynchus mykiss                  Bryce National Park   \n",
      "861              Oncorhynchus mykiss  Great Smoky Mountains National Park   \n",
      "863              Oncorhynchus mykiss            Yellowstone National Park   \n",
      "865              Oncorhynchus mykiss            Yellowstone National Park   \n",
      "867              Oncorhynchus mykiss                  Bryce National Park   \n",
      "869              Oncorhynchus mykiss  Great Smoky Mountains National Park   \n",
      "871              Oncorhynchus mykiss               Yosemite National Park   \n",
      "1772                  Rana draytonii  Great Smoky Mountains National Park   \n",
      "1773                  Rana draytonii               Yosemite National Park   \n",
      "1774                  Rana draytonii                  Bryce National Park   \n",
      "1775                  Rana draytonii            Yellowstone National Park   \n",
      "2516                Anaxyrus canorus  Great Smoky Mountains National Park   \n",
      "2517                Anaxyrus canorus                  Bryce National Park   \n",
      "2518                Anaxyrus canorus               Yosemite National Park   \n",
      "2519                Anaxyrus canorus            Yellowstone National Park   \n",
      "13056         Myotis septentrionalis  Great Smoky Mountains National Park   \n",
      "13057         Myotis septentrionalis            Yellowstone National Park   \n",
      "13058         Myotis septentrionalis                  Bryce National Park   \n",
      "13059         Myotis septentrionalis               Yosemite National Park   \n",
      "14652            Isotria medeoloides            Yellowstone National Park   \n",
      "14653            Isotria medeoloides                  Bryce National Park   \n",
      "14654            Isotria medeoloides               Yosemite National Park   \n",
      "14655            Isotria medeoloides  Great Smoky Mountains National Park   \n",
      "14780              Erimonax monachus               Yosemite National Park   \n",
      "14781              Erimonax monachus                  Bryce National Park   \n",
      "14782              Erimonax monachus            Yellowstone National Park   \n",
      "14783              Erimonax monachus  Great Smoky Mountains National Park   \n",
      "18564             Spiraea virginiana               Yosemite National Park   \n",
      "18565             Spiraea virginiana  Great Smoky Mountains National Park   \n",
      "18566             Spiraea virginiana            Yellowstone National Park   \n",
      "18567             Spiraea virginiana                  Bryce National Park   \n",
      "18640  Oncorhynchus clarkii henshawi  Great Smoky Mountains National Park   \n",
      "18641  Oncorhynchus clarkii henshawi                  Bryce National Park   \n",
      "18642  Oncorhynchus clarkii henshawi            Yellowstone National Park   \n",
      "18643  Oncorhynchus clarkii henshawi               Yosemite National Park   \n",
      "22244        Ursus arctos horribilis                  Bryce National Park   \n",
      "22245        Ursus arctos horribilis  Great Smoky Mountains National Park   \n",
      "22246        Ursus arctos horribilis               Yosemite National Park   \n",
      "22247        Ursus arctos horribilis            Yellowstone National Park   \n",
      "23020            Noturus flavipinnis               Yosemite National Park   \n",
      "23021            Noturus flavipinnis            Yellowstone National Park   \n",
      "23022            Noturus flavipinnis  Great Smoky Mountains National Park   \n",
      "23023            Noturus flavipinnis                  Bryce National Park   \n",
      "\n",
      "       observations        category                              common_names  \\\n",
      "857             118            Fish                             Rainbow Trout   \n",
      "859              59            Fish                             Rainbow Trout   \n",
      "861              61            Fish                             Rainbow Trout   \n",
      "863             119            Fish                             Rainbow Trout   \n",
      "865             253            Fish                             Rainbow Trout   \n",
      "867             105            Fish                             Rainbow Trout   \n",
      "869              39            Fish                             Rainbow Trout   \n",
      "871              59            Fish                             Rainbow Trout   \n",
      "1772             43       Amphibian                California Red-Legged Frog   \n",
      "1773             69       Amphibian                California Red-Legged Frog   \n",
      "1774             37       Amphibian                California Red-Legged Frog   \n",
      "1775            141       Amphibian                California Red-Legged Frog   \n",
      "2516             30       Amphibian                             Yosemite Toad   \n",
      "2517             43       Amphibian                             Yosemite Toad   \n",
      "2518             87       Amphibian                             Yosemite Toad   \n",
      "2519            114       Amphibian                             Yosemite Toad   \n",
      "13056            34          Mammal  Northern Long-Eared Bat, Northern Myotis   \n",
      "13057           143          Mammal  Northern Long-Eared Bat, Northern Myotis   \n",
      "13058            52          Mammal  Northern Long-Eared Bat, Northern Myotis   \n",
      "13059            73          Mammal  Northern Long-Eared Bat, Northern Myotis   \n",
      "14652           114  Vascular Plant                     Small Whorled Pogonia   \n",
      "14653            42  Vascular Plant                     Small Whorled Pogonia   \n",
      "14654            82  Vascular Plant                     Small Whorled Pogonia   \n",
      "14655            36  Vascular Plant                     Small Whorled Pogonia   \n",
      "14780            69            Fish                              Spotfin Chub   \n",
      "14781            46            Fish                              Spotfin Chub   \n",
      "14782           109            Fish                              Spotfin Chub   \n",
      "14783            18            Fish                              Spotfin Chub   \n",
      "18564            62  Vascular Plant                          Virginia Spiraea   \n",
      "18565            45  Vascular Plant                          Virginia Spiraea   \n",
      "18566           114  Vascular Plant                          Virginia Spiraea   \n",
      "18567            57  Vascular Plant                          Virginia Spiraea   \n",
      "18640            48            Fish                  Lahontan Cutthroat Trout   \n",
      "18641            57            Fish                  Lahontan Cutthroat Trout   \n",
      "18642           111            Fish                  Lahontan Cutthroat Trout   \n",
      "18643            85            Fish                  Lahontan Cutthroat Trout   \n",
      "22244            38          Mammal                              Grizzly Bear   \n",
      "22245            50          Mammal                              Grizzly Bear   \n",
      "22246            73          Mammal                              Grizzly Bear   \n",
      "22247           115          Mammal                              Grizzly Bear   \n",
      "23020            72            Fish                          Yellowfin Madtom   \n",
      "23021           126            Fish                          Yellowfin Madtom   \n",
      "23022            36            Fish                          Yellowfin Madtom   \n",
      "23023            55            Fish                          Yellowfin Madtom   \n",
      "\n",
      "      conservation_status  \n",
      "857            Threatened  \n",
      "859            Threatened  \n",
      "861            Threatened  \n",
      "863            Threatened  \n",
      "865            Threatened  \n",
      "867            Threatened  \n",
      "869            Threatened  \n",
      "871            Threatened  \n",
      "1772           Threatened  \n",
      "1773           Threatened  \n",
      "1774           Threatened  \n",
      "1775           Threatened  \n",
      "2516           Threatened  \n",
      "2517           Threatened  \n",
      "2518           Threatened  \n",
      "2519           Threatened  \n",
      "13056          Threatened  \n",
      "13057          Threatened  \n",
      "13058          Threatened  \n",
      "13059          Threatened  \n",
      "14652          Threatened  \n",
      "14653          Threatened  \n",
      "14654          Threatened  \n",
      "14655          Threatened  \n",
      "14780          Threatened  \n",
      "14781          Threatened  \n",
      "14782          Threatened  \n",
      "14783          Threatened  \n",
      "18564          Threatened  \n",
      "18565          Threatened  \n",
      "18566          Threatened  \n",
      "18567          Threatened  \n",
      "18640          Threatened  \n",
      "18641          Threatened  \n",
      "18642          Threatened  \n",
      "18643          Threatened  \n",
      "22244          Threatened  \n",
      "22245          Threatened  \n",
      "22246          Threatened  \n",
      "22247          Threatened  \n",
      "23020          Threatened  \n",
      "23021          Threatened  \n",
      "23022          Threatened  \n",
      "23023          Threatened  }\n"
     ]
    }
   ],
   "source": [
    "cons_stat = {}\n",
    "\n",
    "for value, group in conservation.groupby('conservation_status'):\n",
    "    cons_stat[value] = group\n",
    "        \n",
    "print(cons_stat)"
   ]
  },
  {
   "cell_type": "markdown",
   "metadata": {},
   "source": [
    "Draw plots for indivitual convertion and species category"
   ]
  },
  {
   "cell_type": "code",
   "execution_count": 15,
   "metadata": {},
   "outputs": [
    {
     "data": {
      "image/png": "[encoded data removed]",
      "text/plain": [
       "<Figure size 1000x800 with 1 Axes>"
      ]
     },
     "metadata": {},
     "output_type": "display_data"
    },
    {
     "data": {
      "text/plain": [
       "<Figure size 640x480 with 0 Axes>"
      ]
     },
     "metadata": {},
     "output_type": "display_data"
    },
    {
     "data": {
      "image/png": "[encoded data removed]",
      "text/plain": [
       "<Figure size 1000x800 with 1 Axes>"
      ]
     },
     "metadata": {},
     "output_type": "display_data"
    },
    {
     "data": {
      "text/plain": [
       "<Figure size 640x480 with 0 Axes>"
      ]
     },
     "metadata": {},
     "output_type": "display_data"
    },
    {
     "data": {
      "image/png": "[encoded data removed]",
      "text/plain": [
       "<Figure size 1000x800 with 1 Axes>"
      ]
     },
     "metadata": {},
     "output_type": "display_data"
    },
    {
     "data": {
      "text/plain": [
       "<Figure size 640x480 with 0 Axes>"
      ]
     },
     "metadata": {},
     "output_type": "display_data"
    },
    {
     "data": {
      "image/png": "[encoded data removed]",
      "text/plain": [
       "<Figure size 1000x800 with 1 Axes>"
      ]
     },
     "metadata": {},
     "output_type": "display_data"
    },
    {
     "data": {
      "text/plain": [
       "<Figure size 640x480 with 0 Axes>"
      ]
     },
     "metadata": {},
     "output_type": "display_data"
    }
   ],
   "source": [
    "for status in cons_stat:\n",
    "\n",
    "    plt.figure(figsize=(10, 8))\n",
    "    plt.hist(cons_stat[status]['category'], bins=13 , color='#1ae5b6')\n",
    "    \n",
    "    plt.title(str(str(status) + \" Category \"))\n",
    "    plt.xlabel('Category')\n",
    "    plt.ylabel('Number of spcies')\n",
    "    plt.grid(axis='y', linestyle='--', alpha=0.7)\n",
    "    \n",
    "    plt.show()\n",
    "    plt.clf()"
   ]
  },
  {
   "cell_type": "markdown",
   "metadata": {},
   "source": [
    "Pie chart for threatened species category"
   ]
  },
  {
   "cell_type": "code",
   "execution_count": 16,
   "metadata": {},
   "outputs": [
    {
     "data": {
      "image/png": "[encoded data removed]",
      "text/plain": [
       "<Figure size 1000x800 with 1 Axes>"
      ]
     },
     "metadata": {},
     "output_type": "display_data"
    },
    {
     "data": {
      "text/plain": [
       "<Figure size 640x480 with 0 Axes>"
      ]
     },
     "metadata": {},
     "output_type": "display_data"
    }
   ],
   "source": [
    "Threatened_labels = ['Fish', 'Amphibian', 'Mammal', 'Vascular Plant']\n",
    "\n",
    "plt.figure(figsize=(10, 8))\n",
    "plt.pie(cons_stat['Threatened']['category'].value_counts() , autopct='%0.1f%%')\n",
    "\n",
    "plt.title(str(\"Threatened Category\"))\n",
    "plt.legend(Threatened_labels)\n",
    "\n",
    "plt.axis('equal')\n",
    "plt.show()\n",
    "plt.clf()"
   ]
  },
  {
   "cell_type": "markdown",
   "metadata": {},
   "source": [
    "Pie chart for concerned species category"
   ]
  },
  {
   "cell_type": "code",
   "execution_count": 17,
   "metadata": {},
   "outputs": [
    {
     "data": {
      "image/png": "[encoded data removed]",
      "text/plain": [
       "<Figure size 1000x800 with 1 Axes>"
      ]
     },
     "metadata": {},
     "output_type": "display_data"
    },
    {
     "data": {
      "text/plain": [
       "<Figure size 640x480 with 0 Axes>"
      ]
     },
     "metadata": {},
     "output_type": "display_data"
    }
   ],
   "source": [
    "Concern_labels = ['Bird', 'Vascular Plant', 'Mammal', 'Reptile', 'Nonvascular Plant', 'Fish', 'Amphibian']\n",
    "\n",
    "plt.figure(figsize=(10, 8))\n",
    "plt.pie(cons_stat['Species of Concern']['category'].value_counts() , autopct='%0.1f%%')\n",
    "\n",
    "plt.title(str(\"Species of Concern Category \"))\n",
    "plt.legend(Concern_labels)\n",
    "\n",
    "plt.axis('equal')\n",
    "plt.show()\n",
    "plt.clf()"
   ]
  },
  {
   "cell_type": "markdown",
   "metadata": {},
   "source": [
    "Pie chart for in recovery species category"
   ]
  },
  {
   "cell_type": "code",
   "execution_count": 18,
   "metadata": {},
   "outputs": [
    {
     "data": {
      "image/png": "[encoded data removed]",
      "text/plain": [
       "<Figure size 1000x800 with 1 Axes>"
      ]
     },
     "metadata": {},
     "output_type": "display_data"
    },
    {
     "data": {
      "text/plain": [
       "<Figure size 640x480 with 0 Axes>"
      ]
     },
     "metadata": {},
     "output_type": "display_data"
    }
   ],
   "source": [
    "Recovery_labels = ['Mammal', 'Bird']\n",
    "\n",
    "plt.figure(figsize=(10, 8))\n",
    "plt.pie(cons_stat['In Recovery']['category'].value_counts() , autopct='%0.1f%%')\n",
    "\n",
    "plt.title(str(\"In Recovery Category \"))\n",
    "plt.legend(Recovery_labels)\n",
    "\n",
    "plt.axis('equal')\n",
    "plt.show()\n",
    "plt.clf()"
   ]
  },
  {
   "cell_type": "markdown",
   "metadata": {},
   "source": [
    "Pie chart for endangered species category"
   ]
  },
  {
   "cell_type": "code",
   "execution_count": 19,
   "metadata": {},
   "outputs": [
    {
     "data": {
      "image/png": "[encoded data removed]",
      "text/plain": [
       "<Figure size 1000x800 with 1 Axes>"
      ]
     },
     "metadata": {},
     "output_type": "display_data"
    },
    {
     "data": {
      "text/plain": [
       "<Figure size 640x480 with 0 Axes>"
      ]
     },
     "metadata": {},
     "output_type": "display_data"
    }
   ],
   "source": [
    "plt.figure(figsize=(10, 8))\n",
    "plt.pie(cons_stat['Endangered']['category'].value_counts() , autopct='%0.1f%%')\n",
    "    \n",
    "Endangered_labels = ['Mammal', 'Bird', 'Fish', 'Amphibian', 'Vascular Plant']\n",
    "\n",
    "plt.title(\"Endangered Category \")\n",
    "plt.legend(Endangered_labels)\n",
    "\n",
    "plt.axis('equal')\n",
    "plt.show()\n",
    "plt.clf()"
   ]
  },
  {
   "cell_type": "markdown",
   "metadata": {},
   "source": [
    "Scatter plots for each observation categories vs species"
   ]
  },
  {
   "cell_type": "code",
   "execution_count": 20,
   "metadata": {},
   "outputs": [
    {
     "data": {
      "image/png": "[encoded data removed]",
      "text/plain": [
       "<Figure size 1000x800 with 1 Axes>"
      ]
     },
     "metadata": {},
     "output_type": "display_data"
    },
    {
     "data": {
      "text/plain": [
       "<Figure size 640x480 with 0 Axes>"
      ]
     },
     "metadata": {},
     "output_type": "display_data"
    },
    {
     "data": {
      "image/png": "[encoded data removed]",
      "text/plain": [
       "<Figure size 1000x800 with 1 Axes>"
      ]
     },
     "metadata": {},
     "output_type": "display_data"
    },
    {
     "data": {
      "text/plain": [
       "<Figure size 640x480 with 0 Axes>"
      ]
     },
     "metadata": {},
     "output_type": "display_data"
    },
    {
     "data": {
      "image/png": "[encoded data removed]",
      "text/plain": [
       "<Figure size 1000x800 with 1 Axes>"
      ]
     },
     "metadata": {},
     "output_type": "display_data"
    },
    {
     "data": {
      "text/plain": [
       "<Figure size 640x480 with 0 Axes>"
      ]
     },
     "metadata": {},
     "output_type": "display_data"
    },
    {
     "data": {
      "image/png": "[encoded data removed]",
      "text/plain": [
       "<Figure size 1000x800 with 1 Axes>"
      ]
     },
     "metadata": {},
     "output_type": "display_data"
    },
    {
     "data": {
      "text/plain": [
       "<Figure size 640x480 with 0 Axes>"
      ]
     },
     "metadata": {},
     "output_type": "display_data"
    }
   ],
   "source": [
    "for status in cons_stat:\n",
    "\n",
    "    plt.figure(figsize=(10, 8))\n",
    "    plt.scatter(x = cons_stat[status]['category'] , y = cons_stat[status]['observations'], )\n",
    "    \n",
    "    plt.title(str(str(status) + \" Category \"))\n",
    "    plt.xlabel('Category')\n",
    "    plt.ylabel(str(status) + ' observations')\n",
    "    \n",
    "    plt.show()\n",
    "    plt.clf()"
   ]
  },
  {
   "cell_type": "markdown",
   "metadata": {},
   "source": [
    "Calculate the most park and species in each convertion status"
   ]
  },
  {
   "cell_type": "code",
   "execution_count": 21,
   "metadata": {},
   "outputs": [
    {
     "name": "stdout",
     "output_type": "stream",
     "text": [
      "Most Endangered Species Are: ['Vermivora bachmanii']\n",
      "Park That Have The Most Endangered Species Is: ['Yosemite National Park']\n",
      "Animal Category That is the most Endangered Is: ['Vascular Plant']\n",
      "Most In Recovery Species Are: ['Pelecanus occidentalis']\n",
      "Park That Have The Most In Recovery Species Is: ['Yosemite National Park']\n",
      "Animal Category That is the most In Recovery Is: ['Mammal']\n",
      "Most Species of Concern Species Are: ['Zizia trifoliata']\n",
      "Park That Have The Most Species of Concern Species Is: ['Yosemite National Park']\n",
      "Animal Category That is the most Species of Concern Is: ['Vascular Plant']\n",
      "Most Threatened Species Are: ['Ursus arctos horribilis']\n",
      "Park That Have The Most Threatened Species Is: ['Yosemite National Park']\n",
      "Animal Category That is the most Threatened Is: ['Vascular Plant']\n"
     ]
    }
   ],
   "source": [
    "for status in cons_stat:\n",
    "    max_spiecies = [cons_stat[status]['scientific_name'].max()]\n",
    "    print( 'Most ' + str(status) + ' Species Are: ' + str(max_spiecies) )\n",
    "    \n",
    "    max_park_species = [cons_stat[status]['park_name'].max()]\n",
    "    print( 'Park That Have The Most ' + str(status) + ' Species Is: ' + str(max_park_species) )\n",
    "    \n",
    "    max_cat_species = [cons_stat[status]['category'].max()]\n",
    "    print( 'Animal Category That is the most ' + str(status) + ' Is: ' + str(max_cat_species) )"
   ]
  },
  {
   "cell_type": "markdown",
   "metadata": {},
   "source": [
    "Bar plot of most endangered category in each park"
   ]
  },
  {
   "cell_type": "code",
   "execution_count": 22,
   "metadata": {},
   "outputs": [
    {
     "data": {
      "image/png": "[encoded data removed]",
      "text/plain": [
       "<Figure size 1000x800 with 1 Axes>"
      ]
     },
     "metadata": {},
     "output_type": "display_data"
    },
    {
     "data": {
      "text/plain": [
       "<Figure size 640x480 with 0 Axes>"
      ]
     },
     "metadata": {},
     "output_type": "display_data"
    }
   ],
   "source": [
    "vermi = output.loc[output['scientific_name'] == 'Vermivora bachmanii']\n",
    "\n",
    "plt.figure(figsize=(10, 8))\n",
    "plt.bar(vermi['park_name'], vermi['observations'], color='#1ae5b6')\n",
    "    \n",
    "plt.title('Parks that Vermivora Bachmanii is endangered')\n",
    "plt.xlabel('Park')\n",
    "plt.ylabel('Number of Vermivora Bachmanii')\n",
    "plt.grid(axis='y', linestyle='--', alpha=0.7)\n",
    "\n",
    "plt.xticks(rotation=45)\n",
    "plt.show()\n",
    "plt.clf()"
   ]
  },
  {
   "cell_type": "markdown",
   "metadata": {},
   "source": [
    "Number of each species in each Covertion status"
   ]
  },
  {
   "cell_type": "code",
   "execution_count": 23,
   "metadata": {},
   "outputs": [
    {
     "data": {
      "text/html": [
       "<div>\n",
       "<style scoped>\n",
       "    .dataframe tbody tr th:only-of-type {\n",
       "        vertical-align: middle;\n",
       "    }\n",
       "\n",
       "    .dataframe tbody tr th {\n",
       "        vertical-align: top;\n",
       "    }\n",
       "\n",
       "    .dataframe thead th {\n",
       "        text-align: right;\n",
       "    }\n",
       "</style>\n",
       "<table border=\"1\" class=\"dataframe\">\n",
       "  <thead>\n",
       "    <tr style=\"text-align: right;\">\n",
       "      <th>category</th>\n",
       "      <th>Amphibian</th>\n",
       "      <th>Bird</th>\n",
       "      <th>Fish</th>\n",
       "      <th>Mammal</th>\n",
       "      <th>Nonvascular Plant</th>\n",
       "      <th>Reptile</th>\n",
       "      <th>Vascular Plant</th>\n",
       "    </tr>\n",
       "    <tr>\n",
       "      <th>conservation_status</th>\n",
       "      <th></th>\n",
       "      <th></th>\n",
       "      <th></th>\n",
       "      <th></th>\n",
       "      <th></th>\n",
       "      <th></th>\n",
       "      <th></th>\n",
       "    </tr>\n",
       "  </thead>\n",
       "  <tbody>\n",
       "    <tr>\n",
       "      <th>Endangered</th>\n",
       "      <td>4</td>\n",
       "      <td>16</td>\n",
       "      <td>12</td>\n",
       "      <td>44</td>\n",
       "      <td>0</td>\n",
       "      <td>0</td>\n",
       "      <td>4</td>\n",
       "    </tr>\n",
       "    <tr>\n",
       "      <th>In Recovery</th>\n",
       "      <td>0</td>\n",
       "      <td>12</td>\n",
       "      <td>0</td>\n",
       "      <td>12</td>\n",
       "      <td>0</td>\n",
       "      <td>0</td>\n",
       "      <td>0</td>\n",
       "    </tr>\n",
       "    <tr>\n",
       "      <th>Species of Concern</th>\n",
       "      <td>16</td>\n",
       "      <td>320</td>\n",
       "      <td>16</td>\n",
       "      <td>168</td>\n",
       "      <td>20</td>\n",
       "      <td>20</td>\n",
       "      <td>172</td>\n",
       "    </tr>\n",
       "    <tr>\n",
       "      <th>Threatened</th>\n",
       "      <td>8</td>\n",
       "      <td>0</td>\n",
       "      <td>20</td>\n",
       "      <td>8</td>\n",
       "      <td>0</td>\n",
       "      <td>0</td>\n",
       "      <td>8</td>\n",
       "    </tr>\n",
       "  </tbody>\n",
       "</table>\n",
       "</div>"
      ],
      "text/plain": [
       "category             Amphibian  Bird  Fish  Mammal  Nonvascular Plant  \\\n",
       "conservation_status                                                     \n",
       "Endangered                   4    16    12      44                  0   \n",
       "In Recovery                  0    12     0      12                  0   \n",
       "Species of Concern          16   320    16     168                 20   \n",
       "Threatened                   8     0    20       8                  0   \n",
       "\n",
       "category             Reptile  Vascular Plant  \n",
       "conservation_status                           \n",
       "Endangered                 0               4  \n",
       "In Recovery                0               0  \n",
       "Species of Concern        20             172  \n",
       "Threatened                 0               8  "
      ]
     },
     "execution_count": 23,
     "metadata": {},
     "output_type": "execute_result"
    }
   ],
   "source": [
    "#convertion vs category\n",
    "pd.crosstab(conservation['conservation_status'], conservation['category'])"
   ]
  },
  {
   "cell_type": "code",
   "execution_count": 24,
   "metadata": {},
   "outputs": [
    {
     "data": {
      "text/html": [
       "<div>\n",
       "<style scoped>\n",
       "    .dataframe tbody tr th:only-of-type {\n",
       "        vertical-align: middle;\n",
       "    }\n",
       "\n",
       "    .dataframe tbody tr th {\n",
       "        vertical-align: top;\n",
       "    }\n",
       "\n",
       "    .dataframe thead th {\n",
       "        text-align: right;\n",
       "    }\n",
       "</style>\n",
       "<table border=\"1\" class=\"dataframe\">\n",
       "  <thead>\n",
       "    <tr style=\"text-align: right;\">\n",
       "      <th>category</th>\n",
       "      <th>Amphibian</th>\n",
       "      <th>Bird</th>\n",
       "      <th>Fish</th>\n",
       "      <th>Mammal</th>\n",
       "      <th>Nonvascular Plant</th>\n",
       "      <th>Reptile</th>\n",
       "      <th>Vascular Plant</th>\n",
       "    </tr>\n",
       "    <tr>\n",
       "      <th>conservation_status</th>\n",
       "      <th></th>\n",
       "      <th></th>\n",
       "      <th></th>\n",
       "      <th></th>\n",
       "      <th></th>\n",
       "      <th></th>\n",
       "      <th></th>\n",
       "    </tr>\n",
       "  </thead>\n",
       "  <tbody>\n",
       "    <tr>\n",
       "      <th>Endangered</th>\n",
       "      <td>1.0</td>\n",
       "      <td>4.0</td>\n",
       "      <td>3.0</td>\n",
       "      <td>7.0</td>\n",
       "      <td>NaN</td>\n",
       "      <td>NaN</td>\n",
       "      <td>1.0</td>\n",
       "    </tr>\n",
       "    <tr>\n",
       "      <th>In Recovery</th>\n",
       "      <td>NaN</td>\n",
       "      <td>3.0</td>\n",
       "      <td>NaN</td>\n",
       "      <td>1.0</td>\n",
       "      <td>NaN</td>\n",
       "      <td>NaN</td>\n",
       "      <td>NaN</td>\n",
       "    </tr>\n",
       "    <tr>\n",
       "      <th>Species of Concern</th>\n",
       "      <td>4.0</td>\n",
       "      <td>72.0</td>\n",
       "      <td>4.0</td>\n",
       "      <td>28.0</td>\n",
       "      <td>5.0</td>\n",
       "      <td>5.0</td>\n",
       "      <td>43.0</td>\n",
       "    </tr>\n",
       "    <tr>\n",
       "      <th>Threatened</th>\n",
       "      <td>2.0</td>\n",
       "      <td>NaN</td>\n",
       "      <td>4.0</td>\n",
       "      <td>2.0</td>\n",
       "      <td>NaN</td>\n",
       "      <td>NaN</td>\n",
       "      <td>2.0</td>\n",
       "    </tr>\n",
       "  </tbody>\n",
       "</table>\n",
       "</div>"
      ],
      "text/plain": [
       "category             Amphibian  Bird  Fish  Mammal  Nonvascular Plant  \\\n",
       "conservation_status                                                     \n",
       "Endangered                 1.0   4.0   3.0     7.0                NaN   \n",
       "In Recovery                NaN   3.0   NaN     1.0                NaN   \n",
       "Species of Concern         4.0  72.0   4.0    28.0                5.0   \n",
       "Threatened                 2.0   NaN   4.0     2.0                NaN   \n",
       "\n",
       "category             Reptile  Vascular Plant  \n",
       "conservation_status                           \n",
       "Endangered               NaN             1.0  \n",
       "In Recovery              NaN             NaN  \n",
       "Species of Concern       5.0            43.0  \n",
       "Threatened               NaN             2.0  "
      ]
     },
     "execution_count": 24,
     "metadata": {},
     "output_type": "execute_result"
    }
   ],
   "source": [
    "conservationCategory = species[species.conservation_status != \"NaN\"]\\\n",
    "    .groupby([\"conservation_status\", \"category\"])['scientific_name']\\\n",
    "    .count()\\\n",
    "    .unstack()\n",
    "\n",
    "conservationCategory"
   ]
  },
  {
   "cell_type": "markdown",
   "metadata": {},
   "source": [
    "Number of each park in each species covertion status"
   ]
  },
  {
   "cell_type": "code",
   "execution_count": 25,
   "metadata": {
    "scrolled": true
   },
   "outputs": [
    {
     "data": {
      "text/html": [
       "<div>\n",
       "<style scoped>\n",
       "    .dataframe tbody tr th:only-of-type {\n",
       "        vertical-align: middle;\n",
       "    }\n",
       "\n",
       "    .dataframe tbody tr th {\n",
       "        vertical-align: top;\n",
       "    }\n",
       "\n",
       "    .dataframe thead th {\n",
       "        text-align: right;\n",
       "    }\n",
       "</style>\n",
       "<table border=\"1\" class=\"dataframe\">\n",
       "  <thead>\n",
       "    <tr style=\"text-align: right;\">\n",
       "      <th>park_name</th>\n",
       "      <th>Bryce National Park</th>\n",
       "      <th>Great Smoky Mountains National Park</th>\n",
       "      <th>Yellowstone National Park</th>\n",
       "      <th>Yosemite National Park</th>\n",
       "    </tr>\n",
       "    <tr>\n",
       "      <th>conservation_status</th>\n",
       "      <th></th>\n",
       "      <th></th>\n",
       "      <th></th>\n",
       "      <th></th>\n",
       "    </tr>\n",
       "  </thead>\n",
       "  <tbody>\n",
       "    <tr>\n",
       "      <th>Endangered</th>\n",
       "      <td>20</td>\n",
       "      <td>20</td>\n",
       "      <td>20</td>\n",
       "      <td>20</td>\n",
       "    </tr>\n",
       "    <tr>\n",
       "      <th>In Recovery</th>\n",
       "      <td>6</td>\n",
       "      <td>6</td>\n",
       "      <td>6</td>\n",
       "      <td>6</td>\n",
       "    </tr>\n",
       "    <tr>\n",
       "      <th>Species of Concern</th>\n",
       "      <td>183</td>\n",
       "      <td>183</td>\n",
       "      <td>183</td>\n",
       "      <td>183</td>\n",
       "    </tr>\n",
       "    <tr>\n",
       "      <th>Threatened</th>\n",
       "      <td>11</td>\n",
       "      <td>11</td>\n",
       "      <td>11</td>\n",
       "      <td>11</td>\n",
       "    </tr>\n",
       "  </tbody>\n",
       "</table>\n",
       "</div>"
      ],
      "text/plain": [
       "park_name            Bryce National Park  Great Smoky Mountains National Park  \\\n",
       "conservation_status                                                             \n",
       "Endangered                            20                                   20   \n",
       "In Recovery                            6                                    6   \n",
       "Species of Concern                   183                                  183   \n",
       "Threatened                            11                                   11   \n",
       "\n",
       "park_name            Yellowstone National Park  Yosemite National Park  \n",
       "conservation_status                                                     \n",
       "Endangered                                  20                      20  \n",
       "In Recovery                                  6                       6  \n",
       "Species of Concern                         183                     183  \n",
       "Threatened                                  11                      11  "
      ]
     },
     "execution_count": 25,
     "metadata": {},
     "output_type": "execute_result"
    }
   ],
   "source": [
    "#convertion vs park\n",
    "pd.crosstab(conservation['conservation_status'], conservation['park_name'])"
   ]
  },
  {
   "cell_type": "markdown",
   "metadata": {},
   "source": [
    "Number of each species and each Covertion status in Yosemite National Park"
   ]
  },
  {
   "cell_type": "code",
   "execution_count": 26,
   "metadata": {},
   "outputs": [
    {
     "data": {
      "text/html": [
       "<div>\n",
       "<style scoped>\n",
       "    .dataframe tbody tr th:only-of-type {\n",
       "        vertical-align: middle;\n",
       "    }\n",
       "\n",
       "    .dataframe tbody tr th {\n",
       "        vertical-align: top;\n",
       "    }\n",
       "\n",
       "    .dataframe thead th {\n",
       "        text-align: right;\n",
       "    }\n",
       "</style>\n",
       "<table border=\"1\" class=\"dataframe\">\n",
       "  <thead>\n",
       "    <tr style=\"text-align: right;\">\n",
       "      <th>category</th>\n",
       "      <th>Amphibian</th>\n",
       "      <th>Bird</th>\n",
       "      <th>Fish</th>\n",
       "      <th>Mammal</th>\n",
       "      <th>Nonvascular Plant</th>\n",
       "      <th>Reptile</th>\n",
       "      <th>Vascular Plant</th>\n",
       "    </tr>\n",
       "    <tr>\n",
       "      <th>conservation_status</th>\n",
       "      <th></th>\n",
       "      <th></th>\n",
       "      <th></th>\n",
       "      <th></th>\n",
       "      <th></th>\n",
       "      <th></th>\n",
       "      <th></th>\n",
       "    </tr>\n",
       "  </thead>\n",
       "  <tbody>\n",
       "    <tr>\n",
       "      <th>Endangered</th>\n",
       "      <td>1</td>\n",
       "      <td>4</td>\n",
       "      <td>3</td>\n",
       "      <td>11</td>\n",
       "      <td>0</td>\n",
       "      <td>0</td>\n",
       "      <td>1</td>\n",
       "    </tr>\n",
       "    <tr>\n",
       "      <th>In Recovery</th>\n",
       "      <td>0</td>\n",
       "      <td>3</td>\n",
       "      <td>0</td>\n",
       "      <td>3</td>\n",
       "      <td>0</td>\n",
       "      <td>0</td>\n",
       "      <td>0</td>\n",
       "    </tr>\n",
       "    <tr>\n",
       "      <th>Species of Concern</th>\n",
       "      <td>4</td>\n",
       "      <td>80</td>\n",
       "      <td>4</td>\n",
       "      <td>42</td>\n",
       "      <td>5</td>\n",
       "      <td>5</td>\n",
       "      <td>43</td>\n",
       "    </tr>\n",
       "    <tr>\n",
       "      <th>Threatened</th>\n",
       "      <td>2</td>\n",
       "      <td>0</td>\n",
       "      <td>5</td>\n",
       "      <td>2</td>\n",
       "      <td>0</td>\n",
       "      <td>0</td>\n",
       "      <td>2</td>\n",
       "    </tr>\n",
       "  </tbody>\n",
       "</table>\n",
       "</div>"
      ],
      "text/plain": [
       "category             Amphibian  Bird  Fish  Mammal  Nonvascular Plant  \\\n",
       "conservation_status                                                     \n",
       "Endangered                   1     4     3      11                  0   \n",
       "In Recovery                  0     3     0       3                  0   \n",
       "Species of Concern           4    80     4      42                  5   \n",
       "Threatened                   2     0     5       2                  0   \n",
       "\n",
       "category             Reptile  Vascular Plant  \n",
       "conservation_status                           \n",
       "Endangered                 0               1  \n",
       "In Recovery                0               0  \n",
       "Species of Concern         5              43  \n",
       "Threatened                 0               2  "
      ]
     },
     "execution_count": 26,
     "metadata": {},
     "output_type": "execute_result"
    }
   ],
   "source": [
    "#most species endanger park vs categories\n",
    "Yosemite = conservation.loc[conservation['park_name'] == 'Yosemite National Park']\n",
    "pd.crosstab(Yosemite['conservation_status'], Yosemite['category'])"
   ]
  },
  {
   "cell_type": "markdown",
   "metadata": {},
   "source": [
    "Most repeated name of species in scientefic name column"
   ]
  },
  {
   "cell_type": "code",
   "execution_count": 27,
   "metadata": {
    "scrolled": true
   },
   "outputs": [
    {
     "name": "stdout",
     "output_type": "stream",
     "text": [
      "Myotis lucifugus                        36\n",
      "Puma concolor                           36\n",
      "Hypochaeris radicata                    36\n",
      "Holcus lanatus                          36\n",
      "Streptopelia decaocto                   36\n",
      "                                        ..\n",
      "Packera dimorphophylla var. paysonii     4\n",
      "Smilax bona-nox                          4\n",
      "Chondestes grammacus                     4\n",
      "Leymus triticoides                       4\n",
      "Dichanthelium depauperatum               4\n",
      "Name: scientific_name, Length: 5541, dtype: int64\n",
      "7\n"
     ]
    }
   ],
   "source": [
    "print(output['scientific_name'].value_counts())\n",
    "print(len(output['category'].value_counts()))"
   ]
  },
  {
   "cell_type": "markdown",
   "metadata": {},
   "source": [
    "Unique name of each species category"
   ]
  },
  {
   "cell_type": "code",
   "execution_count": 28,
   "metadata": {},
   "outputs": [
    {
     "name": "stdout",
     "output_type": "stream",
     "text": [
      "['Amphibian', 'Bird', 'Fish', 'Mammal', 'Nonvascular Plant', 'Reptile', 'Vascular Plant']\n"
     ]
    }
   ],
   "source": [
    "categories = []\n",
    "\n",
    "for value, group in conservation.groupby('category'):\n",
    "    categories.append(value)\n",
    "\n",
    "print(categories)"
   ]
  },
  {
   "cell_type": "markdown",
   "metadata": {},
   "source": [
    "Amphibian categoriy convertion status"
   ]
  },
  {
   "cell_type": "code",
   "execution_count": 29,
   "metadata": {
    "scrolled": true
   },
   "outputs": [
    {
     "data": {
      "text/html": [
       "<div>\n",
       "<style scoped>\n",
       "    .dataframe tbody tr th:only-of-type {\n",
       "        vertical-align: middle;\n",
       "    }\n",
       "\n",
       "    .dataframe tbody tr th {\n",
       "        vertical-align: top;\n",
       "    }\n",
       "\n",
       "    .dataframe thead th {\n",
       "        text-align: right;\n",
       "    }\n",
       "</style>\n",
       "<table border=\"1\" class=\"dataframe\">\n",
       "  <thead>\n",
       "    <tr style=\"text-align: right;\">\n",
       "      <th>scientific_name</th>\n",
       "      <th>Anaxyrus canorus</th>\n",
       "      <th>Cryptobranchus alleganiensis alleganiensis</th>\n",
       "      <th>Desmognathus wrighti</th>\n",
       "      <th>Hydromantes platycephalus</th>\n",
       "      <th>Rana draytonii</th>\n",
       "      <th>Rana luteiventris</th>\n",
       "      <th>Rana sierrae</th>\n",
       "    </tr>\n",
       "    <tr>\n",
       "      <th>conservation_status</th>\n",
       "      <th></th>\n",
       "      <th></th>\n",
       "      <th></th>\n",
       "      <th></th>\n",
       "      <th></th>\n",
       "      <th></th>\n",
       "      <th></th>\n",
       "    </tr>\n",
       "  </thead>\n",
       "  <tbody>\n",
       "    <tr>\n",
       "      <th>Endangered</th>\n",
       "      <td>0</td>\n",
       "      <td>0</td>\n",
       "      <td>0</td>\n",
       "      <td>0</td>\n",
       "      <td>0</td>\n",
       "      <td>0</td>\n",
       "      <td>4</td>\n",
       "    </tr>\n",
       "    <tr>\n",
       "      <th>Species of Concern</th>\n",
       "      <td>0</td>\n",
       "      <td>4</td>\n",
       "      <td>4</td>\n",
       "      <td>4</td>\n",
       "      <td>0</td>\n",
       "      <td>4</td>\n",
       "      <td>0</td>\n",
       "    </tr>\n",
       "    <tr>\n",
       "      <th>Threatened</th>\n",
       "      <td>4</td>\n",
       "      <td>0</td>\n",
       "      <td>0</td>\n",
       "      <td>0</td>\n",
       "      <td>4</td>\n",
       "      <td>0</td>\n",
       "      <td>0</td>\n",
       "    </tr>\n",
       "  </tbody>\n",
       "</table>\n",
       "</div>"
      ],
      "text/plain": [
       "scientific_name      Anaxyrus canorus  \\\n",
       "conservation_status                     \n",
       "Endangered                          0   \n",
       "Species of Concern                  0   \n",
       "Threatened                          4   \n",
       "\n",
       "scientific_name      Cryptobranchus alleganiensis alleganiensis  \\\n",
       "conservation_status                                               \n",
       "Endangered                                                    0   \n",
       "Species of Concern                                            4   \n",
       "Threatened                                                    0   \n",
       "\n",
       "scientific_name      Desmognathus wrighti  Hydromantes platycephalus  \\\n",
       "conservation_status                                                    \n",
       "Endangered                              0                          0   \n",
       "Species of Concern                      4                          4   \n",
       "Threatened                              0                          0   \n",
       "\n",
       "scientific_name      Rana draytonii  Rana luteiventris  Rana sierrae  \n",
       "conservation_status                                                   \n",
       "Endangered                        0                  0             4  \n",
       "Species of Concern                0                  4             0  \n",
       "Threatened                        4                  0             0  "
      ]
     },
     "execution_count": 29,
     "metadata": {},
     "output_type": "execute_result"
    }
   ],
   "source": [
    "#Amphibian cat vs scientefic names\n",
    "Amphibian = conservation.loc[conservation['category'] == 'Amphibian']\n",
    "pd.crosstab(Amphibian['conservation_status'], Amphibian['scientific_name'])"
   ]
  },
  {
   "cell_type": "markdown",
   "metadata": {},
   "source": [
    "Birds categoriy convertion status"
   ]
  },
  {
   "cell_type": "code",
   "execution_count": 30,
   "metadata": {
    "scrolled": false
   },
   "outputs": [
    {
     "data": {
      "text/html": [
       "<div>\n",
       "<style scoped>\n",
       "    .dataframe tbody tr th:only-of-type {\n",
       "        vertical-align: middle;\n",
       "    }\n",
       "\n",
       "    .dataframe tbody tr th {\n",
       "        vertical-align: top;\n",
       "    }\n",
       "\n",
       "    .dataframe thead th {\n",
       "        text-align: right;\n",
       "    }\n",
       "</style>\n",
       "<table border=\"1\" class=\"dataframe\">\n",
       "  <thead>\n",
       "    <tr style=\"text-align: right;\">\n",
       "      <th>conservation_status</th>\n",
       "      <th>Endangered</th>\n",
       "      <th>In Recovery</th>\n",
       "      <th>Species of Concern</th>\n",
       "    </tr>\n",
       "    <tr>\n",
       "      <th>scientific_name</th>\n",
       "      <th></th>\n",
       "      <th></th>\n",
       "      <th></th>\n",
       "    </tr>\n",
       "  </thead>\n",
       "  <tbody>\n",
       "    <tr>\n",
       "      <th>Picoides borealis</th>\n",
       "      <td>4</td>\n",
       "      <td>0</td>\n",
       "      <td>0</td>\n",
       "    </tr>\n",
       "    <tr>\n",
       "      <th>Gymnogyps californianus</th>\n",
       "      <td>4</td>\n",
       "      <td>0</td>\n",
       "      <td>0</td>\n",
       "    </tr>\n",
       "    <tr>\n",
       "      <th>Vermivora bachmanii</th>\n",
       "      <td>4</td>\n",
       "      <td>0</td>\n",
       "      <td>0</td>\n",
       "    </tr>\n",
       "    <tr>\n",
       "      <th>Grus americana</th>\n",
       "      <td>4</td>\n",
       "      <td>0</td>\n",
       "      <td>0</td>\n",
       "    </tr>\n",
       "    <tr>\n",
       "      <th>Pandion haliaetus</th>\n",
       "      <td>0</td>\n",
       "      <td>0</td>\n",
       "      <td>16</td>\n",
       "    </tr>\n",
       "    <tr>\n",
       "      <th>...</th>\n",
       "      <td>...</td>\n",
       "      <td>...</td>\n",
       "      <td>...</td>\n",
       "    </tr>\n",
       "    <tr>\n",
       "      <th>Cypseloides niger</th>\n",
       "      <td>0</td>\n",
       "      <td>0</td>\n",
       "      <td>4</td>\n",
       "    </tr>\n",
       "    <tr>\n",
       "      <th>Cygnus buccinator</th>\n",
       "      <td>0</td>\n",
       "      <td>0</td>\n",
       "      <td>4</td>\n",
       "    </tr>\n",
       "    <tr>\n",
       "      <th>Coturnicops noveboracensis</th>\n",
       "      <td>0</td>\n",
       "      <td>0</td>\n",
       "      <td>4</td>\n",
       "    </tr>\n",
       "    <tr>\n",
       "      <th>Contopus cooperi</th>\n",
       "      <td>0</td>\n",
       "      <td>0</td>\n",
       "      <td>4</td>\n",
       "    </tr>\n",
       "    <tr>\n",
       "      <th>Wilsonia pusilla</th>\n",
       "      <td>0</td>\n",
       "      <td>0</td>\n",
       "      <td>4</td>\n",
       "    </tr>\n",
       "  </tbody>\n",
       "</table>\n",
       "<p>75 rows × 3 columns</p>\n",
       "</div>"
      ],
      "text/plain": [
       "conservation_status         Endangered  In Recovery  Species of Concern\n",
       "scientific_name                                                        \n",
       "Picoides borealis                    4            0                   0\n",
       "Gymnogyps californianus              4            0                   0\n",
       "Vermivora bachmanii                  4            0                   0\n",
       "Grus americana                       4            0                   0\n",
       "Pandion haliaetus                    0            0                  16\n",
       "...                                ...          ...                 ...\n",
       "Cypseloides niger                    0            0                   4\n",
       "Cygnus buccinator                    0            0                   4\n",
       "Coturnicops noveboracensis           0            0                   4\n",
       "Contopus cooperi                     0            0                   4\n",
       "Wilsonia pusilla                     0            0                   4\n",
       "\n",
       "[75 rows x 3 columns]"
      ]
     },
     "execution_count": 30,
     "metadata": {},
     "output_type": "execute_result"
    }
   ],
   "source": [
    "#Bird cat vs scientefic names\n",
    "Bird = conservation.loc[conservation['category'] == 'Bird']\n",
    "bird_sort = pd.crosstab(Bird['scientific_name'], Bird['conservation_status'])\n",
    "bird_sort.sort_values('Endangered', ascending=False)"
   ]
  },
  {
   "cell_type": "markdown",
   "metadata": {},
   "source": [
    "Fish categoriy convertion status"
   ]
  },
  {
   "cell_type": "code",
   "execution_count": 31,
   "metadata": {},
   "outputs": [
    {
     "data": {
      "text/html": [
       "<div>\n",
       "<style scoped>\n",
       "    .dataframe tbody tr th:only-of-type {\n",
       "        vertical-align: middle;\n",
       "    }\n",
       "\n",
       "    .dataframe tbody tr th {\n",
       "        vertical-align: top;\n",
       "    }\n",
       "\n",
       "    .dataframe thead th {\n",
       "        text-align: right;\n",
       "    }\n",
       "</style>\n",
       "<table border=\"1\" class=\"dataframe\">\n",
       "  <thead>\n",
       "    <tr style=\"text-align: right;\">\n",
       "      <th>conservation_status</th>\n",
       "      <th>Endangered</th>\n",
       "      <th>Species of Concern</th>\n",
       "      <th>Threatened</th>\n",
       "    </tr>\n",
       "    <tr>\n",
       "      <th>scientific_name</th>\n",
       "      <th></th>\n",
       "      <th></th>\n",
       "      <th></th>\n",
       "    </tr>\n",
       "  </thead>\n",
       "  <tbody>\n",
       "    <tr>\n",
       "      <th>Chasmistes liorus</th>\n",
       "      <td>4</td>\n",
       "      <td>0</td>\n",
       "      <td>0</td>\n",
       "    </tr>\n",
       "    <tr>\n",
       "      <th>Cottus bairdii</th>\n",
       "      <td>0</td>\n",
       "      <td>4</td>\n",
       "      <td>0</td>\n",
       "    </tr>\n",
       "    <tr>\n",
       "      <th>Erimonax monachus</th>\n",
       "      <td>0</td>\n",
       "      <td>0</td>\n",
       "      <td>4</td>\n",
       "    </tr>\n",
       "    <tr>\n",
       "      <th>Etheostoma percnurum</th>\n",
       "      <td>4</td>\n",
       "      <td>0</td>\n",
       "      <td>0</td>\n",
       "    </tr>\n",
       "    <tr>\n",
       "      <th>Hemitremia flammea</th>\n",
       "      <td>0</td>\n",
       "      <td>4</td>\n",
       "      <td>0</td>\n",
       "    </tr>\n",
       "    <tr>\n",
       "      <th>Noturus baileyi</th>\n",
       "      <td>4</td>\n",
       "      <td>0</td>\n",
       "      <td>0</td>\n",
       "    </tr>\n",
       "    <tr>\n",
       "      <th>Noturus flavipinnis</th>\n",
       "      <td>0</td>\n",
       "      <td>0</td>\n",
       "      <td>4</td>\n",
       "    </tr>\n",
       "    <tr>\n",
       "      <th>Oncorhynchus clarkii henshawi</th>\n",
       "      <td>0</td>\n",
       "      <td>0</td>\n",
       "      <td>4</td>\n",
       "    </tr>\n",
       "    <tr>\n",
       "      <th>Oncorhynchus mykiss</th>\n",
       "      <td>0</td>\n",
       "      <td>0</td>\n",
       "      <td>8</td>\n",
       "    </tr>\n",
       "    <tr>\n",
       "      <th>Percina burtoni</th>\n",
       "      <td>0</td>\n",
       "      <td>4</td>\n",
       "      <td>0</td>\n",
       "    </tr>\n",
       "    <tr>\n",
       "      <th>Percina squamata</th>\n",
       "      <td>0</td>\n",
       "      <td>4</td>\n",
       "      <td>0</td>\n",
       "    </tr>\n",
       "  </tbody>\n",
       "</table>\n",
       "</div>"
      ],
      "text/plain": [
       "conservation_status            Endangered  Species of Concern  Threatened\n",
       "scientific_name                                                          \n",
       "Chasmistes liorus                       4                   0           0\n",
       "Cottus bairdii                          0                   4           0\n",
       "Erimonax monachus                       0                   0           4\n",
       "Etheostoma percnurum                    4                   0           0\n",
       "Hemitremia flammea                      0                   4           0\n",
       "Noturus baileyi                         4                   0           0\n",
       "Noturus flavipinnis                     0                   0           4\n",
       "Oncorhynchus clarkii henshawi           0                   0           4\n",
       "Oncorhynchus mykiss                     0                   0           8\n",
       "Percina burtoni                         0                   4           0\n",
       "Percina squamata                        0                   4           0"
      ]
     },
     "execution_count": 31,
     "metadata": {},
     "output_type": "execute_result"
    }
   ],
   "source": [
    "#Fish cat vs scientefic names\n",
    "Fish = conservation.loc[conservation['category'] == 'Fish']\n",
    "pd.crosstab(Fish['scientific_name'], Fish['conservation_status'])"
   ]
  },
  {
   "cell_type": "markdown",
   "metadata": {},
   "source": [
    "Mammal categoriy convertion status"
   ]
  },
  {
   "cell_type": "code",
   "execution_count": 32,
   "metadata": {
    "scrolled": true
   },
   "outputs": [
    {
     "data": {
      "text/html": [
       "<div>\n",
       "<style scoped>\n",
       "    .dataframe tbody tr th:only-of-type {\n",
       "        vertical-align: middle;\n",
       "    }\n",
       "\n",
       "    .dataframe tbody tr th {\n",
       "        vertical-align: top;\n",
       "    }\n",
       "\n",
       "    .dataframe thead th {\n",
       "        text-align: right;\n",
       "    }\n",
       "</style>\n",
       "<table border=\"1\" class=\"dataframe\">\n",
       "  <thead>\n",
       "    <tr style=\"text-align: right;\">\n",
       "      <th>conservation_status</th>\n",
       "      <th>Endangered</th>\n",
       "      <th>In Recovery</th>\n",
       "      <th>Species of Concern</th>\n",
       "      <th>Threatened</th>\n",
       "    </tr>\n",
       "    <tr>\n",
       "      <th>scientific_name</th>\n",
       "      <th></th>\n",
       "      <th></th>\n",
       "      <th></th>\n",
       "      <th></th>\n",
       "    </tr>\n",
       "  </thead>\n",
       "  <tbody>\n",
       "    <tr>\n",
       "      <th>Canis lupus</th>\n",
       "      <td>24</td>\n",
       "      <td>12</td>\n",
       "      <td>0</td>\n",
       "      <td>0</td>\n",
       "    </tr>\n",
       "    <tr>\n",
       "      <th>Myotis grisescens</th>\n",
       "      <td>4</td>\n",
       "      <td>0</td>\n",
       "      <td>0</td>\n",
       "      <td>0</td>\n",
       "    </tr>\n",
       "    <tr>\n",
       "      <th>Canis rufus</th>\n",
       "      <td>4</td>\n",
       "      <td>0</td>\n",
       "      <td>0</td>\n",
       "      <td>0</td>\n",
       "    </tr>\n",
       "    <tr>\n",
       "      <th>Ovis canadensis sierrae</th>\n",
       "      <td>4</td>\n",
       "      <td>0</td>\n",
       "      <td>0</td>\n",
       "      <td>0</td>\n",
       "    </tr>\n",
       "    <tr>\n",
       "      <th>Glaucomys sabrinus coloratus</th>\n",
       "      <td>4</td>\n",
       "      <td>0</td>\n",
       "      <td>0</td>\n",
       "      <td>0</td>\n",
       "    </tr>\n",
       "    <tr>\n",
       "      <th>Myotis sodalis</th>\n",
       "      <td>4</td>\n",
       "      <td>0</td>\n",
       "      <td>0</td>\n",
       "      <td>0</td>\n",
       "    </tr>\n",
       "    <tr>\n",
       "      <th>Myotis leibii</th>\n",
       "      <td>0</td>\n",
       "      <td>0</td>\n",
       "      <td>4</td>\n",
       "      <td>0</td>\n",
       "    </tr>\n",
       "    <tr>\n",
       "      <th>Taxidea taxus</th>\n",
       "      <td>0</td>\n",
       "      <td>0</td>\n",
       "      <td>16</td>\n",
       "      <td>0</td>\n",
       "    </tr>\n",
       "    <tr>\n",
       "      <th>Sylvilagus bachmani</th>\n",
       "      <td>0</td>\n",
       "      <td>0</td>\n",
       "      <td>4</td>\n",
       "      <td>0</td>\n",
       "    </tr>\n",
       "    <tr>\n",
       "      <th>Sorex preblei</th>\n",
       "      <td>0</td>\n",
       "      <td>0</td>\n",
       "      <td>4</td>\n",
       "      <td>0</td>\n",
       "    </tr>\n",
       "    <tr>\n",
       "      <th>Ovis canadensis</th>\n",
       "      <td>0</td>\n",
       "      <td>0</td>\n",
       "      <td>4</td>\n",
       "      <td>0</td>\n",
       "    </tr>\n",
       "    <tr>\n",
       "      <th>Myotis yumanensis</th>\n",
       "      <td>0</td>\n",
       "      <td>0</td>\n",
       "      <td>4</td>\n",
       "      <td>0</td>\n",
       "    </tr>\n",
       "    <tr>\n",
       "      <th>Myotis volans</th>\n",
       "      <td>0</td>\n",
       "      <td>0</td>\n",
       "      <td>4</td>\n",
       "      <td>0</td>\n",
       "    </tr>\n",
       "    <tr>\n",
       "      <th>Myotis thysanodes</th>\n",
       "      <td>0</td>\n",
       "      <td>0</td>\n",
       "      <td>4</td>\n",
       "      <td>0</td>\n",
       "    </tr>\n",
       "    <tr>\n",
       "      <th>Myotis septentrionalis</th>\n",
       "      <td>0</td>\n",
       "      <td>0</td>\n",
       "      <td>0</td>\n",
       "      <td>4</td>\n",
       "    </tr>\n",
       "    <tr>\n",
       "      <th>Myotis lucifugus</th>\n",
       "      <td>0</td>\n",
       "      <td>0</td>\n",
       "      <td>36</td>\n",
       "      <td>0</td>\n",
       "    </tr>\n",
       "    <tr>\n",
       "      <th>Antrozous pallidus</th>\n",
       "      <td>0</td>\n",
       "      <td>0</td>\n",
       "      <td>4</td>\n",
       "      <td>0</td>\n",
       "    </tr>\n",
       "    <tr>\n",
       "      <th>Myotis keenii</th>\n",
       "      <td>0</td>\n",
       "      <td>0</td>\n",
       "      <td>4</td>\n",
       "      <td>0</td>\n",
       "    </tr>\n",
       "    <tr>\n",
       "      <th>Aplodontia rufa californica</th>\n",
       "      <td>0</td>\n",
       "      <td>0</td>\n",
       "      <td>4</td>\n",
       "      <td>0</td>\n",
       "    </tr>\n",
       "    <tr>\n",
       "      <th>Myotis evotis</th>\n",
       "      <td>0</td>\n",
       "      <td>0</td>\n",
       "      <td>4</td>\n",
       "      <td>0</td>\n",
       "    </tr>\n",
       "    <tr>\n",
       "      <th>Myotis californicus</th>\n",
       "      <td>0</td>\n",
       "      <td>0</td>\n",
       "      <td>16</td>\n",
       "      <td>0</td>\n",
       "    </tr>\n",
       "    <tr>\n",
       "      <th>Myotis austroriparius</th>\n",
       "      <td>0</td>\n",
       "      <td>0</td>\n",
       "      <td>4</td>\n",
       "      <td>0</td>\n",
       "    </tr>\n",
       "    <tr>\n",
       "      <th>Lepus americanus tahoensis</th>\n",
       "      <td>0</td>\n",
       "      <td>0</td>\n",
       "      <td>4</td>\n",
       "      <td>0</td>\n",
       "    </tr>\n",
       "    <tr>\n",
       "      <th>Lasiurus blossevillii</th>\n",
       "      <td>0</td>\n",
       "      <td>0</td>\n",
       "      <td>4</td>\n",
       "      <td>0</td>\n",
       "    </tr>\n",
       "    <tr>\n",
       "      <th>Lasionycteris noctivagans</th>\n",
       "      <td>0</td>\n",
       "      <td>0</td>\n",
       "      <td>16</td>\n",
       "      <td>0</td>\n",
       "    </tr>\n",
       "    <tr>\n",
       "      <th>Euderma maculatum</th>\n",
       "      <td>0</td>\n",
       "      <td>0</td>\n",
       "      <td>4</td>\n",
       "      <td>0</td>\n",
       "    </tr>\n",
       "    <tr>\n",
       "      <th>Eptesicus fuscus</th>\n",
       "      <td>0</td>\n",
       "      <td>0</td>\n",
       "      <td>16</td>\n",
       "      <td>0</td>\n",
       "    </tr>\n",
       "    <tr>\n",
       "      <th>Canis latrans</th>\n",
       "      <td>0</td>\n",
       "      <td>0</td>\n",
       "      <td>4</td>\n",
       "      <td>0</td>\n",
       "    </tr>\n",
       "    <tr>\n",
       "      <th>Bassariscus astutus</th>\n",
       "      <td>0</td>\n",
       "      <td>0</td>\n",
       "      <td>4</td>\n",
       "      <td>0</td>\n",
       "    </tr>\n",
       "    <tr>\n",
       "      <th>Ursus arctos horribilis</th>\n",
       "      <td>0</td>\n",
       "      <td>0</td>\n",
       "      <td>0</td>\n",
       "      <td>4</td>\n",
       "    </tr>\n",
       "  </tbody>\n",
       "</table>\n",
       "</div>"
      ],
      "text/plain": [
       "conservation_status           Endangered  In Recovery  Species of Concern  \\\n",
       "scientific_name                                                             \n",
       "Canis lupus                           24           12                   0   \n",
       "Myotis grisescens                      4            0                   0   \n",
       "Canis rufus                            4            0                   0   \n",
       "Ovis canadensis sierrae                4            0                   0   \n",
       "Glaucomys sabrinus coloratus           4            0                   0   \n",
       "Myotis sodalis                         4            0                   0   \n",
       "Myotis leibii                          0            0                   4   \n",
       "Taxidea taxus                          0            0                  16   \n",
       "Sylvilagus bachmani                    0            0                   4   \n",
       "Sorex preblei                          0            0                   4   \n",
       "Ovis canadensis                        0            0                   4   \n",
       "Myotis yumanensis                      0            0                   4   \n",
       "Myotis volans                          0            0                   4   \n",
       "Myotis thysanodes                      0            0                   4   \n",
       "Myotis septentrionalis                 0            0                   0   \n",
       "Myotis lucifugus                       0            0                  36   \n",
       "Antrozous pallidus                     0            0                   4   \n",
       "Myotis keenii                          0            0                   4   \n",
       "Aplodontia rufa californica            0            0                   4   \n",
       "Myotis evotis                          0            0                   4   \n",
       "Myotis californicus                    0            0                  16   \n",
       "Myotis austroriparius                  0            0                   4   \n",
       "Lepus americanus tahoensis             0            0                   4   \n",
       "Lasiurus blossevillii                  0            0                   4   \n",
       "Lasionycteris noctivagans              0            0                  16   \n",
       "Euderma maculatum                      0            0                   4   \n",
       "Eptesicus fuscus                       0            0                  16   \n",
       "Canis latrans                          0            0                   4   \n",
       "Bassariscus astutus                    0            0                   4   \n",
       "Ursus arctos horribilis                0            0                   0   \n",
       "\n",
       "conservation_status           Threatened  \n",
       "scientific_name                           \n",
       "Canis lupus                            0  \n",
       "Myotis grisescens                      0  \n",
       "Canis rufus                            0  \n",
       "Ovis canadensis sierrae                0  \n",
       "Glaucomys sabrinus coloratus           0  \n",
       "Myotis sodalis                         0  \n",
       "Myotis leibii                          0  \n",
       "Taxidea taxus                          0  \n",
       "Sylvilagus bachmani                    0  \n",
       "Sorex preblei                          0  \n",
       "Ovis canadensis                        0  \n",
       "Myotis yumanensis                      0  \n",
       "Myotis volans                          0  \n",
       "Myotis thysanodes                      0  \n",
       "Myotis septentrionalis                 4  \n",
       "Myotis lucifugus                       0  \n",
       "Antrozous pallidus                     0  \n",
       "Myotis keenii                          0  \n",
       "Aplodontia rufa californica            0  \n",
       "Myotis evotis                          0  \n",
       "Myotis californicus                    0  \n",
       "Myotis austroriparius                  0  \n",
       "Lepus americanus tahoensis             0  \n",
       "Lasiurus blossevillii                  0  \n",
       "Lasionycteris noctivagans              0  \n",
       "Euderma maculatum                      0  \n",
       "Eptesicus fuscus                       0  \n",
       "Canis latrans                          0  \n",
       "Bassariscus astutus                    0  \n",
       "Ursus arctos horribilis                4  "
      ]
     },
     "execution_count": 32,
     "metadata": {},
     "output_type": "execute_result"
    }
   ],
   "source": [
    "#Mammal cat vs scientefic names\n",
    "Mammal = conservation.loc[conservation['category'] == 'Mammal']\n",
    "mammal_sort = pd.crosstab(Mammal['scientific_name'], Mammal['conservation_status'])\n",
    "mammal_sort.sort_values('Endangered', ascending=False)"
   ]
  },
  {
   "cell_type": "markdown",
   "metadata": {},
   "source": [
    "Nonvascular categoriy species of concern"
   ]
  },
  {
   "cell_type": "code",
   "execution_count": 33,
   "metadata": {
    "scrolled": true
   },
   "outputs": [
    {
     "data": {
      "text/html": [
       "<div>\n",
       "<style scoped>\n",
       "    .dataframe tbody tr th:only-of-type {\n",
       "        vertical-align: middle;\n",
       "    }\n",
       "\n",
       "    .dataframe tbody tr th {\n",
       "        vertical-align: top;\n",
       "    }\n",
       "\n",
       "    .dataframe thead th {\n",
       "        text-align: right;\n",
       "    }\n",
       "</style>\n",
       "<table border=\"1\" class=\"dataframe\">\n",
       "  <thead>\n",
       "    <tr style=\"text-align: right;\">\n",
       "      <th>scientific_name</th>\n",
       "      <th>Bazzania nudicaulis</th>\n",
       "      <th>Leptohymenium sharpii</th>\n",
       "      <th>Lophocolea appalachiana</th>\n",
       "      <th>Plagiomnium carolinianum</th>\n",
       "      <th>Tortula ammonsiana</th>\n",
       "    </tr>\n",
       "    <tr>\n",
       "      <th>conservation_status</th>\n",
       "      <th></th>\n",
       "      <th></th>\n",
       "      <th></th>\n",
       "      <th></th>\n",
       "      <th></th>\n",
       "    </tr>\n",
       "  </thead>\n",
       "  <tbody>\n",
       "    <tr>\n",
       "      <th>Species of Concern</th>\n",
       "      <td>4</td>\n",
       "      <td>4</td>\n",
       "      <td>4</td>\n",
       "      <td>4</td>\n",
       "      <td>4</td>\n",
       "    </tr>\n",
       "  </tbody>\n",
       "</table>\n",
       "</div>"
      ],
      "text/plain": [
       "scientific_name      Bazzania nudicaulis  Leptohymenium sharpii  \\\n",
       "conservation_status                                               \n",
       "Species of Concern                     4                      4   \n",
       "\n",
       "scientific_name      Lophocolea appalachiana  Plagiomnium carolinianum  \\\n",
       "conservation_status                                                      \n",
       "Species of Concern                         4                         4   \n",
       "\n",
       "scientific_name      Tortula ammonsiana  \n",
       "conservation_status                      \n",
       "Species of Concern                    4  "
      ]
     },
     "execution_count": 33,
     "metadata": {},
     "output_type": "execute_result"
    }
   ],
   "source": [
    "#Nonvascular Plant cat vs scientefic names\n",
    "Nonvascular = conservation.loc[conservation['category'] == 'Nonvascular Plant']\n",
    "pd.crosstab(Nonvascular['conservation_status'], Nonvascular['scientific_name'])"
   ]
  },
  {
   "cell_type": "markdown",
   "metadata": {},
   "source": [
    "Reptile categoriy species of concern"
   ]
  },
  {
   "cell_type": "code",
   "execution_count": 34,
   "metadata": {
    "scrolled": true
   },
   "outputs": [
    {
     "data": {
      "text/html": [
       "<div>\n",
       "<style scoped>\n",
       "    .dataframe tbody tr th:only-of-type {\n",
       "        vertical-align: middle;\n",
       "    }\n",
       "\n",
       "    .dataframe tbody tr th {\n",
       "        vertical-align: top;\n",
       "    }\n",
       "\n",
       "    .dataframe thead th {\n",
       "        text-align: right;\n",
       "    }\n",
       "</style>\n",
       "<table border=\"1\" class=\"dataframe\">\n",
       "  <thead>\n",
       "    <tr style=\"text-align: right;\">\n",
       "      <th>scientific_name</th>\n",
       "      <th>Diadophis punctatus</th>\n",
       "      <th>Lampropeltis getula californiae</th>\n",
       "      <th>Pituophis melanoleucus melanoleucus</th>\n",
       "      <th>Regina septemvittata</th>\n",
       "      <th>Sceloporus graciosus graciosus</th>\n",
       "    </tr>\n",
       "    <tr>\n",
       "      <th>conservation_status</th>\n",
       "      <th></th>\n",
       "      <th></th>\n",
       "      <th></th>\n",
       "      <th></th>\n",
       "      <th></th>\n",
       "    </tr>\n",
       "  </thead>\n",
       "  <tbody>\n",
       "    <tr>\n",
       "      <th>Species of Concern</th>\n",
       "      <td>4</td>\n",
       "      <td>4</td>\n",
       "      <td>4</td>\n",
       "      <td>4</td>\n",
       "      <td>4</td>\n",
       "    </tr>\n",
       "  </tbody>\n",
       "</table>\n",
       "</div>"
      ],
      "text/plain": [
       "scientific_name      Diadophis punctatus  Lampropeltis getula californiae  \\\n",
       "conservation_status                                                         \n",
       "Species of Concern                     4                                4   \n",
       "\n",
       "scientific_name      Pituophis melanoleucus melanoleucus  \\\n",
       "conservation_status                                        \n",
       "Species of Concern                                     4   \n",
       "\n",
       "scientific_name      Regina septemvittata  Sceloporus graciosus graciosus  \n",
       "conservation_status                                                        \n",
       "Species of Concern                      4                               4  "
      ]
     },
     "execution_count": 34,
     "metadata": {},
     "output_type": "execute_result"
    }
   ],
   "source": [
    "#Reptile Plant cat vs scientefic names\n",
    "Reptile = conservation.loc[conservation['category'] == 'Reptile']\n",
    "pd.crosstab(Reptile['conservation_status'], Reptile['scientific_name'])"
   ]
  },
  {
   "cell_type": "markdown",
   "metadata": {},
   "source": [
    "Vascular categoriy convertion status"
   ]
  },
  {
   "cell_type": "code",
   "execution_count": 35,
   "metadata": {},
   "outputs": [
    {
     "data": {
      "text/html": [
       "<div>\n",
       "<style scoped>\n",
       "    .dataframe tbody tr th:only-of-type {\n",
       "        vertical-align: middle;\n",
       "    }\n",
       "\n",
       "    .dataframe tbody tr th {\n",
       "        vertical-align: top;\n",
       "    }\n",
       "\n",
       "    .dataframe thead th {\n",
       "        text-align: right;\n",
       "    }\n",
       "</style>\n",
       "<table border=\"1\" class=\"dataframe\">\n",
       "  <thead>\n",
       "    <tr style=\"text-align: right;\">\n",
       "      <th>conservation_status</th>\n",
       "      <th>Endangered</th>\n",
       "      <th>Species of Concern</th>\n",
       "      <th>Threatened</th>\n",
       "    </tr>\n",
       "    <tr>\n",
       "      <th>scientific_name</th>\n",
       "      <th></th>\n",
       "      <th></th>\n",
       "      <th></th>\n",
       "    </tr>\n",
       "  </thead>\n",
       "  <tbody>\n",
       "    <tr>\n",
       "      <th>Geum radiatum</th>\n",
       "      <td>4</td>\n",
       "      <td>0</td>\n",
       "      <td>0</td>\n",
       "    </tr>\n",
       "    <tr>\n",
       "      <th>Abies fraseri</th>\n",
       "      <td>0</td>\n",
       "      <td>4</td>\n",
       "      <td>0</td>\n",
       "    </tr>\n",
       "    <tr>\n",
       "      <th>Romneya coulteri</th>\n",
       "      <td>0</td>\n",
       "      <td>4</td>\n",
       "      <td>0</td>\n",
       "    </tr>\n",
       "    <tr>\n",
       "      <th>Mimulus patulus</th>\n",
       "      <td>0</td>\n",
       "      <td>4</td>\n",
       "      <td>0</td>\n",
       "    </tr>\n",
       "    <tr>\n",
       "      <th>Monotropa uniflora</th>\n",
       "      <td>0</td>\n",
       "      <td>4</td>\n",
       "      <td>0</td>\n",
       "    </tr>\n",
       "    <tr>\n",
       "      <th>Monotropsis odorata</th>\n",
       "      <td>0</td>\n",
       "      <td>4</td>\n",
       "      <td>0</td>\n",
       "    </tr>\n",
       "    <tr>\n",
       "      <th>Najas flexilis</th>\n",
       "      <td>0</td>\n",
       "      <td>4</td>\n",
       "      <td>0</td>\n",
       "    </tr>\n",
       "    <tr>\n",
       "      <th>Parnassia grandifolia</th>\n",
       "      <td>0</td>\n",
       "      <td>4</td>\n",
       "      <td>0</td>\n",
       "    </tr>\n",
       "    <tr>\n",
       "      <th>Parthenium integrifolium</th>\n",
       "      <td>0</td>\n",
       "      <td>4</td>\n",
       "      <td>0</td>\n",
       "    </tr>\n",
       "    <tr>\n",
       "      <th>Plagiobothrys torreyi var. diffusus</th>\n",
       "      <td>0</td>\n",
       "      <td>4</td>\n",
       "      <td>0</td>\n",
       "    </tr>\n",
       "    <tr>\n",
       "      <th>Poa paludigena</th>\n",
       "      <td>0</td>\n",
       "      <td>4</td>\n",
       "      <td>0</td>\n",
       "    </tr>\n",
       "    <tr>\n",
       "      <th>Rugelia nudicaulis</th>\n",
       "      <td>0</td>\n",
       "      <td>4</td>\n",
       "      <td>0</td>\n",
       "    </tr>\n",
       "    <tr>\n",
       "      <th>Lysimachia fraseri</th>\n",
       "      <td>0</td>\n",
       "      <td>4</td>\n",
       "      <td>0</td>\n",
       "    </tr>\n",
       "    <tr>\n",
       "      <th>Saxifraga caroliniana</th>\n",
       "      <td>0</td>\n",
       "      <td>4</td>\n",
       "      <td>0</td>\n",
       "    </tr>\n",
       "    <tr>\n",
       "      <th>Shortia galacifolia</th>\n",
       "      <td>0</td>\n",
       "      <td>4</td>\n",
       "      <td>0</td>\n",
       "    </tr>\n",
       "    <tr>\n",
       "      <th>Silene ovata</th>\n",
       "      <td>0</td>\n",
       "      <td>4</td>\n",
       "      <td>0</td>\n",
       "    </tr>\n",
       "    <tr>\n",
       "      <th>Sium suave</th>\n",
       "      <td>0</td>\n",
       "      <td>4</td>\n",
       "      <td>0</td>\n",
       "    </tr>\n",
       "    <tr>\n",
       "      <th>Spiraea virginiana</th>\n",
       "      <td>0</td>\n",
       "      <td>0</td>\n",
       "      <td>4</td>\n",
       "    </tr>\n",
       "    <tr>\n",
       "      <th>Tofieldia glabra</th>\n",
       "      <td>0</td>\n",
       "      <td>4</td>\n",
       "      <td>0</td>\n",
       "    </tr>\n",
       "    <tr>\n",
       "      <th>Trifolium bolanderi</th>\n",
       "      <td>0</td>\n",
       "      <td>4</td>\n",
       "      <td>0</td>\n",
       "    </tr>\n",
       "    <tr>\n",
       "      <th>Trillium pusillum var. pusillum</th>\n",
       "      <td>0</td>\n",
       "      <td>4</td>\n",
       "      <td>0</td>\n",
       "    </tr>\n",
       "    <tr>\n",
       "      <th>Vaccinium hirsutum</th>\n",
       "      <td>0</td>\n",
       "      <td>4</td>\n",
       "      <td>0</td>\n",
       "    </tr>\n",
       "    <tr>\n",
       "      <th>Mimulus filicaulis</th>\n",
       "      <td>0</td>\n",
       "      <td>4</td>\n",
       "      <td>0</td>\n",
       "    </tr>\n",
       "    <tr>\n",
       "      <th>Lomatium congdonii</th>\n",
       "      <td>0</td>\n",
       "      <td>4</td>\n",
       "      <td>0</td>\n",
       "    </tr>\n",
       "    <tr>\n",
       "      <th>Abronia ammophila</th>\n",
       "      <td>0</td>\n",
       "      <td>4</td>\n",
       "      <td>0</td>\n",
       "    </tr>\n",
       "    <tr>\n",
       "      <th>Lilium grayi</th>\n",
       "      <td>0</td>\n",
       "      <td>4</td>\n",
       "      <td>0</td>\n",
       "    </tr>\n",
       "    <tr>\n",
       "      <th>Achnatherum contractum</th>\n",
       "      <td>0</td>\n",
       "      <td>4</td>\n",
       "      <td>0</td>\n",
       "    </tr>\n",
       "    <tr>\n",
       "      <th>Allium tribracteatum</th>\n",
       "      <td>0</td>\n",
       "      <td>4</td>\n",
       "      <td>0</td>\n",
       "    </tr>\n",
       "    <tr>\n",
       "      <th>Botrychium ascendens</th>\n",
       "      <td>0</td>\n",
       "      <td>4</td>\n",
       "      <td>0</td>\n",
       "    </tr>\n",
       "    <tr>\n",
       "      <th>Buckleya distichophylla</th>\n",
       "      <td>0</td>\n",
       "      <td>4</td>\n",
       "      <td>0</td>\n",
       "    </tr>\n",
       "    <tr>\n",
       "      <th>Calamagrostis cainii</th>\n",
       "      <td>0</td>\n",
       "      <td>4</td>\n",
       "      <td>0</td>\n",
       "    </tr>\n",
       "    <tr>\n",
       "      <th>Callitriche marginata</th>\n",
       "      <td>0</td>\n",
       "      <td>4</td>\n",
       "      <td>0</td>\n",
       "    </tr>\n",
       "    <tr>\n",
       "      <th>Camissonia sierrae ssp. alticola</th>\n",
       "      <td>0</td>\n",
       "      <td>4</td>\n",
       "      <td>0</td>\n",
       "    </tr>\n",
       "    <tr>\n",
       "      <th>Cardamine clematitis</th>\n",
       "      <td>0</td>\n",
       "      <td>4</td>\n",
       "      <td>0</td>\n",
       "    </tr>\n",
       "    <tr>\n",
       "      <th>Carex communis var. amplisquama</th>\n",
       "      <td>0</td>\n",
       "      <td>4</td>\n",
       "      <td>0</td>\n",
       "    </tr>\n",
       "    <tr>\n",
       "      <th>Castilleja sulphurea</th>\n",
       "      <td>0</td>\n",
       "      <td>4</td>\n",
       "      <td>0</td>\n",
       "    </tr>\n",
       "    <tr>\n",
       "      <th>Delphinium exaltatum</th>\n",
       "      <td>0</td>\n",
       "      <td>4</td>\n",
       "      <td>0</td>\n",
       "    </tr>\n",
       "    <tr>\n",
       "      <th>Dichanthelium acuminatum var. acuminatum</th>\n",
       "      <td>0</td>\n",
       "      <td>4</td>\n",
       "      <td>0</td>\n",
       "    </tr>\n",
       "    <tr>\n",
       "      <th>Epilobium oreganum</th>\n",
       "      <td>0</td>\n",
       "      <td>4</td>\n",
       "      <td>0</td>\n",
       "    </tr>\n",
       "    <tr>\n",
       "      <th>Eriophyllum nubigenum</th>\n",
       "      <td>0</td>\n",
       "      <td>4</td>\n",
       "      <td>0</td>\n",
       "    </tr>\n",
       "    <tr>\n",
       "      <th>Euphorbia purpurea</th>\n",
       "      <td>0</td>\n",
       "      <td>4</td>\n",
       "      <td>0</td>\n",
       "    </tr>\n",
       "    <tr>\n",
       "      <th>Glyceria nubigena</th>\n",
       "      <td>0</td>\n",
       "      <td>4</td>\n",
       "      <td>0</td>\n",
       "    </tr>\n",
       "    <tr>\n",
       "      <th>Iris missouriensis</th>\n",
       "      <td>0</td>\n",
       "      <td>4</td>\n",
       "      <td>0</td>\n",
       "    </tr>\n",
       "    <tr>\n",
       "      <th>Isotria medeoloides</th>\n",
       "      <td>0</td>\n",
       "      <td>0</td>\n",
       "      <td>4</td>\n",
       "    </tr>\n",
       "    <tr>\n",
       "      <th>Juglans cinerea</th>\n",
       "      <td>0</td>\n",
       "      <td>4</td>\n",
       "      <td>0</td>\n",
       "    </tr>\n",
       "    <tr>\n",
       "      <th>Zizia trifoliata</th>\n",
       "      <td>0</td>\n",
       "      <td>4</td>\n",
       "      <td>0</td>\n",
       "    </tr>\n",
       "  </tbody>\n",
       "</table>\n",
       "</div>"
      ],
      "text/plain": [
       "conservation_status                       Endangered  Species of Concern  \\\n",
       "scientific_name                                                            \n",
       "Geum radiatum                                      4                   0   \n",
       "Abies fraseri                                      0                   4   \n",
       "Romneya coulteri                                   0                   4   \n",
       "Mimulus patulus                                    0                   4   \n",
       "Monotropa uniflora                                 0                   4   \n",
       "Monotropsis odorata                                0                   4   \n",
       "Najas flexilis                                     0                   4   \n",
       "Parnassia grandifolia                              0                   4   \n",
       "Parthenium integrifolium                           0                   4   \n",
       "Plagiobothrys torreyi var. diffusus                0                   4   \n",
       "Poa paludigena                                     0                   4   \n",
       "Rugelia nudicaulis                                 0                   4   \n",
       "Lysimachia fraseri                                 0                   4   \n",
       "Saxifraga caroliniana                              0                   4   \n",
       "Shortia galacifolia                                0                   4   \n",
       "Silene ovata                                       0                   4   \n",
       "Sium suave                                         0                   4   \n",
       "Spiraea virginiana                                 0                   0   \n",
       "Tofieldia glabra                                   0                   4   \n",
       "Trifolium bolanderi                                0                   4   \n",
       "Trillium pusillum var. pusillum                    0                   4   \n",
       "Vaccinium hirsutum                                 0                   4   \n",
       "Mimulus filicaulis                                 0                   4   \n",
       "Lomatium congdonii                                 0                   4   \n",
       "Abronia ammophila                                  0                   4   \n",
       "Lilium grayi                                       0                   4   \n",
       "Achnatherum contractum                             0                   4   \n",
       "Allium tribracteatum                               0                   4   \n",
       "Botrychium ascendens                               0                   4   \n",
       "Buckleya distichophylla                            0                   4   \n",
       "Calamagrostis cainii                               0                   4   \n",
       "Callitriche marginata                              0                   4   \n",
       "Camissonia sierrae ssp. alticola                   0                   4   \n",
       "Cardamine clematitis                               0                   4   \n",
       "Carex communis var. amplisquama                    0                   4   \n",
       "Castilleja sulphurea                               0                   4   \n",
       "Delphinium exaltatum                               0                   4   \n",
       "Dichanthelium acuminatum var. acuminatum           0                   4   \n",
       "Epilobium oreganum                                 0                   4   \n",
       "Eriophyllum nubigenum                              0                   4   \n",
       "Euphorbia purpurea                                 0                   4   \n",
       "Glyceria nubigena                                  0                   4   \n",
       "Iris missouriensis                                 0                   4   \n",
       "Isotria medeoloides                                0                   0   \n",
       "Juglans cinerea                                    0                   4   \n",
       "Zizia trifoliata                                   0                   4   \n",
       "\n",
       "conservation_status                       Threatened  \n",
       "scientific_name                                       \n",
       "Geum radiatum                                      0  \n",
       "Abies fraseri                                      0  \n",
       "Romneya coulteri                                   0  \n",
       "Mimulus patulus                                    0  \n",
       "Monotropa uniflora                                 0  \n",
       "Monotropsis odorata                                0  \n",
       "Najas flexilis                                     0  \n",
       "Parnassia grandifolia                              0  \n",
       "Parthenium integrifolium                           0  \n",
       "Plagiobothrys torreyi var. diffusus                0  \n",
       "Poa paludigena                                     0  \n",
       "Rugelia nudicaulis                                 0  \n",
       "Lysimachia fraseri                                 0  \n",
       "Saxifraga caroliniana                              0  \n",
       "Shortia galacifolia                                0  \n",
       "Silene ovata                                       0  \n",
       "Sium suave                                         0  \n",
       "Spiraea virginiana                                 4  \n",
       "Tofieldia glabra                                   0  \n",
       "Trifolium bolanderi                                0  \n",
       "Trillium pusillum var. pusillum                    0  \n",
       "Vaccinium hirsutum                                 0  \n",
       "Mimulus filicaulis                                 0  \n",
       "Lomatium congdonii                                 0  \n",
       "Abronia ammophila                                  0  \n",
       "Lilium grayi                                       0  \n",
       "Achnatherum contractum                             0  \n",
       "Allium tribracteatum                               0  \n",
       "Botrychium ascendens                               0  \n",
       "Buckleya distichophylla                            0  \n",
       "Calamagrostis cainii                               0  \n",
       "Callitriche marginata                              0  \n",
       "Camissonia sierrae ssp. alticola                   0  \n",
       "Cardamine clematitis                               0  \n",
       "Carex communis var. amplisquama                    0  \n",
       "Castilleja sulphurea                               0  \n",
       "Delphinium exaltatum                               0  \n",
       "Dichanthelium acuminatum var. acuminatum           0  \n",
       "Epilobium oreganum                                 0  \n",
       "Eriophyllum nubigenum                              0  \n",
       "Euphorbia purpurea                                 0  \n",
       "Glyceria nubigena                                  0  \n",
       "Iris missouriensis                                 0  \n",
       "Isotria medeoloides                                4  \n",
       "Juglans cinerea                                    0  \n",
       "Zizia trifoliata                                   0  "
      ]
     },
     "execution_count": 35,
     "metadata": {},
     "output_type": "execute_result"
    }
   ],
   "source": [
    "#Vascular Plant cat vs scientefic names\n",
    "Vascular = conservation.loc[conservation['category'] == 'Vascular Plant']\n",
    "Vascular_sort = pd.crosstab(Vascular['scientific_name'], Vascular['conservation_status'])\n",
    "Vascular_sort.sort_values('Endangered', ascending=False)"
   ]
  },
  {
   "cell_type": "markdown",
   "metadata": {},
   "source": [
    "Fill null values of species data frame with 'No Intervention'"
   ]
  },
  {
   "cell_type": "code",
   "execution_count": 36,
   "metadata": {},
   "outputs": [
    {
     "data": {
      "text/plain": [
       "conservation_status\n",
       "Endangered              16\n",
       "In Recovery              4\n",
       "No Intervention       5633\n",
       "Species of Concern     161\n",
       "Threatened              10\n",
       "dtype: int64"
      ]
     },
     "execution_count": 36,
     "metadata": {},
     "output_type": "execute_result"
    }
   ],
   "source": [
    "species.fillna('No Intervention', inplace=True)\n",
    "species.groupby(\"conservation_status\").size()"
   ]
  },
  {
   "cell_type": "markdown",
   "metadata": {},
   "source": [
    "Check out the convertion status of each species"
   ]
  },
  {
   "cell_type": "code",
   "execution_count": 37,
   "metadata": {},
   "outputs": [
    {
     "data": {
      "text/html": [
       "<div>\n",
       "<style scoped>\n",
       "    .dataframe tbody tr th:only-of-type {\n",
       "        vertical-align: middle;\n",
       "    }\n",
       "\n",
       "    .dataframe tbody tr th {\n",
       "        vertical-align: top;\n",
       "    }\n",
       "\n",
       "    .dataframe thead th {\n",
       "        text-align: right;\n",
       "    }\n",
       "</style>\n",
       "<table border=\"1\" class=\"dataframe\">\n",
       "  <thead>\n",
       "    <tr style=\"text-align: right;\">\n",
       "      <th>category</th>\n",
       "      <th>Amphibian</th>\n",
       "      <th>Bird</th>\n",
       "      <th>Fish</th>\n",
       "      <th>Mammal</th>\n",
       "      <th>Nonvascular Plant</th>\n",
       "      <th>Reptile</th>\n",
       "      <th>Vascular Plant</th>\n",
       "    </tr>\n",
       "    <tr>\n",
       "      <th>conservation_status</th>\n",
       "      <th></th>\n",
       "      <th></th>\n",
       "      <th></th>\n",
       "      <th></th>\n",
       "      <th></th>\n",
       "      <th></th>\n",
       "      <th></th>\n",
       "    </tr>\n",
       "  </thead>\n",
       "  <tbody>\n",
       "    <tr>\n",
       "      <th>Endangered</th>\n",
       "      <td>1.0</td>\n",
       "      <td>4.0</td>\n",
       "      <td>3.0</td>\n",
       "      <td>7.0</td>\n",
       "      <td>NaN</td>\n",
       "      <td>NaN</td>\n",
       "      <td>1.0</td>\n",
       "    </tr>\n",
       "    <tr>\n",
       "      <th>In Recovery</th>\n",
       "      <td>NaN</td>\n",
       "      <td>3.0</td>\n",
       "      <td>NaN</td>\n",
       "      <td>1.0</td>\n",
       "      <td>NaN</td>\n",
       "      <td>NaN</td>\n",
       "      <td>NaN</td>\n",
       "    </tr>\n",
       "    <tr>\n",
       "      <th>Species of Concern</th>\n",
       "      <td>4.0</td>\n",
       "      <td>72.0</td>\n",
       "      <td>4.0</td>\n",
       "      <td>28.0</td>\n",
       "      <td>5.0</td>\n",
       "      <td>5.0</td>\n",
       "      <td>43.0</td>\n",
       "    </tr>\n",
       "    <tr>\n",
       "      <th>Threatened</th>\n",
       "      <td>2.0</td>\n",
       "      <td>NaN</td>\n",
       "      <td>4.0</td>\n",
       "      <td>2.0</td>\n",
       "      <td>NaN</td>\n",
       "      <td>NaN</td>\n",
       "      <td>2.0</td>\n",
       "    </tr>\n",
       "  </tbody>\n",
       "</table>\n",
       "</div>"
      ],
      "text/plain": [
       "category             Amphibian  Bird  Fish  Mammal  Nonvascular Plant  \\\n",
       "conservation_status                                                     \n",
       "Endangered                 1.0   4.0   3.0     7.0                NaN   \n",
       "In Recovery                NaN   3.0   NaN     1.0                NaN   \n",
       "Species of Concern         4.0  72.0   4.0    28.0                5.0   \n",
       "Threatened                 2.0   NaN   4.0     2.0                NaN   \n",
       "\n",
       "category             Reptile  Vascular Plant  \n",
       "conservation_status                           \n",
       "Endangered               NaN             1.0  \n",
       "In Recovery              NaN             NaN  \n",
       "Species of Concern       5.0            43.0  \n",
       "Threatened               NaN             2.0  "
      ]
     },
     "execution_count": 37,
     "metadata": {},
     "output_type": "execute_result"
    }
   ],
   "source": [
    "conservationCategory = species[species.conservation_status != \"No Intervention\"]\\\n",
    "    .groupby([\"conservation_status\", \"category\"])['scientific_name']\\\n",
    "    .count()\\\n",
    "    .unstack()\n",
    "\n",
    "conservationCategory"
   ]
  },
  {
   "cell_type": "markdown",
   "metadata": {},
   "source": [
    "Protect percentage of each species category"
   ]
  },
  {
   "cell_type": "code",
   "execution_count": 38,
   "metadata": {},
   "outputs": [
    {
     "data": {
      "text/html": [
       "<div>\n",
       "<style scoped>\n",
       "    .dataframe tbody tr th:only-of-type {\n",
       "        vertical-align: middle;\n",
       "    }\n",
       "\n",
       "    .dataframe tbody tr th {\n",
       "        vertical-align: top;\n",
       "    }\n",
       "\n",
       "    .dataframe thead th {\n",
       "        text-align: right;\n",
       "    }\n",
       "</style>\n",
       "<table border=\"1\" class=\"dataframe\">\n",
       "  <thead>\n",
       "    <tr style=\"text-align: right;\">\n",
       "      <th></th>\n",
       "      <th>category</th>\n",
       "      <th>not_protected</th>\n",
       "      <th>protected</th>\n",
       "      <th>percent_protected</th>\n",
       "    </tr>\n",
       "  </thead>\n",
       "  <tbody>\n",
       "    <tr>\n",
       "      <th>0</th>\n",
       "      <td>Amphibian</td>\n",
       "      <td>72</td>\n",
       "      <td>7</td>\n",
       "      <td>9.0</td>\n",
       "    </tr>\n",
       "    <tr>\n",
       "      <th>1</th>\n",
       "      <td>Bird</td>\n",
       "      <td>413</td>\n",
       "      <td>75</td>\n",
       "      <td>15.0</td>\n",
       "    </tr>\n",
       "    <tr>\n",
       "      <th>2</th>\n",
       "      <td>Fish</td>\n",
       "      <td>115</td>\n",
       "      <td>11</td>\n",
       "      <td>9.0</td>\n",
       "    </tr>\n",
       "    <tr>\n",
       "      <th>3</th>\n",
       "      <td>Mammal</td>\n",
       "      <td>146</td>\n",
       "      <td>30</td>\n",
       "      <td>17.0</td>\n",
       "    </tr>\n",
       "    <tr>\n",
       "      <th>4</th>\n",
       "      <td>Nonvascular Plant</td>\n",
       "      <td>328</td>\n",
       "      <td>5</td>\n",
       "      <td>2.0</td>\n",
       "    </tr>\n",
       "    <tr>\n",
       "      <th>5</th>\n",
       "      <td>Reptile</td>\n",
       "      <td>73</td>\n",
       "      <td>5</td>\n",
       "      <td>6.0</td>\n",
       "    </tr>\n",
       "    <tr>\n",
       "      <th>6</th>\n",
       "      <td>Vascular Plant</td>\n",
       "      <td>4216</td>\n",
       "      <td>46</td>\n",
       "      <td>1.0</td>\n",
       "    </tr>\n",
       "  </tbody>\n",
       "</table>\n",
       "</div>"
      ],
      "text/plain": [
       "            category  not_protected  protected  percent_protected\n",
       "0          Amphibian             72          7                9.0\n",
       "1               Bird            413         75               15.0\n",
       "2               Fish            115         11                9.0\n",
       "3             Mammal            146         30               17.0\n",
       "4  Nonvascular Plant            328          5                2.0\n",
       "5            Reptile             73          5                6.0\n",
       "6     Vascular Plant           4216         46                1.0"
      ]
     },
     "execution_count": 38,
     "metadata": {},
     "output_type": "execute_result"
    }
   ],
   "source": [
    "species['is_protected'] = species.conservation_status != 'No Intervention'\n",
    "\n",
    "category_counts = species.groupby(['category', 'is_protected'])\\\n",
    "                        .scientific_name.nunique()\\\n",
    "                        .reset_index()\\\n",
    "                        .pivot(columns='is_protected',\n",
    "                                      index='category').reset_index()\n",
    "category_counts.columns = ['category', 'not_protected', 'protected']\n",
    "\n",
    "category_counts['percent_protected'] = round ( category_counts.protected / \\\n",
    "                                      (category_counts.protected + category_counts.not_protected) * 100)\n",
    "\n",
    "category_counts"
   ]
  },
  {
   "cell_type": "markdown",
   "metadata": {},
   "source": [
    "pie plot of most protected species"
   ]
  },
  {
   "cell_type": "code",
   "execution_count": 39,
   "metadata": {},
   "outputs": [
    {
     "data": {
      "image/png": "[encoded data removed]",
      "text/plain": [
       "<Figure size 1000x800 with 1 Axes>"
      ]
     },
     "metadata": {},
     "output_type": "display_data"
    },
    {
     "data": {
      "text/plain": [
       "<Figure size 640x480 with 0 Axes>"
      ]
     },
     "metadata": {},
     "output_type": "display_data"
    }
   ],
   "source": [
    "plt.figure(figsize=(10, 8))\n",
    "plt.pie(category_counts['protected'] , autopct='%0.1f%%')\n",
    "    \n",
    "protects = ['Amphibian', 'Bird', 'Fish', 'Mammal', 'Nonvascular Plant',  'Reptile', 'Vascular Plant']\n",
    "\n",
    "plt.title(\"which category is most protected\")\n",
    "plt.legend(protects)\n",
    "\n",
    "plt.axis('equal')\n",
    "plt.show()\n",
    "plt.clf()"
   ]
  },
  {
   "cell_type": "markdown",
   "metadata": {},
   "source": [
    "Convertion status of each mammals scientific name"
   ]
  },
  {
   "cell_type": "code",
   "execution_count": 40,
   "metadata": {},
   "outputs": [
    {
     "data": {
      "text/html": [
       "<div>\n",
       "<style scoped>\n",
       "    .dataframe tbody tr th:only-of-type {\n",
       "        vertical-align: middle;\n",
       "    }\n",
       "\n",
       "    .dataframe tbody tr th {\n",
       "        vertical-align: top;\n",
       "    }\n",
       "\n",
       "    .dataframe thead th {\n",
       "        text-align: right;\n",
       "    }\n",
       "</style>\n",
       "<table border=\"1\" class=\"dataframe\">\n",
       "  <thead>\n",
       "    <tr style=\"text-align: right;\">\n",
       "      <th>scientific_name</th>\n",
       "      <th>Alces alces</th>\n",
       "      <th>Alces alces shirasi</th>\n",
       "      <th>Antilocapra americana</th>\n",
       "      <th>Antrozous pallidus</th>\n",
       "      <th>Aplodontia rufa californica</th>\n",
       "      <th>Bassariscus astutus</th>\n",
       "      <th>Bison bison</th>\n",
       "      <th>Blarina brevicauda</th>\n",
       "      <th>Bos bison</th>\n",
       "      <th>Bos taurus</th>\n",
       "      <th>...</th>\n",
       "      <th>Urocitellus beldingi</th>\n",
       "      <th>Urocyon cinereoargenteus</th>\n",
       "      <th>Ursus americanus</th>\n",
       "      <th>Ursus arctos</th>\n",
       "      <th>Ursus arctos horribilis</th>\n",
       "      <th>Vulpes fulva</th>\n",
       "      <th>Vulpes vulpes</th>\n",
       "      <th>Vulpes vulpes necator</th>\n",
       "      <th>Zapus hudsonius</th>\n",
       "      <th>Zapus princeps</th>\n",
       "    </tr>\n",
       "    <tr>\n",
       "      <th>conservation_status</th>\n",
       "      <th></th>\n",
       "      <th></th>\n",
       "      <th></th>\n",
       "      <th></th>\n",
       "      <th></th>\n",
       "      <th></th>\n",
       "      <th></th>\n",
       "      <th></th>\n",
       "      <th></th>\n",
       "      <th></th>\n",
       "      <th></th>\n",
       "      <th></th>\n",
       "      <th></th>\n",
       "      <th></th>\n",
       "      <th></th>\n",
       "      <th></th>\n",
       "      <th></th>\n",
       "      <th></th>\n",
       "      <th></th>\n",
       "      <th></th>\n",
       "      <th></th>\n",
       "    </tr>\n",
       "  </thead>\n",
       "  <tbody>\n",
       "    <tr>\n",
       "      <th>Endangered</th>\n",
       "      <td>NaN</td>\n",
       "      <td>NaN</td>\n",
       "      <td>NaN</td>\n",
       "      <td>NaN</td>\n",
       "      <td>NaN</td>\n",
       "      <td>NaN</td>\n",
       "      <td>NaN</td>\n",
       "      <td>NaN</td>\n",
       "      <td>NaN</td>\n",
       "      <td>NaN</td>\n",
       "      <td>...</td>\n",
       "      <td>NaN</td>\n",
       "      <td>NaN</td>\n",
       "      <td>NaN</td>\n",
       "      <td>NaN</td>\n",
       "      <td>NaN</td>\n",
       "      <td>NaN</td>\n",
       "      <td>NaN</td>\n",
       "      <td>NaN</td>\n",
       "      <td>NaN</td>\n",
       "      <td>NaN</td>\n",
       "    </tr>\n",
       "    <tr>\n",
       "      <th>In Recovery</th>\n",
       "      <td>NaN</td>\n",
       "      <td>NaN</td>\n",
       "      <td>NaN</td>\n",
       "      <td>NaN</td>\n",
       "      <td>NaN</td>\n",
       "      <td>NaN</td>\n",
       "      <td>NaN</td>\n",
       "      <td>NaN</td>\n",
       "      <td>NaN</td>\n",
       "      <td>NaN</td>\n",
       "      <td>...</td>\n",
       "      <td>NaN</td>\n",
       "      <td>NaN</td>\n",
       "      <td>NaN</td>\n",
       "      <td>NaN</td>\n",
       "      <td>NaN</td>\n",
       "      <td>NaN</td>\n",
       "      <td>NaN</td>\n",
       "      <td>NaN</td>\n",
       "      <td>NaN</td>\n",
       "      <td>NaN</td>\n",
       "    </tr>\n",
       "    <tr>\n",
       "      <th>No Intervention</th>\n",
       "      <td>1.0</td>\n",
       "      <td>1.0</td>\n",
       "      <td>1.0</td>\n",
       "      <td>NaN</td>\n",
       "      <td>NaN</td>\n",
       "      <td>NaN</td>\n",
       "      <td>1.0</td>\n",
       "      <td>1.0</td>\n",
       "      <td>1.0</td>\n",
       "      <td>1.0</td>\n",
       "      <td>...</td>\n",
       "      <td>1.0</td>\n",
       "      <td>2.0</td>\n",
       "      <td>2.0</td>\n",
       "      <td>1.0</td>\n",
       "      <td>NaN</td>\n",
       "      <td>1.0</td>\n",
       "      <td>1.0</td>\n",
       "      <td>1.0</td>\n",
       "      <td>1.0</td>\n",
       "      <td>1.0</td>\n",
       "    </tr>\n",
       "    <tr>\n",
       "      <th>Species of Concern</th>\n",
       "      <td>NaN</td>\n",
       "      <td>NaN</td>\n",
       "      <td>NaN</td>\n",
       "      <td>1.0</td>\n",
       "      <td>1.0</td>\n",
       "      <td>1.0</td>\n",
       "      <td>NaN</td>\n",
       "      <td>NaN</td>\n",
       "      <td>NaN</td>\n",
       "      <td>NaN</td>\n",
       "      <td>...</td>\n",
       "      <td>NaN</td>\n",
       "      <td>NaN</td>\n",
       "      <td>NaN</td>\n",
       "      <td>NaN</td>\n",
       "      <td>NaN</td>\n",
       "      <td>NaN</td>\n",
       "      <td>NaN</td>\n",
       "      <td>NaN</td>\n",
       "      <td>NaN</td>\n",
       "      <td>NaN</td>\n",
       "    </tr>\n",
       "    <tr>\n",
       "      <th>Threatened</th>\n",
       "      <td>NaN</td>\n",
       "      <td>NaN</td>\n",
       "      <td>NaN</td>\n",
       "      <td>NaN</td>\n",
       "      <td>NaN</td>\n",
       "      <td>NaN</td>\n",
       "      <td>NaN</td>\n",
       "      <td>NaN</td>\n",
       "      <td>NaN</td>\n",
       "      <td>NaN</td>\n",
       "      <td>...</td>\n",
       "      <td>NaN</td>\n",
       "      <td>NaN</td>\n",
       "      <td>NaN</td>\n",
       "      <td>NaN</td>\n",
       "      <td>1.0</td>\n",
       "      <td>NaN</td>\n",
       "      <td>NaN</td>\n",
       "      <td>NaN</td>\n",
       "      <td>NaN</td>\n",
       "      <td>NaN</td>\n",
       "    </tr>\n",
       "  </tbody>\n",
       "</table>\n",
       "<p>5 rows × 176 columns</p>\n",
       "</div>"
      ],
      "text/plain": [
       "scientific_name      Alces alces  Alces alces shirasi  Antilocapra americana  \\\n",
       "conservation_status                                                            \n",
       "Endangered                   NaN                  NaN                    NaN   \n",
       "In Recovery                  NaN                  NaN                    NaN   \n",
       "No Intervention              1.0                  1.0                    1.0   \n",
       "Species of Concern           NaN                  NaN                    NaN   \n",
       "Threatened                   NaN                  NaN                    NaN   \n",
       "\n",
       "scientific_name      Antrozous pallidus  Aplodontia rufa californica  \\\n",
       "conservation_status                                                    \n",
       "Endangered                          NaN                          NaN   \n",
       "In Recovery                         NaN                          NaN   \n",
       "No Intervention                     NaN                          NaN   \n",
       "Species of Concern                  1.0                          1.0   \n",
       "Threatened                          NaN                          NaN   \n",
       "\n",
       "scientific_name      Bassariscus astutus  Bison bison  Blarina brevicauda  \\\n",
       "conservation_status                                                         \n",
       "Endangered                           NaN          NaN                 NaN   \n",
       "In Recovery                          NaN          NaN                 NaN   \n",
       "No Intervention                      NaN          1.0                 1.0   \n",
       "Species of Concern                   1.0          NaN                 NaN   \n",
       "Threatened                           NaN          NaN                 NaN   \n",
       "\n",
       "scientific_name      Bos bison  Bos taurus  ...  Urocitellus beldingi  \\\n",
       "conservation_status                         ...                         \n",
       "Endangered                 NaN         NaN  ...                   NaN   \n",
       "In Recovery                NaN         NaN  ...                   NaN   \n",
       "No Intervention            1.0         1.0  ...                   1.0   \n",
       "Species of Concern         NaN         NaN  ...                   NaN   \n",
       "Threatened                 NaN         NaN  ...                   NaN   \n",
       "\n",
       "scientific_name      Urocyon cinereoargenteus  Ursus americanus  Ursus arctos  \\\n",
       "conservation_status                                                             \n",
       "Endangered                                NaN               NaN           NaN   \n",
       "In Recovery                               NaN               NaN           NaN   \n",
       "No Intervention                           2.0               2.0           1.0   \n",
       "Species of Concern                        NaN               NaN           NaN   \n",
       "Threatened                                NaN               NaN           NaN   \n",
       "\n",
       "scientific_name      Ursus arctos horribilis  Vulpes fulva  Vulpes vulpes  \\\n",
       "conservation_status                                                         \n",
       "Endangered                               NaN           NaN            NaN   \n",
       "In Recovery                              NaN           NaN            NaN   \n",
       "No Intervention                          NaN           1.0            1.0   \n",
       "Species of Concern                       NaN           NaN            NaN   \n",
       "Threatened                               1.0           NaN            NaN   \n",
       "\n",
       "scientific_name      Vulpes vulpes necator  Zapus hudsonius  Zapus princeps  \n",
       "conservation_status                                                          \n",
       "Endangered                             NaN              NaN             NaN  \n",
       "In Recovery                            NaN              NaN             NaN  \n",
       "No Intervention                        1.0              1.0             1.0  \n",
       "Species of Concern                     NaN              NaN             NaN  \n",
       "Threatened                             NaN              NaN             NaN  \n",
       "\n",
       "[5 rows x 176 columns]"
      ]
     },
     "execution_count": 40,
     "metadata": {},
     "output_type": "execute_result"
    }
   ],
   "source": [
    "M = species[species.category == \"Mammal\"]\\\n",
    "    .groupby([\"conservation_status\", \"scientific_name\"])['is_protected']\\\n",
    "    .count()\\\n",
    "    .unstack()\n",
    "\n",
    "M"
   ]
  },
  {
   "cell_type": "markdown",
   "metadata": {},
   "source": [
    "Top 20 Most Repetitive Names on scientific names"
   ]
  },
  {
   "cell_type": "code",
   "execution_count": 42,
   "metadata": {},
   "outputs": [
    {
     "name": "stdout",
     "output_type": "stream",
     "text": [
      "Top 20 Most Repetitive Common Names:\n",
      "             scientific_name  count\n",
      "0                Canis lupus     36\n",
      "1              Puma concolor     36\n",
      "2              Procyon lotor     36\n",
      "3           Myotis lucifugus     36\n",
      "4          Castor canadensis     36\n",
      "5         Ondatra zibethicus     16\n",
      "6             Sorex cinereus     16\n",
      "7         Erethizon dorsatum     16\n",
      "8                 Sus scrofa     16\n",
      "9    Corynorhinus townsendii     16\n",
      "10             Taxidea taxus     16\n",
      "11          Ursus americanus     16\n",
      "12      Didelphis virginiana     16\n",
      "13       Myotis californicus     16\n",
      "14          Martes americana     16\n",
      "15  Urocyon cinereoargenteus     16\n",
      "16      Microtus longicaudus     16\n",
      "17         Lasiurus cinereus     16\n",
      "18                Sorex hoyi     16\n",
      "19           Tamias umbrinus     16\n"
     ]
    }
   ],
   "source": [
    "# Use regex to find scientific names\n",
    "import re\n",
    "\n",
    "pattern = re.compile(r'\\b([A-Z][a-z]+ [a-z]+)\\b')\n",
    "output['names_found'] = output['scientific_name'].apply(lambda x: ', '.join(re.findall(pattern, x)))\n",
    "\n",
    "# Filter only Mammals\n",
    "mammals_df = output[output['category'] == 'Mammal']\n",
    "\n",
    "# Find the top 20 most repetitive common names\n",
    "top_common_names = mammals_df['scientific_name'].value_counts().nlargest(20).reset_index()\n",
    "top_common_names.columns = ['scientific_name', 'count']\n",
    "\n",
    "# Save the top common names to a new dataset\n",
    "top_common_names.to_csv('top_common_names.csv', index=False)\n",
    "\n",
    "# Display the results\n",
    "print(\"Top 20 Most Repetitive Common Names:\")\n",
    "print(top_common_names)"
   ]
  },
  {
   "cell_type": "code",
   "execution_count": null,
   "metadata": {},
   "outputs": [],
   "source": []
  }
 ],
 "metadata": {
  "kernelspec": {
   "display_name": "Python 3 (ipykernel)",
   "language": "python",
   "name": "python3"
  },
  "language_info": {
   "codemirror_mode": {
    "name": "ipython",
    "version": 3
   },
   "file_extension": ".py",
   "mimetype": "text/x-python",
   "name": "python",
   "nbconvert_exporter": "python",
   "pygments_lexer": "ipython3",
   "version": "3.11.3"
  }
 },
 "nbformat": 4,
 "nbformat_minor": 4
}
