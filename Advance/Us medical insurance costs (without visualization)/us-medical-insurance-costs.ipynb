{
 "cells": [
  {
   "cell_type": "markdown",
   "metadata": {},
   "source": [
    "# U.S. Medical Insurance Costs"
   ]
  },
  {
   "cell_type": "code",
   "execution_count": 8,
   "metadata": {},
   "outputs": [],
   "source": [
    "#open dataset\n",
    "import csv\n",
    "with open(\"insurance.csv\", newline='') as medical_dataset:\n",
    "    medical_reader = csv.DictReader(medical_dataset, delimiter=',')\n",
    "    # for row in medical_reader:\n",
    "    #     print(row)"
   ]
  },
  {
   "cell_type": "code",
   "execution_count": 9,
   "metadata": {},
   "outputs": [],
   "source": [
    "#add rows to a list\n",
    "import csv\n",
    "with open(\"insurance.csv\", newline='') as medical_dataset:\n",
    "    medical_reader = csv.DictReader(medical_dataset, delimiter=',')\n",
    "    insurance_list = []\n",
    "    for row in medical_reader:\n",
    "        insurance_list.append(row)\n",
    "# print(insurance_list)"
   ]
  },
  {
   "cell_type": "code",
   "execution_count": 11,
   "metadata": {},
   "outputs": [],
   "source": [
    "#add insurance to a list\n",
    "sum_charge = []\n",
    "for charge in insurance_list:\n",
    "    current_charge = charge['charges']\n",
    "    sum_charge.append(current_charge)\n",
    "# print(sum_charge)"
   ]
  },
  {
   "cell_type": "code",
   "execution_count": 12,
   "metadata": {},
   "outputs": [
    {
     "name": "stdout",
     "output_type": "stream",
     "text": [
      "Avrage medical insurance charge is: 13270.422265141257\n"
     ]
    }
   ],
   "source": [
    "#turn string numbers to float and return avrage charges\n",
    "sum_charges = 0\n",
    "for charges_string in sum_charge:\n",
    "    sum_charges += float(charges_string)\n",
    "avg_charges = sum_charges/len(sum_charge)\n",
    "print(\"Avrage medical insurance charge is: \" + str(avg_charges))"
   ]
  },
  {
   "cell_type": "code",
   "execution_count": 13,
   "metadata": {},
   "outputs": [
    {
     "name": "stdout",
     "output_type": "stream",
     "text": [
      "Avrage insurance cost for females is 12569.57884383534\n",
      "Avrage insurance cost for males is : 14251.909057613286\n",
      "Avrage insurance cost for childless families is : 12365.975601635882\n",
      "Avrage insurance cost for one child families is : 12731.171831635793\n",
      "Avrage insurance cost for two child families is : 15073.563733958328\n",
      "Avrage insurance cost for three child families is : 15355.31836681528\n",
      "Avrage insurance cost for big families is : 11730.582377441857\n",
      "Avrage insurance cost for smokers is : 32050.23183153285\n",
      "Avrage insurance cost for none smokers is : 8434.268297856199\n",
      "Avrage insurance cost for southwest is : 12346.93737729231\n",
      "Avrage insurance cost for southwest is : 12346.93737729231\n",
      "Avrage insurance cost for northwest is : 12417.575373969228\n",
      "Avrage insurance cost for northeast is : 13406.3845163858.\n"
     ]
    }
   ],
   "source": [
    "    #avrage insurance cost by sex\n",
    "    female_charges = [0, 0]\n",
    "    male_charges = [0, 0]\n",
    "    #second index of list is counter\n",
    "    for item in insurance_list:\n",
    "        if item['sex'] == 'female':\n",
    "            female_charges[0] += float(item['charges'])\n",
    "            female_charges[1] += 1\n",
    "        elif item['sex'] == 'male':\n",
    "            male_charges[0] += float(item['charges'])\n",
    "            male_charges[1] += 1\n",
    "    avrage_female_charges = female_charges[0]/female_charges[1]\n",
    "    avrage_male_charges = male_charges[0]/female_charges[1]\n",
    "    \n",
    "    #avrage insurance cost by children\n",
    "    childrenless_charges = [0, 0]\n",
    "    one_children_charges = [0, 0]\n",
    "    two_children_charges = [0, 0]\n",
    "    three_children_charges = [0, 0]\n",
    "    big_family_charges = [0, 0]\n",
    "    \n",
    "    for item in insurance_list:\n",
    "        if item['children'] == \"0\":\n",
    "            childrenless_charges[0] += float(item['charges'])\n",
    "            childrenless_charges[1] += 1\n",
    "        elif item['children'] == \"1\":\n",
    "            one_children_charges[0] += float(item['charges'])\n",
    "            one_children_charges[1] += 1\n",
    "        elif item['children'] == \"2\":\n",
    "            two_children_charges[0] += float(item['charges'])\n",
    "            two_children_charges[1] += 1\n",
    "        elif item['children'] == \"3\":\n",
    "            three_children_charges[0] += float(item['charges'])\n",
    "            three_children_charges[1] += 1\n",
    "        elif int(item['children']) >= 4:\n",
    "            big_family_charges[0] += float(item['charges'])\n",
    "            big_family_charges[1] += 1\n",
    "            \n",
    "    avrage_childrenless_charges = childrenless_charges[0]/childrenless_charges[1]\n",
    "    avrage_one_children_charges = one_children_charges[0]/one_children_charges[1]\n",
    "    avrage_two_children_charges = two_children_charges[0]/two_children_charges[1]\n",
    "    avrage_three_children_charges = three_children_charges[0]/three_children_charges[1]\n",
    "    avrage_big_family_charges = big_family_charges[0]/big_family_charges[1]\n",
    "    \n",
    "    #avrage insurance cost by smoker\n",
    "    smoker_charges = [0, 0]\n",
    "    none_smoker_charges = [0, 0]\n",
    "    for item in insurance_list:\n",
    "        if item['smoker'] == 'yes':\n",
    "            smoker_charges[0] += float(item['charges'])\n",
    "            smoker_charges[1] += 1\n",
    "        elif item['smoker'] == 'no':\n",
    "            none_smoker_charges[0] += float(item['charges'])\n",
    "            none_smoker_charges[1] += 1\n",
    "    avrage_smoker_charges = smoker_charges[0]/smoker_charges[1]\n",
    "    avrage_none_smoker_charges = none_smoker_charges[0]/none_smoker_charges[1]\n",
    "    \n",
    "    #avrage insurance cost by region\n",
    "    southwest_charges = [0, 0]\n",
    "    southeast_charges = [0, 0]\n",
    "    northwest_charges = [0, 0]\n",
    "    northeast_charges = [0, 0]\n",
    "    \n",
    "    for item in insurance_list:\n",
    "        if item['region'] == \"southwest\":\n",
    "            southwest_charges[0] += float(item['charges'])\n",
    "            southwest_charges[1] += 1\n",
    "        elif item['region'] == \"southeast\":\n",
    "            southeast_charges[0] += float(item['charges'])\n",
    "            southeast_charges[1] += 1\n",
    "        elif item['region'] == \"northwest\":\n",
    "            northwest_charges[0] += float(item['charges'])\n",
    "            northwest_charges[1] += 1\n",
    "        elif item['region'] == \"northeast\":\n",
    "            northeast_charges[0] += float(item['charges'])\n",
    "            northeast_charges[1] += 1\n",
    "\n",
    "            \n",
    "    avrage_southwest_charges = southwest_charges[0]/southwest_charges[1]\n",
    "    avrage_southeast_charges = southeast_charges[0]/southeast_charges[1]\n",
    "    avrage_northwest_charges = northwest_charges[0]/northwest_charges[1]\n",
    "    avrage_northeast_charges = northeast_charges[0]/northeast_charges[1]\n",
    "    \n",
    "    print(\"Avrage insurance cost for females is \" + str(avrage_female_charges) + '\\n'\n",
    "         \"Avrage insurance cost for males is : \" + str(avrage_male_charges) + '\\n'\n",
    "         \"Avrage insurance cost for childless families is : \" + str(avrage_childrenless_charges) + '\\n'\n",
    "         \"Avrage insurance cost for one child families is : \" + str(avrage_one_children_charges) + '\\n'\n",
    "         \"Avrage insurance cost for two child families is : \" + str(avrage_two_children_charges) + '\\n'\n",
    "         \"Avrage insurance cost for three child families is : \" + str(avrage_three_children_charges) + '\\n'\n",
    "         \"Avrage insurance cost for big families is : \" + str(avrage_big_family_charges) + '\\n'\n",
    "         \"Avrage insurance cost for smokers is : \" + str(avrage_smoker_charges) + '\\n'\n",
    "         \"Avrage insurance cost for none smokers is : \" + str(avrage_none_smoker_charges) + '\\n'\n",
    "         \"Avrage insurance cost for southwest is : \" + str(avrage_southwest_charges) + '\\n'\n",
    "         \"Avrage insurance cost for southwest is : \" + str(avrage_southwest_charges) + '\\n'\n",
    "         \"Avrage insurance cost for northwest is : \" + str(avrage_northwest_charges) + '\\n'\n",
    "        \"Avrage insurance cost for northeast is : \" + str(avrage_northeast_charges) + \".\")"
   ]
  },
  {
   "cell_type": "code",
   "execution_count": 14,
   "metadata": {},
   "outputs": [
    {
     "name": "stdout",
     "output_type": "stream",
     "text": [
      "Diffrence of insurance costs between smokers and none smoker is about 23616 and between male and female is about 1682\n"
     ]
    }
   ],
   "source": [
    "#diffrence of insurance costs\n",
    "dif_smoker = avrage_smoker_charges - avrage_none_smoker_charges\n",
    "dif_sex = avrage_male_charges - avrage_female_charges\n",
    "diffrence = \"Diffrence of insurance costs between smokers and none smoker is about {} and between male and female is about {}\"\n",
    "print(diffrence.format(round(dif_smoker), round(dif_sex)))"
   ]
  },
  {
   "cell_type": "code",
   "execution_count": 15,
   "metadata": {},
   "outputs": [
    {
     "name": "stdout",
     "output_type": "stream",
     "text": [
      "About 17% females are smoker and 24% males are smoker.\n"
     ]
    }
   ],
   "source": [
    "#smoke percentage\n",
    "female_smoker = 0\n",
    "male_smoker = 0\n",
    "for item in insurance_list:\n",
    "        if item['sex'] == 'female' and item['smoker'] == 'yes':\n",
    "            female_smoker += 1\n",
    "        elif item['sex'] == 'male' and item['smoker'] == 'yes':\n",
    "            male_smoker += 1\n",
    "            \n",
    "female_smoke = round((female_smoker/female_charges[1])*100)\n",
    "male_smoke = round((male_smoker/male_charges[1])*100)\n",
    "print(\"About \" + str(female_smoke) + \"% females are smoker and \" + str(male_smoke) + \"% males are smoker.\")\n"
   ]
  },
  {
   "cell_type": "code",
   "execution_count": 16,
   "metadata": {},
   "outputs": [
    {
     "name": "stdout",
     "output_type": "stream",
     "text": [
      "Redundancy of regoins for medical insurance cost is about : \n",
      " Southwest : 24 % \n",
      " Southeast : 27 % \n",
      " Northwest : 24 % \n",
      " Northeast : 24 %\n",
      "Redundancy of sexs for medical insurance cost is : \n",
      " Female : 49 % \n",
      " Male : 51 %\n"
     ]
    }
   ],
   "source": [
    "southwest_percentage = (southwest_charges[1]/len(insurance_list))*100\n",
    "southeast_percentage = (southeast_charges[1]/len(insurance_list))*100\n",
    "northwest_percentage = (northwest_charges[1]/len(insurance_list))*100\n",
    "northeast_percentage = (northeast_charges[1]/len(insurance_list))*100\n",
    "female_percentage = (female_charges[1]/len(insurance_list))*100\n",
    "male_percentage = (male_charges[1]/len(insurance_list))*100\n",
    "\n",
    "region_percentage = \"Redundancy of regoins for medical insurance cost is about : \\n Southwest : {} % \\n Southeast : {} % \\n Northwest : {} % \\n Northeast : {} %\"\n",
    "print(region_percentage.format(round(southwest_percentage), round(southeast_percentage), round(northwest_percentage), round(northeast_percentage)))\n",
    "\n",
    "sex_percentage = \"Redundancy of sexs for medical insurance cost is : \\n Female : {} % \\n Male : {} %\"\n",
    "print(sex_percentage.format(round(female_percentage), round(male_percentage)))"
   ]
  },
  {
   "cell_type": "code",
   "execution_count": 17,
   "metadata": {},
   "outputs": [
    {
     "name": "stdout",
     "output_type": "stream",
     "text": [
      "Avrage age is : 39\n",
      "Avrage bmi is : 31\n"
     ]
    }
   ],
   "source": [
    "#avrage age\n",
    "sum_ages = 0\n",
    "for ages in insurance_list:\n",
    "    sum_ages += float(ages[\"age\"])\n",
    "avr_age = sum_ages/len(insurance_list)\n",
    "print(\"Avrage age is : \" + str(round(avr_age)))\n",
    "      \n",
    "#avrage bmi\n",
    "sum_bmi = 0\n",
    "for bmis in insurance_list:\n",
    "    sum_bmi += float(bmis[\"bmi\"])\n",
    "avr_bmi = sum_bmi/len(insurance_list)\n",
    "print(\"Avrage bmi is : \" + str(round(avr_bmi)))"
   ]
  },
  {
   "cell_type": "code",
   "execution_count": 18,
   "metadata": {},
   "outputs": [
    {
     "name": "stdout",
     "output_type": "stream",
     "text": [
      "Avrage female bmi is : 30.377749244713023 and avrage male bmi is : 30.377749244713023\n"
     ]
    }
   ],
   "source": [
    "#finding avrage sex bmi\n",
    "female_bmi = 0\n",
    "male_bmi = 0\n",
    "for item in insurance_list:\n",
    "        if item['sex'] == 'female':\n",
    "            female_bmi += float(item['bmi'])\n",
    "        elif item['sex'] == 'male':\n",
    "            male_bmi += float(item['bmi'])\n",
    "avrage_female_bmi = female_bmi/female_charges[1]\n",
    "avrage_male_bmii = male_bmi/male_charges[1]\n",
    "print(\"Avrage female bmi is : \" + str(avrage_female_bmi) + \" and avrage male bmi is : \" + str(avrage_female_bmi))"
   ]
  },
  {
   "cell_type": "code",
   "execution_count": 19,
   "metadata": {},
   "outputs": [
    {
     "name": "stdout",
     "output_type": "stream",
     "text": [
      "Avrage people who are in 10s, bmi, charges and number of childs, in order is about : 30 & 8407$ & 0\n",
      "Avrage people who are in 20s, bmi, charges and number of childs, in order is about : 30 & 9562$ & 2\n",
      "Avrage people who are in 30s, bmi, charges and number of childs, in order is about : 30 & 11739$ & 3\n",
      "Avrage people who are in 40s, bmi, charges and number of childs, in order is about : 31 & 14399$ & 3\n",
      "Avrage people who are in 50s, bmi, charges and number of childs, in order is about : 32 & 16495$ & 2\n",
      "Avrage people who are in 60s, bmi, charges and number of childs, in order is about : 32 & 21248$ & 0\n",
      "\n"
     ]
    }
   ],
   "source": [
    "#avrage age bmi\n",
    "in_10s_bmi = [0,0]\n",
    "in_20s_bmi = [0,0]\n",
    "in_30s_bmi = [0,0]\n",
    "in_40s_bmi = [0,0]\n",
    "in_50s_bmi = [0,0]\n",
    "in_60s_bmi = [0,0]\n",
    "\n",
    "\n",
    "for item in insurance_list:\n",
    "        if float(item[\"age\"]) < 20:\n",
    "            in_10s_bmi[0] += float(item['bmi'])\n",
    "            in_10s_bmi[1] += 1\n",
    "        elif 20 <= float(item[\"age\"]) < 30:\n",
    "            in_20s_bmi[0] += float(item['bmi'])\n",
    "            in_20s_bmi[1] += 1\n",
    "        elif 30 <= float(item[\"age\"]) < 40:\n",
    "            in_30s_bmi[0] += float(item['bmi'])\n",
    "            in_30s_bmi[1] += 1\n",
    "        elif 40 <= float(item[\"age\"]) < 50:\n",
    "            in_40s_bmi[0] += float(item['bmi'])\n",
    "            in_40s_bmi[1] += 1\n",
    "        elif 50 <= float(item[\"age\"]) < 60:\n",
    "            in_50s_bmi[0] += float(item['bmi'])\n",
    "            in_50s_bmi[1] += 1\n",
    "        elif 60 <= float(item[\"age\"]) < 70:\n",
    "            in_60s_bmi[0] += float(item['bmi'])\n",
    "            in_60s_bmi[1] += 1\n",
    "\n",
    "\n",
    "#avrage age charges\n",
    "in_10s_charges = 0\n",
    "in_20s_charges = 0\n",
    "in_30s_charges = 0\n",
    "in_40s_charges = 0\n",
    "in_50s_charges = 0\n",
    "in_60s_charges = 0\n",
    "\n",
    "\n",
    "for item in insurance_list:\n",
    "        if float(item[\"age\"]) < 20:\n",
    "            in_10s_charges += float(item['charges'])\n",
    "        elif 20 <= float(item[\"age\"]) < 30:\n",
    "            in_20s_charges += float(item['charges'])\n",
    "        elif 30 <= float(item[\"age\"]) < 40:\n",
    "            in_30s_charges += float(item['charges'])\n",
    "        elif 40 <= float(item[\"age\"]) < 50:\n",
    "            in_40s_charges += float(item['charges'])\n",
    "        elif 50 <= float(item[\"age\"]) < 60:\n",
    "            in_50s_charges += float(item['charges'])\n",
    "        elif 60 <= float(item[\"age\"]) < 70:\n",
    "            in_60s_charges += float(item['charges'])\n",
    "\n",
    "#avrage age childs\n",
    "in_10s_childs = 0\n",
    "in_20s_childs = 0\n",
    "in_30s_childs = 0\n",
    "in_40s_childs = 0\n",
    "in_50s_childs = 0\n",
    "in_60s_childs = 0\n",
    "\n",
    "\n",
    "for item in insurance_list:\n",
    "        if float(item[\"age\"]) < 20:\n",
    "            in_10s_childs += float(item['children'])\n",
    "        elif 20 <= float(item[\"age\"]) < 30:\n",
    "            in_20s_childs += float(item['children'])\n",
    "        elif 30 <= float(item[\"age\"]) < 40:\n",
    "            in_30s_childs += float(item['children'])\n",
    "        elif 40 <= float(item[\"age\"]) < 50:\n",
    "            in_40s_childs += float(item['children'])\n",
    "        elif 50 <= float(item[\"age\"]) < 60:\n",
    "            in_50s_childs += float(item['children'])\n",
    "        elif 60 <= float(item[\"age\"]) < 70:\n",
    "            in_60s_childs += float(item['children'])\n",
    "            \n",
    "print(  \n",
    "        \"Avrage people who are in 10s, bmi, charges and number of childs, in order is about : \" + str(round(in_10s_bmi[0]/in_10s_bmi[1])) + \" & \" + str(round(in_10s_charges/in_10s_bmi[1])) + \"$ & \" + str(round(in_10s_childs/in_10s_bmi[1])) + \"\\n\"\n",
    "        \"Avrage people who are in 20s, bmi, charges and number of childs, in order is about : \" + str(round(in_20s_bmi[0]/in_20s_bmi[1])) + \" & \" + str(round(in_20s_charges/in_20s_bmi[1])) + \"$ & \" + str(round(in_20s_childs/in_10s_bmi[1]))+ \"\\n\"\n",
    "        \"Avrage people who are in 30s, bmi, charges and number of childs, in order is about : \" + str(round(in_30s_bmi[0]/in_30s_bmi[1])) + \" & \" + str(round(in_30s_charges/in_30s_bmi[1])) + \"$ & \" + str(round(in_30s_childs/in_10s_bmi[1]))+ \"\\n\"\n",
    "        \"Avrage people who are in 40s, bmi, charges and number of childs, in order is about : \" + str(round(in_40s_bmi[0]/in_40s_bmi[1])) + \" & \" + str(round(in_40s_charges/in_40s_bmi[1])) + \"$ & \" + str(round(in_40s_childs/in_10s_bmi[1]))+ \"\\n\"\n",
    "        \"Avrage people who are in 50s, bmi, charges and number of childs, in order is about : \" + str(round(in_50s_bmi[0]/in_50s_bmi[1])) + \" & \" + str(round(in_50s_charges/in_50s_bmi[1])) + \"$ & \" + str(round(in_50s_childs/in_10s_bmi[1]))+ \"\\n\"\n",
    "        \"Avrage people who are in 60s, bmi, charges and number of childs, in order is about : \" + str(round(in_60s_bmi[0]/in_60s_bmi[1])) + \" & \" + str(round(in_60s_charges/in_60s_bmi[1])) + \"$ & \" + str(round(in_60s_childs/in_10s_bmi[1]))+ \"\\n\"\n",
    "        \n",
    ")\n",
    "        "
   ]
  },
  {
   "cell_type": "code",
   "execution_count": 20,
   "metadata": {},
   "outputs": [
    {
     "name": "stdout",
     "output_type": "stream",
     "text": [
      "Avrage 10-20 bmi charges is about : 8839$ \n",
      "Avrage 20-30 bmi charges is about : 10844$ \n",
      "Avrage 30-40 bmi charges is about : 15370$ \n",
      "Avrage 40-50 bmi charges is about : 16810$ \n",
      "Avrage 50-60 bmi charges is about : 16034$ \n",
      "\n"
     ]
    }
   ],
   "source": [
    "#bmi charges\n",
    "tens_bmi = [0,0]\n",
    "twentys_bmi = [0,0]\n",
    "thirtys_bmi = [0,0]\n",
    "fourtys_bmi = [0,0]\n",
    "fiftys_bmi = [0,0]\n",
    "\n",
    "\n",
    "for item in insurance_list:\n",
    "        if float(item[\"bmi\"]) < 20:\n",
    "            tens_bmi[0] += float(item['charges'])\n",
    "            tens_bmi[1] += 1\n",
    "        elif 20 <= float(item[\"bmi\"]) < 30:\n",
    "            twentys_bmi[0] += float(item['charges'])\n",
    "            twentys_bmi[1] += 1\n",
    "        elif 30 <= float(item[\"bmi\"]) < 40:\n",
    "            thirtys_bmi[0] += float(item['charges'])\n",
    "            thirtys_bmi[1] += 1\n",
    "        elif 40 <= float(item[\"bmi\"]) < 50:\n",
    "            fourtys_bmi[0] += float(item['charges'])\n",
    "            fourtys_bmi[1] += 1\n",
    "        elif 50 <= float(item[\"bmi\"]) < 60:\n",
    "            fiftys_bmi[0] += float(item['charges'])\n",
    "            fiftys_bmi[1] += 1\n",
    "\n",
    "print(  \n",
    "        \"Avrage 10-20 bmi charges is about : \" + str(round(tens_bmi[0]/tens_bmi[1])) + \"$ \\n\"\n",
    "        \"Avrage 20-30 bmi charges is about : \" + str(round(twentys_bmi[0]/twentys_bmi[1])) + \"$ \\n\"\n",
    "        \"Avrage 30-40 bmi charges is about : \" + str(round(thirtys_bmi[0]/thirtys_bmi[1])) + \"$ \\n\"\n",
    "        \"Avrage 40-50 bmi charges is about : \" + str(round(fourtys_bmi[0]/fourtys_bmi[1])) + \"$ \\n\"\n",
    "        \"Avrage 50-60 bmi charges is about : \" + str(round(fiftys_bmi[0]/fiftys_bmi[1])) + \"$ \\n\"\n",
    ")"
   ]
  },
  {
   "cell_type": "code",
   "execution_count": 21,
   "metadata": {},
   "outputs": [
    {
     "name": "stdout",
     "output_type": "stream",
     "text": [
      "Avrage southwest bmi is : 30.59661538461538\n",
      "Avrage southeast bmi is : 33.35598901098903\n",
      "Avrage northwest bmi is : 29.199784615384626\n",
      "Avrage northeast bmi is : 29.17350308641976.\n"
     ]
    }
   ],
   "source": [
    "#avrage insurance cost by region\n",
    "southwest_avg_bmi = 0\n",
    "southeast_avg_bmi = 0\n",
    "northwest_avg_bmi = 0\n",
    "northeast_avg_bmi = 0\n",
    "    \n",
    "for item in insurance_list:\n",
    "        if item['region'] == \"southwest\":\n",
    "            southwest_avg_bmi += float(item['bmi'])\n",
    "        elif item['region'] == \"southeast\" :\n",
    "            southeast_avg_bmi += float(item['bmi'])\n",
    "        elif item['region'] == \"northwest\":\n",
    "            northwest_avg_bmi += float(item['bmi'])\n",
    "        elif item['region'] == \"northeast\":\n",
    "            northeast_avg_bmi += float(item['bmi'])\n",
    "            \n",
    "print(\n",
    "        \"Avrage southwest bmi is : \" + str(southwest_avg_bmi/southwest_charges[1]) + '\\n'\n",
    "        \"Avrage southeast bmi is : \" + str(southeast_avg_bmi/southeast_charges[1]) + '\\n'\n",
    "        \"Avrage northwest bmi is : \" + str(northwest_avg_bmi/northwest_charges[1]) + '\\n'\n",
    "        \"Avrage northeast bmi is : \" + str(northeast_avg_bmi/northeast_charges[1]) + \".\"\n",
    ")"
   ]
  },
  {
   "cell_type": "code",
   "execution_count": null,
   "metadata": {},
   "outputs": [],
   "source": []
  }
 ],
 "metadata": {
  "kernelspec": {
   "display_name": "Python 3 (ipykernel)",
   "language": "python",
   "name": "python3"
  },
  "language_info": {
   "codemirror_mode": {
    "name": "ipython",
    "version": 3
   },
   "file_extension": ".py",
   "mimetype": "text/x-python",
   "name": "python",
   "nbconvert_exporter": "python",
   "pygments_lexer": "ipython3",
   "version": "3.11.7"
  }
 },
 "nbformat": 4,
 "nbformat_minor": 4
}
